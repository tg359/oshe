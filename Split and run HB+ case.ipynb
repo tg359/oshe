{
 "cells": [
  {
   "cell_type": "code",
   "execution_count": 28,
   "metadata": {},
   "outputs": [
    {
     "data": {
      "text/html": [
       "<style>.container { width:95% !important; }</style>"
      ],
      "text/plain": [
       "<IPython.core.display.HTML object>"
      ]
     },
     "metadata": {},
     "output_type": "display_data"
    }
   ],
   "source": [
    "from IPython.core.display import display, HTML\n",
    "display(HTML(\"<style>.container { width:95% !important; }</style>\"))\n",
    "\n",
    "import pathlib\n",
    "import subprocess\n",
    "import numpy as np\n",
    "from multiprocessing import Pool\n"
   ]
  },
  {
   "cell_type": "code",
   "execution_count": 58,
   "metadata": {
    "code_folding": [
     10,
     49
    ]
   },
   "outputs": [
    {
     "data": {
      "text/plain": [
       "HBRad\n",
       "- source_directory: WindowsPath('C:/Users/tgerrish/Desktop/_0Ghadan21/EXAMPLE/gridbased_annual')\n",
       "- source_pts: WindowsPath('C:/Users/tgerrish/Desktop/_0Ghadan21/EXAMPLE/gridbased_annual/EXAMPLE.pts')\n",
       "- n_processes: 2\n",
       "- sub_pts: [WindowsPath('C:/Users/tgerrish/Desktop/_0Ghadan21/EXAMPLE/gridbased_annual/EXAMPLE_000.pts'), WindowsPath('C:/Users/tgerrish/Desktop/_0Ghadan21/EXAMPLE/gridbased_annual/EXAMPLE_001.pts')]\n",
       "- bat_file: WindowsPath('C:/Users/tgerrish/Desktop/_0Ghadan21/EXAMPLE/gridbased_annual/commands.bat')\n",
       "- bat_init: WindowsPath('C:/Users/tgerrish/Desktop/_0Ghadan21/EXAMPLE/gridbased_annual/commands_init.bat')\n",
       "- sub_bat_files: [WindowsPath('C:/Users/tgerrish/Desktop/_0Ghadan21/EXAMPLE/gridbased_annual/commands_000.bat'), WindowsPath('C:/Users/tgerrish/Desktop/_0Ghadan21/EXAMPLE/gridbased_annual/commands_001.bat')]"
      ]
     },
     "execution_count": 58,
     "metadata": {},
     "output_type": "execute_result"
    }
   ],
   "source": [
    "class HBRad(object):\n",
    "    def __init__(self, source_directory, n_processes=1):\n",
    "        self.source_directory = pathlib.Path(source_directory)\n",
    "        self.source_pts = self.find_pts()\n",
    "        self.n_processes = n_processes\n",
    "        self.sub_pts = self.split_pts_file()\n",
    "        self.bat_file = self.source_directory / \"commands.bat\"\n",
    "        self.bat_init = None\n",
    "        self.sub_bat_files = self.split_bat_file()\n",
    "    \n",
    "    def find_pts(self):\n",
    "        return list(pathlib.Path(self.source_directory).glob('**/*{}'.format(\".pts\")))[0]\n",
    "    \n",
    "    def split_bat_file(self):\n",
    "        # Get header and find line where calculation starts\n",
    "        with open(self.bat_file, \"r\") as f:\n",
    "            bat_commands = [i.strip() for i in f.readlines()]\n",
    "        for n, i in enumerate(bat_commands):\n",
    "            if i == \"\": \n",
    "                header_idx = n\n",
    "            if \"start of the calculation for scene\" in i:\n",
    "                split_idx = n\n",
    "            if \" > analemma.oct\" in i:\n",
    "                analemma_idx = n\n",
    "        \n",
    "        # Put the initial smx commands into their own bat_init file\n",
    "        self.bat_init = self.source_directory / \"{0:}_init.bat\".format(self.bat_file.stem)\n",
    "        header = bat_commands[:split_idx] + [bat_commands[analemma_idx]]\n",
    "        with open(self.bat_init, \"w\") as f:\n",
    "            for i in header:\n",
    "                if \"echo\" in i:\n",
    "                    pass\n",
    "                else:\n",
    "                    f.write(\"{0:}\\n\".format(i))\n",
    "        \n",
    "        # Put the remainder of the bat commands into pts-set respective files\n",
    "        sub_bat_files = []\n",
    "        for i in range(self.n_processes):\n",
    "            base_outstr = bat_commands[:header_idx] + bat_commands[split_idx:analemma_idx] + bat_commands[analemma_idx+1:]\n",
    "            outstr = []\n",
    "            for j in base_outstr:\n",
    "                if \"echo\" in j:\n",
    "                    pass\n",
    "                else:\n",
    "                    outstr.append(j.replace(self.source_pts.name, \"{0:}_{1:03d}.pts\".format(self.source_pts.stem, i)).replace(\".dc\", \"_{0:03d}.dc\".format(i)).replace(\".rgb\", \"_{0:03d}.rgb\".format(i)).replace(\".ill\", \"_{0:03d}.ill\".format(i)))\n",
    "            sub_bat_file = self.source_directory / \"{0:}_{1:03d}.bat\".format(self.bat_file.stem, i)\n",
    "            with open(sub_bat_file, \"w\") as f:\n",
    "                f.write(\"\\n\".join(outstr))\n",
    "            sub_bat_files.append(sub_bat_file)\n",
    "        return sub_bat_files\n",
    "        \n",
    "    \n",
    "    def split_pts_file(self):\n",
    "        sub_pts = []\n",
    "        with open(self.source_pts, \"r\") as f:\n",
    "            src_pts = [i.strip() for i in f.readlines()]\n",
    "        src_pts_split = chunks(src_pts, self.n_processes)\n",
    "        \n",
    "        for i in range(self.n_processes):\n",
    "            sub_pts_file = self.source_directory / \"{0:}_{1:03d}.pts\".format(self.source_pts.stem, i)\n",
    "            with open(sub_pts_file, \"w\") as f:\n",
    "                f.write(\"\\n\".join(src_pts_split[i]))\n",
    "            sub_pts.append(sub_pts_file)\n",
    "        return sub_pts\n",
    "    \n",
    "    def __repr__(self):\n",
    "        return \"{klass}\\n{attrs}\".format(\n",
    "            klass=self.__class__.__name__,\n",
    "            attrs=\"\\n\".join(\"- {}: {!r}\".format(k, v) for k, v in self.__dict__.items()),\n",
    "        )\n",
    "\n",
    "def chunks(enumerable, n=None):\n",
    "    enumerable = np.array(enumerable)\n",
    "    return [i for i in np.array_split(enumerable, n)]\n",
    "\n",
    "HBRad(\n",
    "    source_directory=r\"C:\\Users\\tgerrish\\Desktop\\_0Ghadan21\\EXAMPLE\\gridbased_annual\", \n",
    "    n_processes=2\n",
    ")"
   ]
  }
 ],
 "metadata": {
  "kernelspec": {
   "display_name": "Python 3",
   "language": "python",
   "name": "python3"
  },
  "language_info": {
   "codemirror_mode": {
    "name": "ipython",
    "version": 3
   },
   "file_extension": ".py",
   "mimetype": "text/x-python",
   "name": "python",
   "nbconvert_exporter": "python",
   "pygments_lexer": "ipython3",
   "version": "3.7.6"
  }
 },
 "nbformat": 4,
 "nbformat_minor": 4
}
