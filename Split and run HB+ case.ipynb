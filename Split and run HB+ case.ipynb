{
 "cells": [
  {
   "cell_type": "code",
   "execution_count": 3,
   "metadata": {},
   "outputs": [
    {
     "data": {
      "text/html": [
       "<style>.container { width:95% !important; }</style>"
      ],
      "text/plain": [
       "<IPython.core.display.HTML object>"
      ]
     },
     "metadata": {},
     "output_type": "display_data"
    },
    {
     "name": "stdout",
     "output_type": "stream",
     "text": [
      "The autoreload extension is already loaded. To reload it, use:\n",
      "  %reload_ext autoreload\n"
     ]
    }
   ],
   "source": [
    "from IPython.core.display import display, HTML\n",
    "display(HTML(\"<style>.container { width:95% !important; }</style>\"))\n",
    "\n",
    "%load_ext autoreload\n",
    "%autoreload 2\n",
    "\n",
    "import oshe as tc\n"
   ]
  },
  {
   "cell_type": "code",
   "execution_count": 11,
   "metadata": {},
   "outputs": [
    {
     "data": {
      "text/plain": [
       "HBRad\n",
       "- source_directory: WindowsPath('C:/Users/tgerrish/Desktop/SplitCase0/gridbased_radiation')\n",
       "- source_pts: WindowsPath('C:/Users/tgerrish/Desktop/SplitCase0/gridbased_radiation/SplitCase0.pts')\n",
       "- n_processes: 2\n",
       "- sub_pts: [WindowsPath('C:/Users/tgerrish/Desktop/SplitCase0/gridbased_radiation/SplitCase0_000.pts'), WindowsPath('C:/Users/tgerrish/Desktop/SplitCase0/gridbased_radiation/SplitCase0_001.pts')]\n",
       "- bat_file: WindowsPath('C:/Users/tgerrish/Desktop/SplitCase0/gridbased_radiation/commands.bat')\n",
       "- bat_init: WindowsPath('C:/Users/tgerrish/Desktop/SplitCase0/gridbased_radiation/commands_init.bat')\n",
       "- sub_bat_files: [WindowsPath('C:/Users/tgerrish/Desktop/SplitCase0/gridbased_radiation/commands_000.bat'), WindowsPath('C:/Users/tgerrish/Desktop/SplitCase0/gridbased_radiation/commands_001.bat')]"
      ]
     },
     "execution_count": 11,
     "metadata": {},
     "output_type": "execute_result"
    }
   ],
   "source": [
    "tc.radiance.HBRad(r\"C:\\Users\\tgerrish\\Desktop\\SplitCase0\\gridbased_radiation\", n_processes=2)#.run()"
   ]
  },
  {
   "cell_type": "code",
   "execution_count": null,
   "metadata": {},
   "outputs": [],
   "source": []
  }
 ],
 "metadata": {
  "kernelspec": {
   "display_name": "Python 3",
   "language": "python",
   "name": "python3"
  },
  "language_info": {
   "codemirror_mode": {
    "name": "ipython",
    "version": 3
   },
   "file_extension": ".py",
   "mimetype": "text/x-python",
   "name": "python",
   "nbconvert_exporter": "python",
   "pygments_lexer": "ipython3",
   "version": "3.7.6"
  }
 },
 "nbformat": 4,
 "nbformat_minor": 4
}
