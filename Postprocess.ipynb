{
 "cells": [
  {
   "cell_type": "code",
   "execution_count": 1,
   "metadata": {
    "scrolled": false
   },
   "outputs": [
    {
     "data": {
      "text/html": [
       "<style>.container { width:95% !important; }</style>"
      ],
      "text/plain": [
       "<IPython.core.display.HTML object>"
      ]
     },
     "metadata": {},
     "output_type": "display_data"
    },
    {
     "name": "stdout",
     "output_type": "stream",
     "text": [
      "Failed to load paths from C:\\Users\\tgerrish\\Miniconda3\\lib\\site-packages\\honeybee\\config.json.\n",
      "Path to radiance is set to: c:/radiance\n"
     ]
    }
   ],
   "source": [
    "%matplotlib inline\n",
    "%load_ext autoreload\n",
    "%autoreload 2\n",
    "\n",
    "from IPython.core.display import display, HTML\n",
    "display(HTML(\"<style>.container { width:95% !important; }</style>\"))\n",
    "\n",
    "import os\n",
    "import pandas as pd\n",
    "import numpy as np\n",
    "from ladybug.epw import EPW\n",
    "\n",
    "import oshe as tc"
   ]
  },
  {
   "cell_type": "markdown",
   "metadata": {},
   "source": [
    "# Inputs"
   ]
  },
  {
   "cell_type": "code",
   "execution_count": 2,
   "metadata": {},
   "outputs": [],
   "source": [
    "idd_file = r\"C:\\openstudio-2.7.0\\EnergyPlus\\Energy+.idd\"\n",
    "epw_file = r\"./example/weatherfile.epw\""
   ]
  },
  {
   "cell_type": "markdown",
   "metadata": {},
   "source": [
    "# Load weatherfile data"
   ]
  },
  {
   "cell_type": "code",
   "execution_count": 3,
   "metadata": {},
   "outputs": [],
   "source": [
    "# Load epw\n",
    "epw = EPW(epw_file)\n",
    "\n",
    "# Get climate variables\n",
    "dbt = np.array(epw.dry_bulb_temperature.values)\n",
    "rh = np.array(epw.relative_humidity.values)\n",
    "ws = np.array(epw.wind_speed.values)\n",
    "hir = np.array(epw.horizontal_infrared_radiation_intensity.values)\n",
    "\n",
    "# Calculate hourly solar altitudes\n",
    "sun_altitude = tc.helpers.sun_altitude(epw_file)"
   ]
  },
  {
   "cell_type": "markdown",
   "metadata": {},
   "source": [
    "# Open-field MRT and UTCI calculation"
   ]
  },
  {
   "cell_type": "code",
   "execution_count": 4,
   "metadata": {
    "scrolled": false
   },
   "outputs": [
    {
     "name": "stdout",
     "output_type": "stream",
     "text": [
      "Ground surface temperature simulation completed\n",
      "EnergyPlus results loaded\n",
      "Writing recipe contents to: C:\\Users\\tgerrish\\AppData\\Local\\Temp\\openfield\\gridbased_annual\n",
      "Calculating solar values...\n",
      "# Number of sun up hours: 4423\n",
      "Writing sun matrix to C:\\Users\\tgerrish\\AppData\\Local\\Temp\\openfield\\gridbased_annual\\sky\\sunmtx.smx\n",
      "Direct and diffuse solar radiation simulation completed\n",
      "Radiance results loaded\n",
      "Mean radiant temperature calculated [0.06 seconds]\n",
      "Universal thermal climate index calculated [0.09 seconds]\n"
     ]
    }
   ],
   "source": [
    "# Define ground material\n",
    "gnd_mat = tc.material.material_dict[\"CONCRETE\"]\n",
    "ground_zone = tc.geometry.Ground(gnd_mat, xy=5, depth=1.5, subsurface_size=5)\n",
    "\n",
    "# Calculate ground surface temperature\n",
    "of_srf_temp = tc.energyplus.run_energyplus(epw_file, idd_file, ground=ground_zone, shades=None, run=True)\n",
    "\n",
    "# Calculate incident solar direct and diffuse radiation\n",
    "of_dir_rad, of_dif_rad = tc.radiance.run_radiance(epw_file, ground=ground_zone, shades=None, run=True)\n",
    "\n",
    "# Calculate MRT\n",
    "of_mrt = tc.mrt.mean_radiant_temperature(surrounding_surfaces_temperature=of_srf_temp[0], horizontal_infrared_radiation_intensity=hir, diffuse_horizontal_solar=of_dif_rad.T[0], direct_normal_solar=of_dir_rad.T[0], sun_altitude=sun_altitude, ground_reflectivity=gnd_mat.reflectivity, sky_exposure=1, radiance=True)[0]\n",
    "\n",
    "# Calculate UTCI\n",
    "of_utci = tc.utci.universal_thermal_climate_index(dbt, of_mrt, ws, rh)"
   ]
  },
  {
   "cell_type": "markdown",
   "metadata": {},
   "source": [
    "# Post-process Rhino/GH case"
   ]
  },
  {
   "cell_type": "code",
   "execution_count": 5,
   "metadata": {},
   "outputs": [
    {
     "name": "stdout",
     "output_type": "stream",
     "text": [
      "EnergyPlus results loaded\n",
      "Radiance results loaded\n",
      "View-factored surface temperatures calculated\n"
     ]
    }
   ],
   "source": [
    "# Load case recipe\n",
    "recipe = \"./projects/EXAMPLE/recipe.json\"\n",
    "reload = False\n",
    "\n",
    "# Create output directory for generated images\n",
    "output_directory = os.path.dirname(os.path.dirname(recipe))\n",
    "plot_directory = os.path.join(os.path.dirname(recipe), \"plots\")\n",
    "if not os.path.exists(plot_directory):\n",
    "    os.mkdir(plot_directory)\n",
    "\n",
    "# Load JSON\n",
    "d = tc.helpers.load_json(recipe)\n",
    "\n",
    "# Load surface view factors\n",
    "surface_view_factors = np.array(d[\"surface_view_factors\"])\n",
    "\n",
    "# Load sky view factors\n",
    "sky_view_factors = np.array([[i] for i in d[\"sky_view_factors\"]]) / 100 * 0.5\n",
    "\n",
    "# Load ground reflectivities\n",
    "ground_reflectivities = np.array([[i] for i in d[\"ground_reflectivities\"]])\n",
    "\n",
    "# Load plot tricontour plot \n",
    "boundary = np.array(d[\"boundary\"])[:, :-1]\n",
    "\n",
    "# Load points\n",
    "points = np.array(d[\"points\"])\n",
    "\n",
    "if not reload:\n",
    "    # Read EnergyPlus annual hourly surface temperature results\n",
    "    surface_temperatures = tc.helpers.load_energyplus_results(d[\"eplus_results\"])\n",
    "\n",
    "    # Read Radiance simulation annual hourly incident radiation results\n",
    "    radiation_direct, radiation_diffuse = tc.helpers.load_radiance_results(d[\"radiation_results\"])\n",
    "    \n",
    "    # Calculate generic sky temperature\n",
    "    skytemp = tc.oshe.sky_temperature(hir)\n",
    "\n",
    "    # Append sky temperature and air temperature onto end of surface temperatures\n",
    "    all_srf_temps = np.vstack([surface_temperatures, skytemp, dbt])\n",
    "\n",
    "    # Append sky view factor to end of surface view factors\n",
    "    all_vfs = np.hstack([surface_view_factors, sky_view_factors])\n",
    "\n",
    "    # Add view factor to end of each group, bringing total to 1\n",
    "    makeups = np.where(1 - all_vfs.sum(axis=1) <= 0, 0, 1 - all_vfs.sum(axis=1))\n",
    "    all_vfs = np.vstack([all_vfs.T, makeups]).T\n",
    "\n",
    "    # Normalise view factors to 0-1\n",
    "    all_vfs = all_vfs.T * (1 / all_vfs.sum(axis=1))\n",
    "\n",
    "    # Calculate overall surrounding surface temperature using view factors and individual surface temperatures\n",
    "    surrounding_surface_temperatures = np.power(np.matmul(all_vfs.T, np.power(all_srf_temps.T + 273.15, 4).T), 0.25) - 273.15\n",
    "    print(\"View-factored surface temperatures calculated\")\n",
    "    "
   ]
  },
  {
   "cell_type": "markdown",
   "metadata": {},
   "source": [
    "# Calculate MRT and write to file"
   ]
  },
  {
   "cell_type": "code",
   "execution_count": 6,
   "metadata": {},
   "outputs": [
    {
     "name": "stdout",
     "output_type": "stream",
     "text": [
      "MRT calculated and written to ./projects/EXAMPLE\\result.mrt\n"
     ]
    }
   ],
   "source": [
    "mrt_path = os.path.join(os.path.dirname(recipe), \"result.mrt\")\n",
    "if not reload:\n",
    "    mean_radiant_temperature = tc.mrt.mrt_parallel(\n",
    "        threads=8, \n",
    "        surrounding_surfaces_temperature=surrounding_surface_temperatures, \n",
    "        horizontal_infrared_radiation_intensity=hir, \n",
    "        diffuse_horizontal_solar=radiation_diffuse, \n",
    "        direct_normal_solar=radiation_direct, \n",
    "        sun_altitude=sun_altitude, \n",
    "        ground_reflectivity=ground_reflectivities, \n",
    "        sky_exposure=sky_view_factors, \n",
    "        radiance=True\n",
    "    )\n",
    "\n",
    "    # Write to file\n",
    "    df_mrt = pd.DataFrame(mean_radiant_temperature.T)\n",
    "    df_mrt.round(6).to_csv(mrt_path, index=False)\n",
    "    print(\"MRT calculated and written to {}\".format(mrt_path))\n",
    "else:\n",
    "    mean_radiant_temperature = pd.read_csv(mrt_path).values.T\n",
    "    print(\"MRT reloaded from {}\".format(mrt_path))"
   ]
  },
  {
   "cell_type": "markdown",
   "metadata": {},
   "source": [
    "# Calculate UTCI and write to file"
   ]
  },
  {
   "cell_type": "code",
   "execution_count": 7,
   "metadata": {},
   "outputs": [
    {
     "name": "stdout",
     "output_type": "stream",
     "text": [
      "UTCI calculated and written to ./projects/EXAMPLE\\result.utci\n"
     ]
    }
   ],
   "source": [
    "utci_path = os.path.join(os.path.dirname(recipe), \"result.utci\")\n",
    "if not reload:\n",
    "    universal_thermal_climate_index = tc.utci.utci_parallel(\n",
    "        threads=8, \n",
    "        air_temperature=dbt, \n",
    "        mean_radiant_temperature=mean_radiant_temperature.T, \n",
    "        wind_speed=ws, \n",
    "        relative_humidity=rh\n",
    "    )\n",
    "\n",
    "    # Write to file\n",
    "    df_utci = pd.DataFrame(universal_thermal_climate_index.T)\n",
    "    df_utci.round(6).to_csv(utci_path, index=False)\n",
    "    print(\"UTCI calculated and written to {}\".format(utci_path))\n",
    "else:\n",
    "    universal_thermal_climate_index = pd.read_csv(utci_path).values.T\n",
    "    print(\"UTCI reloaded from {}\".format(utci_path))"
   ]
  },
  {
   "cell_type": "markdown",
   "metadata": {},
   "source": [
    "# Construct results object"
   ]
  },
  {
   "cell_type": "code",
   "execution_count": 8,
   "metadata": {},
   "outputs": [],
   "source": [
    "utci = tc.plot.UTCI(of_utci, universal_thermal_climate_index, points)"
   ]
  },
  {
   "cell_type": "markdown",
   "metadata": {},
   "source": [
    "# Plot the charts"
   ]
  },
  {
   "cell_type": "code",
   "execution_count": 14,
   "metadata": {
    "scrolled": false
   },
   "outputs": [
    {
     "name": "stdout",
     "output_type": "stream",
     "text": [
      "Plot saved to ./projects/EXAMPLE\\plots\\openfield_comfortheatmap.png\n",
      "Plot saved to ./projects/EXAMPLE\\plots\\comfortable_hours_may.png\n",
      "Plot saved to ./projects/EXAMPLE\\plots\\comfortable_hours_october.png\n",
      "Plot saved to ./projects/EXAMPLE\\plots\\comfortable_hours_annual.png\n",
      "Plot saved to ./projects/EXAMPLE\\plots\\context.png\n",
      "Plot saved to ./projects/EXAMPLE\\plots\\context_ptlabel.png\n",
      "Plot saved to ./projects/EXAMPLE\\plots\\context_focuspts.png\n",
      "Plot saved to ./projects/EXAMPLE\\plots\\improvement_annual_morningshoulder.png\n",
      "Plot saved to ./projects/EXAMPLE\\plots\\improvement_annual_afternoonshoulder.png\n",
      "Plot saved to ./projects/EXAMPLE\\plots\\improvement_annual_morningafternoonshoulder.png\n",
      "Plot saved to ./projects/EXAMPLE\\plots\\improvement_may_morningshoulder.png\n",
      "Plot saved to ./projects/EXAMPLE\\plots\\improvement_may_afternoonshoulder.png\n",
      "Plot saved to ./projects/EXAMPLE\\plots\\improvement_may_morningafternoonshoulder.png\n",
      "Plot saved to ./projects/EXAMPLE\\plots\\improvement_october_morningshoulder.png\n",
      "Plot saved to ./projects/EXAMPLE\\plots\\improvement_october_afternoonshoulder.png\n",
      "Plot saved to ./projects/EXAMPLE\\plots\\improvement_october_morningafternoonshoulder.png\n",
      "Plot saved to ./projects/EXAMPLE\\plots\\comfort_annual_morningshoulder.png\n",
      "Plot saved to ./projects/EXAMPLE\\plots\\comfort_annual_afternoonshoulder.png\n",
      "Plot saved to ./projects/EXAMPLE\\plots\\comfort_annual_morningafternoonshoulder.png\n",
      "Plot saved to ./projects/EXAMPLE\\plots\\comfort_may_morningshoulder.png\n",
      "Plot saved to ./projects/EXAMPLE\\plots\\comfort_may_afternoonshoulder.png\n",
      "Plot saved to ./projects/EXAMPLE\\plots\\comfort_may_morningafternoonshoulder.png\n",
      "Plot saved to ./projects/EXAMPLE\\plots\\comfort_october_morningshoulder.png\n",
      "Plot saved to ./projects/EXAMPLE\\plots\\comfort_october_afternoonshoulder.png\n",
      "Plot saved to ./projects/EXAMPLE\\plots\\comfort_october_morningafternoonshoulder.png\n",
      "Plot saved to ./projects/EXAMPLE\\plots\\reduction_annual_morningshoulder.png\n",
      "Plot saved to ./projects/EXAMPLE\\plots\\reduction_annual_afternoonshoulder.png\n",
      "Plot saved to ./projects/EXAMPLE\\plots\\reduction_annual_morningafternoonshoulder.png\n",
      "Plot saved to ./projects/EXAMPLE\\plots\\reduction_may_morningshoulder.png\n",
      "Plot saved to ./projects/EXAMPLE\\plots\\reduction_may_afternoonshoulder.png\n",
      "Plot saved to ./projects/EXAMPLE\\plots\\reduction_may_morningafternoonshoulder.png\n",
      "Plot saved to ./projects/EXAMPLE\\plots\\reduction_october_morningshoulder.png\n",
      "Plot saved to ./projects/EXAMPLE\\plots\\reduction_october_afternoonshoulder.png\n",
      "Plot saved to ./projects/EXAMPLE\\plots\\reduction_october_morningafternoonshoulder.png\n",
      "Plot saved to ./projects/EXAMPLE\\plots\\pt0017_reductionheatmap.png\n",
      "Plot saved to ./projects/EXAMPLE\\plots\\pt0017_comfortheatmap.png\n",
      "Plot saved to ./projects/EXAMPLE\\plots\\pt0017_profile_may.png\n",
      "Plot saved to ./projects/EXAMPLE\\plots\\pt0017_profile_october.png\n",
      "Plot saved to ./projects/EXAMPLE\\plots\\pt0044_reductionheatmap.png\n",
      "Plot saved to ./projects/EXAMPLE\\plots\\pt0044_comfortheatmap.png\n",
      "Plot saved to ./projects/EXAMPLE\\plots\\pt0044_profile_may.png\n",
      "Plot saved to ./projects/EXAMPLE\\plots\\pt0044_profile_october.png\n"
     ]
    }
   ],
   "source": [
    "rad_files = [\n",
    "    r\"C:\\Users\\tgerrish\\Documents\\GitHub\\oshe\\projects\\EXAMPLE\\gridbased_annual\\scene\\glazing\\EXAMPLE..glz.rad\",\n",
    "    r\"C:\\Users\\tgerrish\\Documents\\GitHub\\oshe\\projects\\EXAMPLE\\gridbased_annual\\scene\\opaque\\EXAMPLE..opq.rad\"\n",
    "]\n",
    "focus_pts = [17, 44]\n",
    "\n",
    "utci.generate_plots(rad_files, focus_pts, boundary, plot_directory)"
   ]
  },
  {
   "cell_type": "code",
   "execution_count": 18,
   "metadata": {},
   "outputs": [
    {
     "data": {
      "text/html": [
       "<div>\n",
       "<style scoped>\n",
       "    .dataframe tbody tr th:only-of-type {\n",
       "        vertical-align: middle;\n",
       "    }\n",
       "\n",
       "    .dataframe tbody tr th {\n",
       "        vertical-align: top;\n",
       "    }\n",
       "\n",
       "    .dataframe thead th {\n",
       "        text-align: right;\n",
       "    }\n",
       "</style>\n",
       "<table border=\"1\" class=\"dataframe\">\n",
       "  <thead>\n",
       "    <tr style=\"text-align: right;\">\n",
       "      <th></th>\n",
       "      <th>Annual</th>\n",
       "      <th>May</th>\n",
       "      <th>October</th>\n",
       "    </tr>\n",
       "  </thead>\n",
       "  <tbody>\n",
       "    <tr>\n",
       "      <th>07:00 - 10:00</th>\n",
       "      <td>0.639726</td>\n",
       "      <td>0.75</td>\n",
       "      <td>0.604839</td>\n",
       "    </tr>\n",
       "    <tr>\n",
       "      <th>16:00 - 19:00</th>\n",
       "      <td>0.154521</td>\n",
       "      <td>0.20</td>\n",
       "      <td>0.006452</td>\n",
       "    </tr>\n",
       "  </tbody>\n",
       "</table>\n",
       "</div>"
      ],
      "text/plain": [
       "                 Annual   May   October\n",
       "07:00 - 10:00  0.639726  0.75  0.604839\n",
       "16:00 - 19:00  0.154521  0.20  0.006452"
      ]
     },
     "execution_count": 18,
     "metadata": {},
     "output_type": "execute_result"
    }
   ],
   "source": [
    "# Create summary of time-period-wise UTCI reduction meeting threshold value (for the nth percentile specified)\n",
    "utci.reduction_summary(threshold=4, percentile=0.9)"
   ]
  }
 ],
 "metadata": {
  "kernelspec": {
   "display_name": "Python 3",
   "language": "python",
   "name": "python3"
  },
  "language_info": {
   "codemirror_mode": {
    "name": "ipython",
    "version": 3
   },
   "file_extension": ".py",
   "mimetype": "text/x-python",
   "name": "python",
   "nbconvert_exporter": "python",
   "pygments_lexer": "ipython3",
   "version": "3.7.6"
  }
 },
 "nbformat": 4,
 "nbformat_minor": 4
}
