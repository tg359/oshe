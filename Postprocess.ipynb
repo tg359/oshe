{
 "cells": [
  {
   "cell_type": "code",
   "execution_count": 1,
   "metadata": {},
   "outputs": [
    {
     "data": {
      "text/html": [
       "<style>.container { width:95% !important; }</style>"
      ],
      "text/plain": [
       "<IPython.core.display.HTML object>"
      ]
     },
     "metadata": {},
     "output_type": "display_data"
    },
    {
     "name": "stdout",
     "output_type": "stream",
     "text": [
      "Failed to load paths from C:\\Users\\tgerrish\\Miniconda3\\lib\\site-packages\\honeybee\\config.json.\n",
      "Path to radiance is set to: c:/radiance\n"
     ]
    }
   ],
   "source": [
    "%matplotlib inline\n",
    "%load_ext autoreload\n",
    "%autoreload 2\n",
    "\n",
    "from IPython.core.display import display, HTML\n",
    "display(HTML(\"<style>.container { width:95% !important; }</style>\"))\n",
    "\n",
    "import os\n",
    "import pandas as pd\n",
    "import numpy as np\n",
    "from ladybug.epw import EPW\n",
    "from ladybug.sunpath import Sunpath\n",
    "\n",
    "import oshe as tc\n"
   ]
  },
  {
   "cell_type": "markdown",
   "metadata": {},
   "source": [
    "# Inputs"
   ]
  },
  {
   "cell_type": "code",
   "execution_count": 2,
   "metadata": {},
   "outputs": [],
   "source": [
    "idd_file = r\"C:\\openstudio-2.7.0\\EnergyPlus\\Energy+.idd\"\n",
    "epw_file = r\"C:\\Users\\tgerrish\\Documents\\GitHub\\oshe\\projects\\UWG_ARE_AZ_Abu.Dhabi-Bateen.Exec.AP.412160_TMYx_URBAN_02.epw\""
   ]
  },
  {
   "cell_type": "markdown",
   "metadata": {},
   "source": [
    "# Load weatherfile data"
   ]
  },
  {
   "cell_type": "code",
   "execution_count": 3,
   "metadata": {},
   "outputs": [],
   "source": [
    "# Load epw\n",
    "epw = EPW(epw_file)\n",
    "\n",
    "# Get climate variables\n",
    "dbt = np.array(epw.dry_bulb_temperature.values)\n",
    "rh = np.array(epw.relative_humidity.values)\n",
    "ws = np.array(epw.wind_speed.values)\n",
    "hir = np.array(epw.horizontal_infrared_radiation_intensity.values)\n",
    "\n",
    "# Calculate hourly solar altitudes and hir for input\n",
    "sun_path = Sunpath.from_location(epw.location)\n",
    "sun_altitude = np.array([sun_path.calculate_sun_from_hoy(i).altitude for i in range(8760)])"
   ]
  },
  {
   "cell_type": "markdown",
   "metadata": {},
   "source": [
    "# Open-field MRT and UTCI calculation"
   ]
  },
  {
   "cell_type": "code",
   "execution_count": 4,
   "metadata": {
    "scrolled": false
   },
   "outputs": [
    {
     "name": "stdout",
     "output_type": "stream",
     "text": [
      "Ground surface temperature simulation completed\n",
      "EnergyPlus results loaded\n",
      "Writing recipe contents to: C:\\Users\\tgerrish\\AppData\\Local\\Temp\\openfield\\gridbased_annual\n",
      "Calculating solar values...\n",
      "# Number of sun up hours: 4423\n",
      "Writing sun matrix to C:\\Users\\tgerrish\\AppData\\Local\\Temp\\openfield\\gridbased_annual\\sky\\sunmtx.smx\n",
      "Direct and diffuse solar radiation simulation completed\n",
      "Radiance results loaded\n",
      "Mean radiant temperature calculated [0.07 seconds]\n",
      "Universal thermal climate index calculated [0.09 seconds]\n"
     ]
    }
   ],
   "source": [
    "# Define ground material\n",
    "gnd_mat = tc.material.material_dict[\"CONCRETE\"]\n",
    "ground_zone = tc.geometry.Ground(gnd_mat, xy=5, depth=1.5, subsurface_size=5)\n",
    "\n",
    "# Calculate ground surface temperature\n",
    "of_srf_temp = tc.energyplus.run_energyplus(epw_file, idd_file, ground=ground_zone, shades=None, run=True)\n",
    "\n",
    "# Calculate incident solar direct and diffuse radiation\n",
    "of_dir_rad, of_dif_rad = tc.radiance.run_radiance(epw_file, ground=ground_zone, shades=None, run=True)\n",
    "\n",
    "# Calculate MRT\n",
    "of_mrt = tc.mrt.mean_radiant_temperature(surrounding_surfaces_temperature=of_srf_temp[0], horizontal_infrared_radiation_intensity=hir, diffuse_horizontal_solar=of_dif_rad.T[0], direct_normal_solar=of_dir_rad.T[0], sun_altitude=sun_altitude, ground_reflectivity=gnd_mat.reflectivity, sky_exposure=1, radiance=True)[0]\n",
    "\n",
    "# Calculate UTCI\n",
    "of_utci = tc.utci.universal_thermal_climate_index(dbt, of_mrt, ws, rh)"
   ]
  },
  {
   "cell_type": "markdown",
   "metadata": {},
   "source": [
    "# Post-process Rhino/GH case"
   ]
  },
  {
   "cell_type": "code",
   "execution_count": 5,
   "metadata": {},
   "outputs": [
    {
     "name": "stdout",
     "output_type": "stream",
     "text": [
      "EnergyPlus results loaded\n",
      "Radiance results loaded\n",
      "View-factored surface temperatures calculated\n"
     ]
    }
   ],
   "source": [
    "# Load case recipe\n",
    "recipe = \"./projects/EXAMPLE/recipe.json\"\n",
    "reload = False\n",
    "\n",
    "# Create output directory for generated images\n",
    "output_directory = os.path.dirname(os.path.dirname(recipe))\n",
    "plot_directory = os.path.join(os.path.dirname(recipe), \"plots\")\n",
    "if not os.path.exists(plot_directory):\n",
    "    os.mkdir(plot_directory)\n",
    "\n",
    "# Load JSON\n",
    "d = tc.helpers.load_json(recipe)\n",
    "\n",
    "# Load surface view factors\n",
    "surface_view_factors = np.array(d[\"surface_view_factors\"])\n",
    "\n",
    "# Load sky view factors\n",
    "sky_view_factors = np.array([[i] for i in d[\"sky_view_factors\"]]) / 100 * 0.5\n",
    "\n",
    "# Load ground reflectivities\n",
    "ground_reflectivities = np.array([[i] for i in d[\"ground_reflectivities\"]])\n",
    "\n",
    "# Load plot tricontour plot \n",
    "boundary = np.array(d[\"boundary\"])[:, :-1]\n",
    "\n",
    "# Load points\n",
    "points = np.array(d[\"points\"])\n",
    "\n",
    "if not reload:\n",
    "    # Read EnergyPlus annual hourly surface temperature results\n",
    "    surface_temperatures = tc.helpers.load_energyplus_results(d[\"eplus_results\"])\n",
    "\n",
    "    # Read Radiance simulation annual hourly incident radiation results\n",
    "    radiation_direct, radiation_diffuse = tc.helpers.load_radiance_results(d[\"radiation_results\"])\n",
    "    \n",
    "    # Calculate generic sky temperature\n",
    "    skytemp = tc.oshe.sky_temperature(hir)\n",
    "\n",
    "    # Append sky temperature and air temperature onto end of surface temperatures\n",
    "    all_srf_temps = np.vstack([surface_temperatures, skytemp, dbt])\n",
    "\n",
    "    # Append sky view factor to end of surface view factors\n",
    "    all_vfs = np.hstack([surface_view_factors, sky_view_factors])\n",
    "\n",
    "    # Add view factor to end of each group, bringing total to 1\n",
    "    makeups = np.where(1 - all_vfs.sum(axis=1) <= 0, 0, 1 - all_vfs.sum(axis=1))\n",
    "    all_vfs = np.vstack([all_vfs.T, makeups]).T\n",
    "\n",
    "    # Normalise view factors to 0-1\n",
    "    all_vfs = all_vfs.T * (1 / all_vfs.sum(axis=1))\n",
    "\n",
    "    # Calculate overall surrounding surface temperature using view factors and individual surface temperatures\n",
    "    surrounding_surface_temperatures = np.power(np.matmul(all_vfs.T, np.power(all_srf_temps.T + 273.15, 4).T), 0.25) - 273.15\n",
    "    print(\"View-factored surface temperatures calculated\")\n",
    "    "
   ]
  },
  {
   "cell_type": "markdown",
   "metadata": {},
   "source": [
    "# Calculate MRT and write to file"
   ]
  },
  {
   "cell_type": "code",
   "execution_count": 6,
   "metadata": {},
   "outputs": [
    {
     "name": "stdout",
     "output_type": "stream",
     "text": [
      "MRT calculated and written to ./projects/EXAMPLE\\result.mrt\n"
     ]
    }
   ],
   "source": [
    "mrt_path = os.path.join(os.path.dirname(recipe), \"result.mrt\")\n",
    "if not reload:\n",
    "    mean_radiant_temperature = tc.mrt.mrt_parallel(\n",
    "        threads=8, \n",
    "        surrounding_surfaces_temperature=surrounding_surface_temperatures, \n",
    "        horizontal_infrared_radiation_intensity=hir, \n",
    "        diffuse_horizontal_solar=radiation_diffuse, \n",
    "        direct_normal_solar=radiation_direct, \n",
    "        sun_altitude=sun_altitude, \n",
    "        ground_reflectivity=ground_reflectivities, \n",
    "        sky_exposure=sky_view_factors, \n",
    "        radiance=True\n",
    "    )\n",
    "\n",
    "    # Write to file\n",
    "    df_mrt = pd.DataFrame(mean_radiant_temperature.T)\n",
    "    df_mrt.round(6).to_csv(mrt_path, index=False)\n",
    "    print(\"MRT calculated and written to {}\".format(mrt_path))\n",
    "else:\n",
    "    mean_radiant_temperature = pd.read_csv(mrt_path).values.T\n",
    "    print(\"MRT reloaded from {}\".format(mrt_path))"
   ]
  },
  {
   "cell_type": "markdown",
   "metadata": {},
   "source": [
    "# Calculate UTCI and write to file"
   ]
  },
  {
   "cell_type": "code",
   "execution_count": 7,
   "metadata": {},
   "outputs": [
    {
     "name": "stdout",
     "output_type": "stream",
     "text": [
      "UTCI calculated and written to ./projects/EXAMPLE\\result.utci\n"
     ]
    }
   ],
   "source": [
    "utci_path = os.path.join(os.path.dirname(recipe), \"result.utci\")\n",
    "if not reload:\n",
    "    universal_thermal_climate_index = tc.utci.utci_parallel(\n",
    "        threads=8, \n",
    "        air_temperature=dbt, \n",
    "        mean_radiant_temperature=mean_radiant_temperature.T, \n",
    "        wind_speed=ws, \n",
    "        relative_humidity=rh\n",
    "    )\n",
    "\n",
    "    # Write to file\n",
    "    df_utci = pd.DataFrame(universal_thermal_climate_index.T)\n",
    "    df_utci.round(6).to_csv(utci_path, index=False)\n",
    "    print(\"UTCI calculated and written to {}\".format(utci_path))\n",
    "else:\n",
    "    universal_thermal_climate_index = pd.read_csv(utci_path).values.T\n",
    "    print(\"UTCI reloaded from {}\".format(utci_path))"
   ]
  },
  {
   "cell_type": "markdown",
   "metadata": {},
   "source": [
    "# Construct results object"
   ]
  },
  {
   "cell_type": "code",
   "execution_count": 104,
   "metadata": {},
   "outputs": [
    {
     "data": {
      "image/png": "[encoded data removed]",
      "text/plain": [
       "<Figure size 1080x360 with 2 Axes>"
      ]
     },
     "metadata": {
      "needs_background": "light"
     },
     "output_type": "display_data"
    }
   ],
   "source": [
    "utci = tc.plot2.UTCI(of_utci, universal_thermal_climate_index, points)\n",
    "\n",
    "# utci.comfort_in_period(utci.mask_shoulder_all)\n",
    "# utci.reduction_in_period(utci.mask_october_morning, threshold=4)\n",
    "# tc.plot2.utci_comfort_heatmap(utci.utci[0].values, close=False)\n",
    "# tc.plot2.utci_day_comparison(utci.utci_openfield, utci.utci[12].values, months=[1, 2, 5, 10], names=[\"var1\", \"var2\"])\n",
    "tc.plot2.utci_reduction_heatmap(utci.utci_difference[0].values, close=False)"
   ]
  },
  {
   "cell_type": "code",
   "execution_count": null,
   "metadata": {},
   "outputs": [],
   "source": []
  },
  {
   "cell_type": "code",
   "execution_count": null,
   "metadata": {},
   "outputs": [],
   "source": []
  },
  {
   "cell_type": "code",
   "execution_count": null,
   "metadata": {},
   "outputs": [],
   "source": []
  },
  {
   "cell_type": "code",
   "execution_count": 9,
   "metadata": {},
   "outputs": [
    {
     "data": {
      "text/plain": [
       "0     0.132616\n",
       "1     0.148746\n",
       "2     0.132616\n",
       "3     0.159498\n",
       "4     0.136201\n",
       "5     0.134409\n",
       "6     0.127240\n",
       "7     0.137993\n",
       "8     0.197133\n",
       "9     0.150538\n",
       "10    0.134409\n",
       "11    0.112903\n",
       "12    0.148746\n",
       "13    0.118280\n",
       "14    0.091398\n",
       "15    0.112903\n",
       "16    0.107527\n",
       "17    0.091398\n",
       "18    0.105735\n",
       "19    0.087814\n",
       "20    0.093190\n",
       "21    0.098566\n",
       "22    0.179211\n",
       "23    0.181004\n",
       "24    0.127240\n",
       "25    0.132616\n",
       "dtype: float64"
      ]
     },
     "execution_count": 9,
     "metadata": {},
     "output_type": "execute_result"
    }
   ],
   "source": []
  },
  {
   "cell_type": "code",
   "execution_count": 44,
   "metadata": {},
   "outputs": [
    {
     "data": {
      "image/png": "[encoded data removed]",
      "text/plain": [
       "<Figure size 576x288 with 1 Axes>"
      ]
     },
     "metadata": {
      "needs_background": "light"
     },
     "output_type": "display_data"
    }
   ],
   "source": [
    "utci.utci_day_comparison(point_idx=2, period=\"Annual\", tone_color=\"k\", save_path=None, close=False)"
   ]
  },
  {
   "cell_type": "code",
   "execution_count": 41,
   "metadata": {},
   "outputs": [
    {
     "data": {
      "text/plain": [
       "<matplotlib.axes._subplots.AxesSubplot at 0x1cfe2aba208>"
      ]
     },
     "execution_count": 41,
     "metadata": {},
     "output_type": "execute_result"
    },
    {
     "data": {
      "image/png": "[encoded data removed]",
      "text/plain": [
       "<Figure size 432x288 with 1 Axes>"
      ]
     },
     "metadata": {
      "needs_background": "light"
     },
     "output_type": "display_data"
    }
   ],
   "source": [
    "utci.df_utci_reduction.unstack().plot(kind=\"hist\", bins=20)#.quantile(0.5, axis=1)"
   ]
  },
  {
   "cell_type": "code",
   "execution_count": 37,
   "metadata": {},
   "outputs": [
    {
     "data": {
      "text/html": [
       "<div>\n",
       "<style scoped>\n",
       "    .dataframe tbody tr th:only-of-type {\n",
       "        vertical-align: middle;\n",
       "    }\n",
       "\n",
       "    .dataframe tbody tr th {\n",
       "        vertical-align: top;\n",
       "    }\n",
       "\n",
       "    .dataframe thead th {\n",
       "        text-align: right;\n",
       "    }\n",
       "</style>\n",
       "<table border=\"1\" class=\"dataframe\">\n",
       "  <thead>\n",
       "    <tr style=\"text-align: right;\">\n",
       "      <th></th>\n",
       "      <th>Annual</th>\n",
       "      <th>May</th>\n",
       "      <th>October</th>\n",
       "    </tr>\n",
       "  </thead>\n",
       "  <tbody>\n",
       "    <tr>\n",
       "      <th>07:00 - 10:00</th>\n",
       "      <td>25.433790</td>\n",
       "      <td>33.333333</td>\n",
       "      <td>24.193548</td>\n",
       "    </tr>\n",
       "    <tr>\n",
       "      <th>16:00 - 19:00</th>\n",
       "      <td>75.506849</td>\n",
       "      <td>80.645161</td>\n",
       "      <td>60.645161</td>\n",
       "    </tr>\n",
       "  </tbody>\n",
       "</table>\n",
       "</div>"
      ],
      "text/plain": [
       "                  Annual        May    October\n",
       "07:00 - 10:00  25.433790  33.333333  24.193548\n",
       "16:00 - 19:00  75.506849  80.645161  60.645161"
      ]
     },
     "execution_count": 37,
     "metadata": {},
     "output_type": "execute_result"
    }
   ],
   "source": [
    "utci.reduction_summary(threshold=4, quant=0.95)"
   ]
  },
  {
   "cell_type": "markdown",
   "metadata": {},
   "source": [
    "## Generate plots"
   ]
  },
  {
   "cell_type": "code",
   "execution_count": 109,
   "metadata": {},
   "outputs": [
    {
     "data": {
      "text/plain": [
       "0     0.087558\n",
       "1     0.092166\n",
       "2     0.082949\n",
       "3     0.073733\n",
       "4     0.078341\n",
       "5     0.082949\n",
       "6     0.082949\n",
       "7     0.101382\n",
       "8     0.087558\n",
       "9     0.082949\n",
       "10    0.082949\n",
       "11    0.069124\n",
       "12    0.092166\n",
       "13    0.069124\n",
       "14    0.055300\n",
       "15    0.046083\n",
       "16    0.050691\n",
       "17    0.046083\n",
       "18    0.055300\n",
       "19    0.050691\n",
       "20    0.046083\n",
       "21    0.036866\n",
       "22    0.087558\n",
       "23    0.082949\n",
       "24    0.069124\n",
       "25    0.092166\n",
       "dtype: float64"
      ]
     },
     "execution_count": 109,
     "metadata": {},
     "output_type": "execute_result"
    }
   ],
   "source": [
    "self = utci\n",
    "def comfort(self, months=np.arange(1, 13, 1), hours=np.arange(0, 24, 1), lower=9, upper=28):\n",
    "    \n",
    "    # Create hour mask for year for selected time periods\n",
    "    time_mask = self.index.hour.isin(hours) & self.index.month.isin(months)\n",
    "    count = time_mask.sum()\n",
    "    \n",
    "    # Filter the dataset by time\n",
    "    a = self.utci_points[time_mask]\n",
    "    \n",
    "    # Filter the remaining data by comfort\n",
    "    comfortable_mask = (a >= lower) & (a <= upper)\n",
    "    b = a[comfortable_mask]\n",
    "    \n",
    "    # Count number of potential values\n",
    "    count_remaining = b.count()\n",
    "\n",
    "    # Get proportion of comfortbale hours in period\n",
    "    c = count_remaining / count\n",
    "    \n",
    "    return c\n",
    "\n",
    "comfort(utci, months=[5], hours=[0, 9, 10, 11, 12, 13, 14], lower=9, upper=28)"
   ]
  },
  {
   "cell_type": "code",
   "execution_count": null,
   "metadata": {},
   "outputs": [],
   "source": [
    "# Load Radiance geometry\n",
    "\n",
    "rad_files = [\n",
    "    os.path.join(os.path.dirname(d[\"radiation_results\"]), \"scene\", \"opaque\", \"{}..opq.rad\".format(os.path.basename(os.path.dirname(json_location)))),\n",
    "    os.path.join(os.path.dirname(d[\"radiation_results\"]), \"scene\", \"glazing\", \"{}..glz.rad\".format(os.path.basename(os.path.dirname(json_location))))\n",
    "]"
   ]
  },
  {
   "cell_type": "code",
   "execution_count": null,
   "metadata": {},
   "outputs": [],
   "source": [
    "# Plot comfort and reduction plan\n",
    "\n",
    "for t in [\"comfort\", \"reduction\", \"improvement\"][0:]:\n",
    "    for s_period in [\"Annual\", \"May\", \"October\"][0:]:\n",
    "        for d_period in [\"Morning Shoulder\", \"Afternoon Shoulder\", \"Morning & Afternoon Shoulder\"][0:]:\n",
    "            \n",
    "            sp = os.path.join(plot_directory, \"_{0:}_{1:}_{2:}.png\".format(t, s_period.lower(), d_period.lower()).replace(\"&\", \"\").replace(\" \", \"\"))\n",
    "            \n",
    "            utci.plot_plan(rad_files, _type=t, day_period=d_period, season_period=s_period, save_path=sp, pts=False, label_pts=None, legend=False, highlight_pt=None, clip=boundary, tone_color=\"k\", close=True)"
   ]
  },
  {
   "cell_type": "code",
   "execution_count": null,
   "metadata": {},
   "outputs": [],
   "source": [
    "# Plot context plan\n",
    "\n",
    "utci.plot_plan(rad_files, save_path=os.path.join(plot_directory, \"context.png\"), pts=False, label_pts=None, legend=True, highlight_pt=None, tone_color=\"k\", close=True)\n",
    "utci.plot_plan(rad_files, save_path=os.path.join(plot_directory, \"context_ptlabels.png\"), pts=True, label_pts=1, legend=True, highlight_pt=None, tone_color=\"k\", close=True)"
   ]
  },
  {
   "cell_type": "code",
   "execution_count": null,
   "metadata": {},
   "outputs": [],
   "source": [
    "# Review pt locations and choose focal pts for plotting\n",
    "\n",
    "if \"P1\" in json_location:\n",
    "    focus_pts = [1148, 1597, 1672, 1880]  # P1\n",
    "elif \"P2\" in json_location:\n",
    "    focus_pts = [829, 1344, 1222]  # P2\n",
    "elif \"P3\" in json_location:\n",
    "    focus_pts = [1416, 1516, 1524]  # P3\n",
    "elif \"FAMILYPARK1\" in json_location:\n",
    "    focus_pts = [328, 414, 566, 1046]\n",
    "elif \"FAMILYPARK2\" in json_location:\n",
    "    focus_pts = [100, 636, 860, 1038, 1088, 1202]\n",
    "elif \"KHALIDIYA\" in json_location:\n",
    "    focus_pts = [795, 856, 962]\n",
    "elif \"MUNICIPALITY\" in json_location:\n",
    "    focus_pts = [192, 825, 1053]\n",
    "\n",
    "utci.plot_plan(rad_files, save_path=os.path.join(plot_directory, \"focuspoints_location.png\"), pts=False, label_pts=None, legend=True, highlight_pt=focus_pts, tone_color=\"k\", close=True)"
   ]
  },
  {
   "cell_type": "code",
   "execution_count": null,
   "metadata": {},
   "outputs": [],
   "source": [
    "# Plot UTCI day and heatmap comparison plots for focus pts\n",
    "\n",
    "for pt_idx in focus_pts[0:]:\n",
    "    for period in [\"May\", \"October\", \"May & October\"]:\n",
    "        sp = os.path.join(plot_directory, \"pt{0:04.0f}_profile_{1:}.png\".format(pt_idx, period.lower()).replace(\"&\", \"\").replace(\" \", \"\"))\n",
    "        utci.utci_day_comparison(point_idx=pt_idx, period=period, tone_color=\"k\", save_path=sp, close=True)"
   ]
  },
  {
   "cell_type": "code",
   "execution_count": null,
   "metadata": {},
   "outputs": [],
   "source": [
    "# Plot comfort heatmaps for each pt\n",
    "\n",
    "utci.utci_heatmap(save_path=os.path.join(plot_directory, \"openfield_comfortheatmap.png\".format(pt_idx)), close=True)\n",
    "\n",
    "for pt_idx in focus_pts[0:]:\n",
    "    sp = os.path.join(plot_directory, \"pt{0:04.0f}_comfortheatmap.png\".format(pt_idx))\n",
    "    utci.utci_heatmap(point_idx=pt_idx, save_path=sp, close=True)"
   ]
  },
  {
   "cell_type": "code",
   "execution_count": null,
   "metadata": {},
   "outputs": [],
   "source": [
    "# Plot reduction heatmaps for each pt\n",
    "\n",
    "for pt_idx in focus_pts[0:]:\n",
    "    sp = os.path.join(plot_directory, \"pt{0:04.0f}_reductionheatmap.png\".format(pt_idx))\n",
    "    utci.utci_reduction_heatmap(point_idx=pt_idx, save_path=sp, close=True)"
   ]
  },
  {
   "cell_type": "code",
   "execution_count": null,
   "metadata": {},
   "outputs": [],
   "source": [
    "# Tile images for ease of inserting into Word!\n",
    "\n",
    "from PIL import Image\n",
    "\n",
    "def get_concat_h2(im1, im2):\n",
    "    dst = Image.new('RGB', (im1.width + im2.width, im1.height))\n",
    "    dst.paste(im1, (0, 0))\n",
    "    dst.paste(im2, (im1.width, 0))\n",
    "    return dst\n",
    "\n",
    "def get_concat_h3(im1, im2, im3):\n",
    "    dst = Image.new('RGB', (im1.width + im2.width + im3.width, im1.height))\n",
    "    dst.paste(im1, (0, 0))\n",
    "    dst.paste(im2, (im1.width, 0))\n",
    "    dst.paste(im3, (im1.width + im2.width, 0))\n",
    "    return dst\n",
    "\n",
    "def get_concat_v(im1, im2):\n",
    "    dst = Image.new('RGB', (im1.width, im1.height + im2.height))\n",
    "    dst.paste(im1, (0, 0))\n",
    "    dst.paste(im2, (0, im1.height))\n",
    "    return dst\n",
    "\n",
    "def get_concat_v3(im1, im2, im3):\n",
    "    dst = Image.new('RGB', (im1.width, im1.height + im2.height + im3.height))\n",
    "    dst.paste(im1, (0, 0))\n",
    "    dst.paste(im2, (0, im1.height))\n",
    "    dst.paste(im3, (0, im1.height + im2.height))\n",
    "    return dst\n",
    "\n",
    "for t in [\"comfort\", \"reduction\", \"improvement\"][0:]:\n",
    "    column = []\n",
    "    for s_period in [\"Annual\", \"May\", \"October\"][0:]:\n",
    "        row = []\n",
    "        for d_period in [\"Morning Shoulder\", \"Afternoon Shoulder\", \"Morning & Afternoon Shoulder\"][0:-1]:\n",
    "            \n",
    "            sp = os.path.join(plot_directory, \"_{0:}_{1:}_{2:}.png\".format(t, s_period.lower(), d_period.lower()).replace(\"&\", \"\").replace(\" \", \"\"))\n",
    "            row.append(Image.open(sp))\n",
    "        column.append(row)\n",
    "\n",
    "    b = []\n",
    "    for r in column:\n",
    "        b.append(get_concat_h2(r[0], r[1]))\n",
    "    \n",
    "    c = get_concat_v3(b[0], b[1], b[2])\n",
    "    planpath = os.path.join(plot_directory, \"_{0:}__collection.png\".format(t).replace(\"&\", \"\").replace(\" \", \"\"))\n",
    "    print(\"Contour plots joined in {}\".format(planpath))\n",
    "    c.save(planpath)\n",
    "\n",
    "for pt_idx in focus_pts[0:]:\n",
    "    \n",
    "    spcomf = Image.open(os.path.join(plot_directory, \"pt{0:04.0f}_comfortheatmap.png\".format(pt_idx)))\n",
    "    spred = Image.open(os.path.join(plot_directory, \"pt{0:04.0f}_reductionheatmap.png\".format(pt_idx)))\n",
    "    \n",
    "#     fix image width issue\n",
    "    # profiles\n",
    "    st = []\n",
    "    for period in [\"May\", \"October\"]:\n",
    "        sp = os.path.join(plot_directory, \"pt{0:04.0f}_profile_{1:}.png\".format(pt_idx, period.lower()).replace(\"&\", \"\").replace(\" \", \"\"))\n",
    "        st.append(Image.open(sp))\n",
    "    a = get_concat_h2(st[0], st[1])\n",
    "    a.save(os.path.join(plot_directory, \"pt{0:04.0f}_profile_collected.png\".format(pt_idx).replace(\"&\", \"\").replace(\" \", \"\")))\n",
    "    # resize profiles\n",
    "    basewidth = 4470\n",
    "    wpercent = (basewidth/float(a.size[0]))\n",
    "    hsize = int((float(a.size[1])*float(wpercent)))\n",
    "    a = a.resize((basewidth, hsize), Image.ANTIALIAS)\n",
    "    b = get_concat_v3(spcomf, spred, a)\n",
    "    point_path = os.path.join(plot_directory, \"pt{0:04.0f}_collected.png\".format(pt_idx).replace(\"&\", \"\").replace(\" \", \"\"))\n",
    "    print(\"Point plots joined in {}\".format(point_path))\n",
    "    b.save(point_path)"
   ]
  },
  {
   "cell_type": "code",
   "execution_count": null,
   "metadata": {},
   "outputs": [],
   "source": [
    "# Re-jig the utci for key points, where RH and DBT are adjusted based on evaporative cooling\n",
    "\n",
    "from PIL import Image\n",
    "\n",
    "def get_concat_h2(im1, im2):\n",
    "    dst = Image.new('RGB', (im1.width + im2.width, im1.height))\n",
    "    dst.paste(im1, (0, 0))\n",
    "    dst.paste(im2, (im1.width, 0))\n",
    "    return dst\n",
    "\n",
    "def get_concat_h3(im1, im2, im3):\n",
    "    dst = Image.new('RGB', (im1.width + im2.width + im3.width, im1.height))\n",
    "    dst.paste(im1, (0, 0))\n",
    "    dst.paste(im2, (im1.width, 0))\n",
    "    dst.paste(im3, (im1.width + im2.width, 0))\n",
    "    return dst\n",
    "\n",
    "def get_concat_v(im1, im2):\n",
    "    dst = Image.new('RGB', (im1.width, im1.height + im2.height))\n",
    "    dst.paste(im1, (0, 0))\n",
    "    dst.paste(im2, (0, im1.height))\n",
    "    return dst\n",
    "\n",
    "def get_concat_v3(im1, im2, im3):\n",
    "    dst = Image.new('RGB', (im1.width, im1.height + im2.height + im3.height))\n",
    "    dst.paste(im1, (0, 0))\n",
    "    dst.paste(im2, (0, im1.height))\n",
    "    dst.paste(im3, (0, im1.height + im2.height))\n",
    "    return dst\n",
    "\n",
    "def rejig_utci(dbt, mrt, rh, ws, water_distance=3.5, wind_stream=0.5, water_effective_distance=10):\n",
    "    from ladybug.psychrometrics import wet_bulb_from_db_rh, rel_humid_from_db_wb\n",
    "    wb_db_rh = np.vectorize(wet_bulb_from_db_rh)\n",
    "    rh_db_wb = np.vectorize(rel_humid_from_db_wb)\n",
    "    # Maximum distance from water body is 6m, and at the water body, DBT would equal WBT, at 10m DBT woudl equal DBT\n",
    "    # water_effective_distance = 10\n",
    "    # water_distance = 3.5  # [m]\n",
    "    # wind_stream = 0.9  # 1 is fully within downwind stream, 0 is outside downwind stream\n",
    "    \n",
    "    # Calculate WBT\n",
    "    wbt = wb_db_rh(dbt, rh)\n",
    "    \n",
    "    # Adjust effective DBT based on location\n",
    "    wbt_factor = max(0, (water_effective_distance - water_distance) * wind_stream / water_effective_distance)\n",
    "    dbt_factor = 1 - wbt_factor\n",
    "    dbt_adjusted = dbt * dbt_factor + wbt * wbt_factor\n",
    "\n",
    "    # Get new RH fom adjusted DBT\n",
    "    rh_adjusted = rh_db_wb(dbt_adjusted, wbt)\n",
    "\n",
    "    return tc.utci.universal_thermal_climate_index(dbt_adjusted, mrt, ws, rh_adjusted)\n",
    "\n",
    "d = {\n",
    "    192: {\n",
    "        \"water_distance\": 1,\n",
    "        \"wind_stream\": 0.5,\n",
    "        \"water_effective_distance\": 10\n",
    "    },\n",
    "    825: {\n",
    "        \"water_distance\": 1,\n",
    "        \"wind_stream\": 0.95,\n",
    "        \"water_effective_distance\": 10\n",
    "    },\n",
    "    1053: {\n",
    "        \"water_distance\": 6,\n",
    "        \"wind_stream\": 0.75,\n",
    "        \"water_effective_distance\": 10\n",
    "    }\n",
    "}\n",
    "n = 0\n",
    "for k, v in d.items():\n",
    "    if n>=9999999:\n",
    "        pass\n",
    "    else:\n",
    "\n",
    "        # Construct results object\n",
    "        fake_utci = np.tile(rejig_utci(dbt, mean_radiant_temperature[k], rh, ws, water_distance=v[\"water_distance\"], wind_stream=v[\"wind_stream\"], water_effective_distance=v[\"water_effective_distance\"]), (k+1, 1))\n",
    "        fake_pts = np.tile(np.array([0, 0, 0]), (k+1, 1))\n",
    "        print(of_utci.shape, fake_utci.shape, fake_pts.shape)\n",
    "\n",
    "        utci = tc.plot.UTCI(of_utci[0], fake_utci, fake_pts)\n",
    "        focus_pts = [k]\n",
    "\n",
    "        for pt_idx in focus_pts[0:]:\n",
    "            for period in [\"May\", \"October\", \"May & October\"]:\n",
    "                sp = os.path.join(plot_directory, \"pt{0:04.0f}_profile_{1:}.png\".format(pt_idx, period.lower()).replace(\"&\", \"\").replace(\" \", \"\"))\n",
    "                utci.utci_day_comparison(point_idx=pt_idx, period=period, tone_color=\"k\", save_path=sp, close=True)\n",
    "\n",
    "        for pt_idx in focus_pts[0:]:\n",
    "            sp = os.path.join(plot_directory, \"pt{0:04.0f}_comfortheatmap.png\".format(pt_idx))\n",
    "            utci.utci_heatmap(point_idx=pt_idx, save_path=sp, close=True)\n",
    "\n",
    "        for pt_idx in focus_pts[0:]:\n",
    "            sp = os.path.join(plot_directory, \"pt{0:04.0f}_reductionheatmap.png\".format(pt_idx))\n",
    "            utci.utci_reduction_heatmap(point_idx=pt_idx, save_path=sp, close=True)\n",
    "\n",
    "\n",
    "        for pt_idx in focus_pts[0:]:\n",
    "\n",
    "            spcomf = Image.open(os.path.join(plot_directory, \"pt{0:04.0f}_comfortheatmap.png\".format(pt_idx)))\n",
    "            spred = Image.open(os.path.join(plot_directory, \"pt{0:04.0f}_reductionheatmap.png\".format(pt_idx)))\n",
    "\n",
    "            st = []\n",
    "            for period in [\"May\", \"October\"]:\n",
    "                sp = os.path.join(plot_directory, \"pt{0:04.0f}_profile_{1:}.png\".format(pt_idx, period.lower()).replace(\"&\", \"\").replace(\" \", \"\"))\n",
    "                st.append(Image.open(sp))\n",
    "            a = get_concat_h2(st[0], st[1])\n",
    "            a.save(os.path.join(plot_directory, \"pt{0:04.0f}_profile_collected.png\".format(pt_idx).replace(\"&\", \"\").replace(\" \", \"\")))\n",
    "\n",
    "            # resize profiles\n",
    "            basewidth = 4470\n",
    "            wpercent = (basewidth/float(a.size[0]))\n",
    "            hsize = int((float(a.size[1])*float(wpercent)))\n",
    "            a = a.resize((basewidth, hsize), Image.ANTIALIAS)\n",
    "            b = get_concat_v3(spcomf, spred, a)\n",
    "            point_path = os.path.join(plot_directory, \"pt{0:04.0f}_collected.png\".format(pt_idx).replace(\"&\", \"\").replace(\" \", \"\"))\n",
    "\n",
    "            print(\"Point plots joined in {}\".format(point_path))\n",
    "            b.save(point_path)\n",
    "    n+=1"
   ]
  },
  {
   "cell_type": "code",
   "execution_count": null,
   "metadata": {},
   "outputs": [],
   "source": []
  }
 ],
 "metadata": {
  "kernelspec": {
   "display_name": "Python 3",
   "language": "python",
   "name": "python3"
  },
  "language_info": {
   "codemirror_mode": {
    "name": "ipython",
    "version": 3
   },
   "file_extension": ".py",
   "mimetype": "text/x-python",
   "name": "python",
   "nbconvert_exporter": "python",
   "pygments_lexer": "ipython3",
   "version": "3.7.6"
  }
 },
 "nbformat": 4,
 "nbformat_minor": 4
}
