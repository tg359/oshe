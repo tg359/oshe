{
 "cells": [
  {
   "cell_type": "code",
   "execution_count": 1,
   "metadata": {},
   "outputs": [
    {
     "data": {
      "text/html": [
       "<style>.container { width:95% !important; }</style>"
      ],
      "text/plain": [
       "<IPython.core.display.HTML object>"
      ]
     },
     "metadata": {},
     "output_type": "display_data"
    },
    {
     "name": "stdout",
     "output_type": "stream",
     "text": [
      "Failed to load paths from C:\\Users\\tgerrish\\Miniconda3\\lib\\site-packages\\honeybee\\config.json.\n",
      "Path to radiance is set to: c:/radiance\n"
     ]
    }
   ],
   "source": [
    "%matplotlib inline\n",
    "\n",
    "%load_ext autoreload\n",
    "%autoreload 2\n",
    "\n",
    "from IPython.core.display import display, HTML\n",
    "display(HTML(\"<style>.container { width:95% !important; }</style>\"))\n",
    "\n",
    "from pathlib import Path\n",
    "import platform\n",
    "import pandas as pd\n",
    "import numpy as np\n",
    "pd.plotting.register_matplotlib_converters()\n",
    "import matplotlib.pyplot as plt\n",
    "from matplotlib import dates, ticker\n",
    "\n",
    "import oshe as tc"
   ]
  },
  {
   "cell_type": "code",
   "execution_count": 23,
   "metadata": {},
   "outputs": [],
   "source": [
    "fp = \"../ARE_AZ_Sharjah.Sw.404490_TMYx.epw\"\n",
    "df = tc.helpers.load_weather(fp)\n",
    "out_dir = tc.helpers.create_directory(\"../plots\")"
   ]
  },
  {
   "cell_type": "code",
   "execution_count": 30,
   "metadata": {},
   "outputs": [
    {
     "name": "stdout",
     "output_type": "stream",
     "text": [
      "Diurnal plot saved to ..\\plots\\diurnal_rh.png\n",
      "Diurnal plot saved to ..\\plots\\diurnal_wbt.png\n",
      "Diurnal plot saved to ..\\plots\\diurnal_dpt.png\n"
     ]
    }
   ],
   "source": [
    "# Create dirunal profile charts\n",
    "moistures = [\"rh\", \"wbt\", \"dpt\"]\n",
    "for m in moistures:\n",
    "    tc.plot.diurnal(df, moisture=m, save_path=out_dir / \"diurnal_{0:}.png\".format(m))"
   ]
  },
  {
   "cell_type": "code",
   "execution_count": 31,
   "metadata": {},
   "outputs": [
    {
     "name": "stdout",
     "output_type": "stream",
     "text": [
      "Heatmap plot saved to ..\\plots\\heatmap_dry_bulb_temperature.png\n",
      "Heatmap plot saved to ..\\plots\\heatmap_global_horizontal_radiation.png\n",
      "Heatmap plot saved to ..\\plots\\heatmap_wind_speed.png\n",
      "Heatmap plot saved to ..\\plots\\heatmap_relative_humidity.png\n",
      "Heatmap plot saved to ..\\plots\\heatmap_wet_bulb_temperature.png\n",
      "Heatmap plot saved to ..\\plots\\heatmap_total_sky_cover.png\n"
     ]
    }
   ],
   "source": [
    "# Create heatmaps\n",
    "_vars = {\n",
    "    \"dry_bulb_temperature\": \"Reds\",\n",
    "    \"global_horizontal_radiation\": \"Oranges\",\n",
    "    \"wind_speed\": \"Greys\",\n",
    "    \"relative_humidity\": \"Blues\",\n",
    "    \"wet_bulb_temperature\": \"Greens\",\n",
    "    \"total_sky_cover\": \"Purples\",\n",
    "}\n",
    "for k, v in _vars.items():\n",
    "    tc.plot.heatmap_generic(df[k], cmap=v, save_path=out_dir / \"heatmap_{0:}.png\".format(k))"
   ]
  },
  {
   "cell_type": "code",
   "execution_count": 84,
   "metadata": {
    "scrolled": true
   },
   "outputs": [
    {
     "name": "stderr",
     "output_type": "stream",
     "text": [
      "C:\\Users\\tgerrish\\Desktop\\sharjahtemp\\oshe\\oshe\\plot.py:1353: UserWarning: This figure includes Axes that are not compatible with tight_layout, so results might be incorrect.\n",
      "  plt.tight_layout()\n"
     ]
    },
    {
     "name": "stdout",
     "output_type": "stream",
     "text": [
      "Windrose saved to ..\\plots\\windrose_Daily_Annual.png\n",
      "Windrose saved to ..\\plots\\windrose_Morning_Annual.png\n",
      "Windrose saved to ..\\plots\\windrose_Midday_Annual.png\n",
      "Windrose saved to ..\\plots\\windrose_Afternoon_Annual.png\n",
      "Windrose saved to ..\\plots\\windrose_Evening_Annual.png\n",
      "Windrose saved to ..\\plots\\windrose_Night_Annual.png\n",
      "Windrose saved to ..\\plots\\windrose_MorningShoulder_Annual.png\n",
      "Windrose saved to ..\\plots\\windrose_AfternoonShoulder_Annual.png\n",
      "Windrose saved to ..\\plots\\windrose_Daily_Spring.png\n",
      "Windrose saved to ..\\plots\\windrose_Morning_Spring.png\n",
      "Windrose saved to ..\\plots\\windrose_Midday_Spring.png\n",
      "Windrose saved to ..\\plots\\windrose_Afternoon_Spring.png\n",
      "Windrose saved to ..\\plots\\windrose_Evening_Spring.png\n",
      "Windrose saved to ..\\plots\\windrose_Night_Spring.png\n",
      "Windrose saved to ..\\plots\\windrose_MorningShoulder_Spring.png\n",
      "Windrose saved to ..\\plots\\windrose_AfternoonShoulder_Spring.png\n",
      "Windrose saved to ..\\plots\\windrose_Daily_Summer.png\n",
      "Windrose saved to ..\\plots\\windrose_Morning_Summer.png\n",
      "Windrose saved to ..\\plots\\windrose_Midday_Summer.png\n",
      "Windrose saved to ..\\plots\\windrose_Afternoon_Summer.png\n",
      "Windrose saved to ..\\plots\\windrose_Evening_Summer.png\n",
      "Windrose saved to ..\\plots\\windrose_Night_Summer.png\n",
      "Windrose saved to ..\\plots\\windrose_MorningShoulder_Summer.png\n",
      "Windrose saved to ..\\plots\\windrose_AfternoonShoulder_Summer.png\n",
      "Windrose saved to ..\\plots\\windrose_Daily_Autumn.png\n",
      "Windrose saved to ..\\plots\\windrose_Morning_Autumn.png\n",
      "Windrose saved to ..\\plots\\windrose_Midday_Autumn.png\n",
      "Windrose saved to ..\\plots\\windrose_Afternoon_Autumn.png\n",
      "Windrose saved to ..\\plots\\windrose_Evening_Autumn.png\n",
      "Windrose saved to ..\\plots\\windrose_Night_Autumn.png\n",
      "Windrose saved to ..\\plots\\windrose_MorningShoulder_Autumn.png\n",
      "Windrose saved to ..\\plots\\windrose_AfternoonShoulder_Autumn.png\n",
      "Windrose saved to ..\\plots\\windrose_Daily_Winter.png\n",
      "Windrose saved to ..\\plots\\windrose_Morning_Winter.png\n",
      "Windrose saved to ..\\plots\\windrose_Midday_Winter.png\n",
      "Windrose saved to ..\\plots\\windrose_Afternoon_Winter.png\n",
      "Windrose saved to ..\\plots\\windrose_Evening_Winter.png\n",
      "Windrose saved to ..\\plots\\windrose_Night_Winter.png\n",
      "Windrose saved to ..\\plots\\windrose_MorningShoulder_Winter.png\n",
      "Windrose saved to ..\\plots\\windrose_AfternoonShoulder_Winter.png\n",
      "Windrose saved to ..\\plots\\windrose_Daily_Shoulder.png\n",
      "Windrose saved to ..\\plots\\windrose_Morning_Shoulder.png\n",
      "Windrose saved to ..\\plots\\windrose_Midday_Shoulder.png\n",
      "Windrose saved to ..\\plots\\windrose_Afternoon_Shoulder.png\n",
      "Windrose saved to ..\\plots\\windrose_Evening_Shoulder.png\n",
      "Windrose saved to ..\\plots\\windrose_Night_Shoulder.png\n",
      "Windrose saved to ..\\plots\\windrose_MorningShoulder_Shoulder.png\n",
      "Windrose saved to ..\\plots\\windrose_AfternoonShoulder_Shoulder.png\n"
     ]
    },
    {
     "data": {
      "text/plain": [
       "<Figure size 432x432 with 0 Axes>"
      ]
     },
     "metadata": {},
     "output_type": "display_data"
    }
   ],
   "source": [
    "# Create windroses\n",
    "for s in [\"Annual\",\"Spring\",\"Summer\",\"Autumn\",\"Winter\",\"Shoulder\"]:\n",
    "    for d in [\"Daily\", \"Morning\", \"Midday\", \"Afternoon\", \"Evening\", \"Night\", \"MorningShoulder\", \"AfternoonShoulder\"]:\n",
    "        tc.plot.windrose(df, season_period=s, day_period=d, n_sector=16, save_path=out_dir / \"windrose_{0:}_{1:}.png\".format(d, s), close=True)"
   ]
  },
  {
   "cell_type": "code",
   "execution_count": 39,
   "metadata": {
    "scrolled": true
   },
   "outputs": [
    {
     "name": "stdout",
     "output_type": "stream",
     "text": [
      "Wind frequency histogram saved to ..\\plots\\windfreq_Daily_Annual.png\n",
      "Wind frequency histogram saved to ..\\plots\\windfreq_Morning_Annual.png\n",
      "Wind frequency histogram saved to ..\\plots\\windfreq_Midday_Annual.png\n",
      "Wind frequency histogram saved to ..\\plots\\windfreq_Afternoon_Annual.png\n",
      "Wind frequency histogram saved to ..\\plots\\windfreq_Evening_Annual.png\n",
      "Wind frequency histogram saved to ..\\plots\\windfreq_Night_Annual.png\n",
      "Wind frequency histogram saved to ..\\plots\\windfreq_MorningShoulder_Annual.png\n",
      "Wind frequency histogram saved to ..\\plots\\windfreq_AfternoonShoulder_Annual.png\n",
      "Wind frequency histogram saved to ..\\plots\\windfreq_Daily_Spring.png\n",
      "Wind frequency histogram saved to ..\\plots\\windfreq_Morning_Spring.png\n",
      "Wind frequency histogram saved to ..\\plots\\windfreq_Midday_Spring.png\n",
      "Wind frequency histogram saved to ..\\plots\\windfreq_Afternoon_Spring.png\n",
      "Wind frequency histogram saved to ..\\plots\\windfreq_Evening_Spring.png\n",
      "Wind frequency histogram saved to ..\\plots\\windfreq_Night_Spring.png\n",
      "Wind frequency histogram saved to ..\\plots\\windfreq_MorningShoulder_Spring.png\n",
      "Wind frequency histogram saved to ..\\plots\\windfreq_AfternoonShoulder_Spring.png\n",
      "Wind frequency histogram saved to ..\\plots\\windfreq_Daily_Summer.png\n",
      "Wind frequency histogram saved to ..\\plots\\windfreq_Morning_Summer.png\n",
      "Wind frequency histogram saved to ..\\plots\\windfreq_Midday_Summer.png\n",
      "Wind frequency histogram saved to ..\\plots\\windfreq_Afternoon_Summer.png\n",
      "Wind frequency histogram saved to ..\\plots\\windfreq_Evening_Summer.png\n",
      "Wind frequency histogram saved to ..\\plots\\windfreq_Night_Summer.png\n",
      "Wind frequency histogram saved to ..\\plots\\windfreq_MorningShoulder_Summer.png\n",
      "Wind frequency histogram saved to ..\\plots\\windfreq_AfternoonShoulder_Summer.png\n",
      "Wind frequency histogram saved to ..\\plots\\windfreq_Daily_Autumn.png\n",
      "Wind frequency histogram saved to ..\\plots\\windfreq_Morning_Autumn.png\n",
      "Wind frequency histogram saved to ..\\plots\\windfreq_Midday_Autumn.png\n",
      "Wind frequency histogram saved to ..\\plots\\windfreq_Afternoon_Autumn.png\n",
      "Wind frequency histogram saved to ..\\plots\\windfreq_Evening_Autumn.png\n",
      "Wind frequency histogram saved to ..\\plots\\windfreq_Night_Autumn.png\n",
      "Wind frequency histogram saved to ..\\plots\\windfreq_MorningShoulder_Autumn.png\n",
      "Wind frequency histogram saved to ..\\plots\\windfreq_AfternoonShoulder_Autumn.png\n",
      "Wind frequency histogram saved to ..\\plots\\windfreq_Daily_Winter.png\n",
      "Wind frequency histogram saved to ..\\plots\\windfreq_Morning_Winter.png\n",
      "Wind frequency histogram saved to ..\\plots\\windfreq_Midday_Winter.png\n",
      "Wind frequency histogram saved to ..\\plots\\windfreq_Afternoon_Winter.png\n",
      "Wind frequency histogram saved to ..\\plots\\windfreq_Evening_Winter.png\n",
      "Wind frequency histogram saved to ..\\plots\\windfreq_Night_Winter.png\n",
      "Wind frequency histogram saved to ..\\plots\\windfreq_MorningShoulder_Winter.png\n",
      "Wind frequency histogram saved to ..\\plots\\windfreq_AfternoonShoulder_Winter.png\n",
      "Wind frequency histogram saved to ..\\plots\\windfreq_Daily_Shoulder.png\n",
      "Wind frequency histogram saved to ..\\plots\\windfreq_Morning_Shoulder.png\n",
      "Wind frequency histogram saved to ..\\plots\\windfreq_Midday_Shoulder.png\n",
      "Wind frequency histogram saved to ..\\plots\\windfreq_Afternoon_Shoulder.png\n",
      "Wind frequency histogram saved to ..\\plots\\windfreq_Evening_Shoulder.png\n",
      "Wind frequency histogram saved to ..\\plots\\windfreq_Night_Shoulder.png\n",
      "Wind frequency histogram saved to ..\\plots\\windfreq_MorningShoulder_Shoulder.png\n",
      "Wind frequency histogram saved to ..\\plots\\windfreq_AfternoonShoulder_Shoulder.png\n"
     ]
    }
   ],
   "source": [
    "# Create wind frequency\n",
    "for s in [\"Annual\",\"Spring\",\"Summer\",\"Autumn\",\"Winter\",\"Shoulder\"][0:]:\n",
    "    for d in [\"Daily\", \"Morning\", \"Midday\", \"Afternoon\", \"Evening\", \"Night\", \"MorningShoulder\", \"AfternoonShoulder\"][0:]:\n",
    "        tc.plot.wind_frequency(df, season_period=s, day_period=d, save_path=out_dir / \"windfreq_{0:}_{1:}.png\".format(d, s), close=True)"
   ]
  },
  {
   "cell_type": "code",
   "execution_count": 52,
   "metadata": {},
   "outputs": [
    {
     "name": "stdout",
     "output_type": "stream",
     "text": [
      "\n",
      "Running for SHADED CONCRETE\n",
      "Simulation completed\n",
      "Writing recipe contents to: C:\\Users\\tgerrish\\AppData\\Local\\Temp\\openfield\\gridbased_annual\n",
      "Calculating solar values...\n",
      "# Number of sun up hours: 4428\n",
      "Writing sun matrix to C:\\Users\\tgerrish\\AppData\\Local\\Temp\\openfield\\gridbased_annual\\sky\\sunmtx.smx\n",
      "Direct and diffuse solar radiation simulation completed\n",
      "Radiance results loaded\n",
      "Mean radiant temperature calculated [0.06 seconds]\n"
     ]
    },
    {
     "name": "stderr",
     "output_type": "stream",
     "text": [
      "C:\\Users\\tgerrish\\Desktop\\sharjahtemp\\oshe\\oshe\\utci.py:72: SettingWithCopyWarning: \n",
      "A value is trying to be set on a copy of a slice from a DataFrame\n",
      "\n",
      "See the caveats in the documentation: https://pandas.pydata.org/pandas-docs/stable/user_guide/indexing.html#returning-a-view-versus-a-copy\n",
      "  wind_speed[wind_speed < 0.5] = 0.5\n",
      "C:\\Users\\tgerrish\\Desktop\\sharjahtemp\\oshe\\oshe\\utci.py:73: SettingWithCopyWarning: \n",
      "A value is trying to be set on a copy of a slice from a DataFrame\n",
      "\n",
      "See the caveats in the documentation: https://pandas.pydata.org/pandas-docs/stable/user_guide/indexing.html#returning-a-view-versus-a-copy\n",
      "  wind_speed[wind_speed > 17] = 17\n"
     ]
    },
    {
     "name": "stdout",
     "output_type": "stream",
     "text": [
      "Universal thermal climate index calculated [0.19 seconds]\n",
      "\n",
      "Running for UNSHADED CONCRETE\n",
      "Simulation completed\n",
      "Writing recipe contents to: C:\\Users\\tgerrish\\AppData\\Local\\Temp\\openfield\\gridbased_annual\n",
      "Calculating solar values...\n",
      "# Number of sun up hours: 4428\n",
      "Writing sun matrix to C:\\Users\\tgerrish\\AppData\\Local\\Temp\\openfield\\gridbased_annual\\sky\\sunmtx.smx\n",
      "Direct and diffuse solar radiation simulation completed\n",
      "Radiance results loaded\n",
      "Mean radiant temperature calculated [0.09 seconds]\n",
      "Universal thermal climate index calculated [0.20 seconds]\n",
      "\n",
      "Running for SHADED GRASS\n",
      "Simulation completed\n",
      "Writing recipe contents to: C:\\Users\\tgerrish\\AppData\\Local\\Temp\\openfield\\gridbased_annual\n",
      "Calculating solar values...\n",
      "# Number of sun up hours: 4428\n",
      "Writing sun matrix to C:\\Users\\tgerrish\\AppData\\Local\\Temp\\openfield\\gridbased_annual\\sky\\sunmtx.smx\n",
      "Direct and diffuse solar radiation simulation completed\n",
      "Radiance results loaded\n",
      "Mean radiant temperature calculated [0.06 seconds]\n",
      "Universal thermal climate index calculated [0.18 seconds]\n",
      "\n",
      "Running for UNSHADED GRASS\n",
      "Simulation completed\n",
      "Writing recipe contents to: C:\\Users\\tgerrish\\AppData\\Local\\Temp\\openfield\\gridbased_annual\n",
      "Calculating solar values...\n",
      "# Number of sun up hours: 4428\n",
      "Writing sun matrix to C:\\Users\\tgerrish\\AppData\\Local\\Temp\\openfield\\gridbased_annual\\sky\\sunmtx.smx\n",
      "Direct and diffuse solar radiation simulation completed\n",
      "Radiance results loaded\n",
      "Mean radiant temperature calculated [0.07 seconds]\n",
      "Universal thermal climate index calculated [0.18 seconds]\n"
     ]
    }
   ],
   "source": [
    "# Open field analysis\n",
    "idd_file = r\"C:\\openstudio-2.9.0\\EnergyPlus\\Energy+.idd\"\n",
    "\n",
    "def generate_results(epw_file, idd_file, ground_material, shaded=False):\n",
    "    \n",
    "    # Load epw\n",
    "    epw = tc.helpers.load_weather(epw_file)\n",
    "\n",
    "    # Get climate variables\n",
    "    dbt = epw.dbt\n",
    "    rh = epw.rh\n",
    "    ws = epw.ws\n",
    "    hir = epw.hir\n",
    "    sun_altitude = epw.sun_altitude\n",
    "    \n",
    "    # Define ground zone from material (using predefined dictionary of properties)\n",
    "    gnd_mat = tc.material.material_dict[ground_material]\n",
    "    ground_zone = tc.geometry.Ground(gnd_mat, xy=5, depth=1.5, subsurface_size=5)\n",
    "    \n",
    "    # Create shade objects if shaded\n",
    "    if shaded:\n",
    "        shades = [\n",
    "            tc.geometry.Shade(vertices=[[5, 5, 3], [5, 5, 0], [5, -5, 0], [5, -5, 3]]),\n",
    "            tc.geometry.Shade(vertices=[[5, -5, 3], [5, -5, 0], [-5, -5, 0], [-5, -5, 3]]),\n",
    "            tc.geometry.Shade(vertices=[[-5, -5, 3], [-5, -5, 0], [-5, 5, 0], [-5, 5, 3]]),\n",
    "            tc.geometry.Shade(vertices=[[-5, 5, 3], [-5, 5, 0], [5, 5, 0], [5, 5, 3]]),\n",
    "            tc.geometry.Shade(vertices=[[-5, -5, 3], [-5, 5, 3], [5, 5, 3], [5, -5, 3]]),\n",
    "        ]\n",
    "    else:\n",
    "        shades = None\n",
    "    \n",
    "    of_srf_temp = tc.energyplus.run_energyplus(epw_file, idd_file, ground=ground_zone, shades=shades, run=True).to_frame().values.T[0]  # Calculate ground surface temperature\n",
    "    of_dir_rad, of_dif_rad = tc.radiance.run_radiance(epw_file, ground=ground_zone, shades=shades, run=True)  # Calculate incident solar direct and diffuse radiation\n",
    "    \n",
    "    # Calculate MRT & UTCI\n",
    "    of_mrt = tc.mrt.mean_radiant_temperature(surrounding_surfaces_temperature=of_srf_temp[0], horizontal_infrared_radiation_intensity=hir, diffuse_horizontal_solar=of_dif_rad.T[0], direct_normal_solar=of_dir_rad.T[0], sun_altitude=sun_altitude, ground_reflectivity=gnd_mat.reflectivity, sky_exposure=0 if shaded else 1)[0]\n",
    "    of_utci = tc.utci.universal_thermal_climate_index(dbt, of_mrt, ws, rh)\n",
    "    \n",
    "    return {\n",
    "        ground_material + \"_{0:}\".format(\"SHADED\" if shaded else \"UNSHADED\"): {\n",
    "            \"srf_temp\": of_srf_temp[0],\n",
    "            \"mrt\": of_mrt,\n",
    "            \"utci\": of_utci\n",
    "        }\n",
    "    }\n",
    "\n",
    "# Simulate cases\n",
    "res = []\n",
    "for mat in [\"CONCRETE\", \"GRASS\"]:\n",
    "    for shaded in [True, False]:\n",
    "        print(\"\\nRunning for {} {}\".format(\"SHADED\" if shaded else \"UNSHADED\", mat))\n",
    "        res.append(generate_results(fp, idd_file, mat, shaded=shaded))\n",
    "\n",
    "# Join results into DataFrame\n",
    "result = {}\n",
    "for d in res:\n",
    "    result.update(d)\n",
    "\n",
    "ll = []\n",
    "for k, v in result.items():\n",
    "    ll.append(pd.DataFrame.from_dict(v).set_index(tc.helpers.ANNUAL_DATETIME))\n",
    "\n",
    "comf_df = pd.concat(ll, axis=1, keys=list(result.keys()))"
   ]
  },
  {
   "cell_type": "code",
   "execution_count": 83,
   "metadata": {},
   "outputs": [
    {
     "name": "stdout",
     "output_type": "stream",
     "text": [
      "Plot saved to ..\\plots\\utciheatmap_concrete_shaded.png\n",
      "UTCI detailed saved to ..\\plots\\utciheatmapdetailed_concrete_shaded.png\n",
      "Plot saved to ..\\plots\\utciheatmap_concrete_unshaded.png\n",
      "UTCI detailed saved to ..\\plots\\utciheatmapdetailed_concrete_unshaded.png\n",
      "Plot saved to ..\\plots\\utciheatmap_grass_shaded.png\n",
      "UTCI detailed saved to ..\\plots\\utciheatmapdetailed_grass_shaded.png\n",
      "Plot saved to ..\\plots\\utciheatmap_grass_unshaded.png\n",
      "UTCI detailed saved to ..\\plots\\utciheatmapdetailed_grass_unshaded.png\n"
     ]
    }
   ],
   "source": [
    "ums = [\"CONCRETE_SHADED\", \"CONCRETE_UNSHADED\", \"GRASS_SHADED\", \"GRASS_UNSHADED\"]\n",
    "for um in ums[0:]:\n",
    "    title = \"{} ({})\\n{} - {} - {}\".format(um.split(\"_\")[0].title(), um.split(\"_\")[1].title(), df.city.values[0], df.country.values[0], df.station_id.values[0])\n",
    "    tc.plot.utci_comfort_heatmap(comf_df[um][\"utci\"].values, tone_color=\"k\", invert_y=False, title=title, save_path=out_dir / \"utciheatmap_{0:}_{1:}.png\".format(um.split(\"_\")[0].lower(), um.split(\"_\")[1].lower()), close=True)\n",
    "    \n",
    "    tc.plot.utci_heatmap_detailed_generic(comf_df[um][\"utci\"], tone_color=\"k\", invert_y=False, title=title, save_path=out_dir / \"utciheatmapdetailed_{0:}_{1:}.png\".format(um.split(\"_\")[0].lower(), um.split(\"_\")[1].lower()), close=True)"
   ]
  },
  {
   "cell_type": "code",
   "execution_count": null,
   "metadata": {},
   "outputs": [],
   "source": []
  }
 ],
 "metadata": {
  "kernelspec": {
   "display_name": "Python 3",
   "language": "python",
   "name": "python3"
  },
  "language_info": {
   "codemirror_mode": {
    "name": "ipython",
    "version": 3
   },
   "file_extension": ".py",
   "mimetype": "text/x-python",
   "name": "python",
   "nbconvert_exporter": "python",
   "pygments_lexer": "ipython3",
   "version": "3.7.6"
  }
 },
 "nbformat": 4,
 "nbformat_minor": 4
}
