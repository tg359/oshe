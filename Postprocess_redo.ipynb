{
 "cells": [
  {
   "cell_type": "code",
   "execution_count": 1,
   "metadata": {},
   "outputs": [
    {
     "data": {
      "text/html": [
       "<style>.container { width:95% !important; }</style>"
      ],
      "text/plain": [
       "<IPython.core.display.HTML object>"
      ]
     },
     "metadata": {},
     "output_type": "display_data"
    },
    {
     "name": "stdout",
     "output_type": "stream",
     "text": [
      "Failed to load paths from C:\\Users\\tgerrish\\Miniconda3\\lib\\site-packages\\honeybee\\config.json.\n",
      "Path to radiance is set to: c:/radiance\n"
     ]
    }
   ],
   "source": [
    "%matplotlib inline\n",
    "\n",
    "%load_ext autoreload\n",
    "%autoreload 2\n",
    "\n",
    "from IPython.core.display import display, HTML\n",
    "display(HTML(\"<style>.container { width:95% !important; }</style>\"))\n",
    "\n",
    "from pathlib import Path\n",
    "import pandas as pd\n",
    "import numpy as np\n",
    "pd.plotting.register_matplotlib_converters()\n",
    "import matplotlib.pyplot as plt\n",
    "from matplotlib import dates, ticker\n",
    "\n",
    "from ladybug.epw import EPW\n",
    "import oshe as tc"
   ]
  },
  {
   "cell_type": "code",
   "execution_count": 2,
   "metadata": {},
   "outputs": [],
   "source": [
    "idd_file = r\"C:\\openstudio-2.9.0\\EnergyPlus\\Energy+.idd\"\n",
    "epw_file = r\"C:\\Users\\tgerrish\\OneDrive - BuroHappold\\0045131 Ghadan Future Parks\\UWG_ARE_AZ_Abu.Dhabi-Bateen.Exec.AP.412160_TMYx_URBAN_02.epw\""
   ]
  },
  {
   "cell_type": "code",
   "execution_count": 3,
   "metadata": {},
   "outputs": [],
   "source": [
    "# Load weatherfile data\n",
    "\n",
    "# Load epw\n",
    "epw = tc.helpers.load_weather(epw_file)\n",
    "\n",
    "# Get climate variables\n",
    "dbt = epw.dbt.values\n",
    "rh = epw.rh.values\n",
    "ws = epw.ws.values\n",
    "hir = epw.hir.values\n",
    "\n",
    "# Calculate hourly solar altitudes\n",
    "sun_altitude = epw.sun_altitude.values"
   ]
  },
  {
   "cell_type": "code",
   "execution_count": 27,
   "metadata": {
    "scrolled": true
   },
   "outputs": [
    {
     "name": "stdout",
     "output_type": "stream",
     "text": [
      "Universal thermal climate index calculated [0.10 seconds]\n",
      "Plot saved to C:\\Users\\tgerrish\\OneDrive - BuroHappold\\0045131 Ghadan Future Parks\\ChamberOfCommerce\\plots2\\Area2\\openfield_comfortheatmap.png\n",
      "Plot saved to C:\\Users\\tgerrish\\OneDrive - BuroHappold\\0045131 Ghadan Future Parks\\ChamberOfCommerce\\plots2\\Area2\\comfortable_hours_may.png\n",
      "Plot saved to C:\\Users\\tgerrish\\OneDrive - BuroHappold\\0045131 Ghadan Future Parks\\ChamberOfCommerce\\plots2\\Area2\\comfortable_hours_october.png\n",
      "Plot saved to C:\\Users\\tgerrish\\OneDrive - BuroHappold\\0045131 Ghadan Future Parks\\ChamberOfCommerce\\plots2\\Area2\\comfortable_hours_annual.png\n",
      "Plot saved to C:\\Users\\tgerrish\\OneDrive - BuroHappold\\0045131 Ghadan Future Parks\\ChamberOfCommerce\\plots2\\Area2\\context.png\n",
      "Plot saved to C:\\Users\\tgerrish\\OneDrive - BuroHappold\\0045131 Ghadan Future Parks\\ChamberOfCommerce\\plots2\\Area2\\context_ptlabel.png\n",
      "Plot saved to C:\\Users\\tgerrish\\OneDrive - BuroHappold\\0045131 Ghadan Future Parks\\ChamberOfCommerce\\plots2\\Area2\\context_focuspts.png\n",
      "Plot saved to C:\\Users\\tgerrish\\OneDrive - BuroHappold\\0045131 Ghadan Future Parks\\ChamberOfCommerce\\plots2\\Area2\\improvement_annual_morningshoulder.png\n",
      "Plot saved to C:\\Users\\tgerrish\\OneDrive - BuroHappold\\0045131 Ghadan Future Parks\\ChamberOfCommerce\\plots2\\Area2\\improvement_annual_afternoonshoulder.png\n",
      "Plot saved to C:\\Users\\tgerrish\\OneDrive - BuroHappold\\0045131 Ghadan Future Parks\\ChamberOfCommerce\\plots2\\Area2\\improvement_annual_morningafternoonshoulder.png\n",
      "Plot saved to C:\\Users\\tgerrish\\OneDrive - BuroHappold\\0045131 Ghadan Future Parks\\ChamberOfCommerce\\plots2\\Area2\\improvement_may_morningshoulder.png\n",
      "Plot saved to C:\\Users\\tgerrish\\OneDrive - BuroHappold\\0045131 Ghadan Future Parks\\ChamberOfCommerce\\plots2\\Area2\\improvement_may_afternoonshoulder.png\n",
      "Plot saved to C:\\Users\\tgerrish\\OneDrive - BuroHappold\\0045131 Ghadan Future Parks\\ChamberOfCommerce\\plots2\\Area2\\improvement_may_morningafternoonshoulder.png\n",
      "Plot saved to C:\\Users\\tgerrish\\OneDrive - BuroHappold\\0045131 Ghadan Future Parks\\ChamberOfCommerce\\plots2\\Area2\\improvement_october_morningshoulder.png\n",
      "Plot saved to C:\\Users\\tgerrish\\OneDrive - BuroHappold\\0045131 Ghadan Future Parks\\ChamberOfCommerce\\plots2\\Area2\\improvement_october_afternoonshoulder.png\n",
      "Plot saved to C:\\Users\\tgerrish\\OneDrive - BuroHappold\\0045131 Ghadan Future Parks\\ChamberOfCommerce\\plots2\\Area2\\improvement_october_morningafternoonshoulder.png\n",
      "Plot saved to C:\\Users\\tgerrish\\OneDrive - BuroHappold\\0045131 Ghadan Future Parks\\ChamberOfCommerce\\plots2\\Area2\\comfort_annual_morningshoulder.png\n",
      "Plot saved to C:\\Users\\tgerrish\\OneDrive - BuroHappold\\0045131 Ghadan Future Parks\\ChamberOfCommerce\\plots2\\Area2\\comfort_annual_afternoonshoulder.png\n",
      "Plot saved to C:\\Users\\tgerrish\\OneDrive - BuroHappold\\0045131 Ghadan Future Parks\\ChamberOfCommerce\\plots2\\Area2\\comfort_annual_morningafternoonshoulder.png\n",
      "Plot saved to C:\\Users\\tgerrish\\OneDrive - BuroHappold\\0045131 Ghadan Future Parks\\ChamberOfCommerce\\plots2\\Area2\\comfort_may_morningshoulder.png\n",
      "Plot saved to C:\\Users\\tgerrish\\OneDrive - BuroHappold\\0045131 Ghadan Future Parks\\ChamberOfCommerce\\plots2\\Area2\\comfort_may_afternoonshoulder.png\n",
      "Plot saved to C:\\Users\\tgerrish\\OneDrive - BuroHappold\\0045131 Ghadan Future Parks\\ChamberOfCommerce\\plots2\\Area2\\comfort_may_morningafternoonshoulder.png\n",
      "Plot saved to C:\\Users\\tgerrish\\OneDrive - BuroHappold\\0045131 Ghadan Future Parks\\ChamberOfCommerce\\plots2\\Area2\\comfort_october_morningshoulder.png\n",
      "Plot saved to C:\\Users\\tgerrish\\OneDrive - BuroHappold\\0045131 Ghadan Future Parks\\ChamberOfCommerce\\plots2\\Area2\\comfort_october_afternoonshoulder.png\n",
      "Plot saved to C:\\Users\\tgerrish\\OneDrive - BuroHappold\\0045131 Ghadan Future Parks\\ChamberOfCommerce\\plots2\\Area2\\comfort_october_morningafternoonshoulder.png\n",
      "Plot saved to C:\\Users\\tgerrish\\OneDrive - BuroHappold\\0045131 Ghadan Future Parks\\ChamberOfCommerce\\plots2\\Area2\\reduction_annual_morningshoulder.png\n",
      "Plot saved to C:\\Users\\tgerrish\\OneDrive - BuroHappold\\0045131 Ghadan Future Parks\\ChamberOfCommerce\\plots2\\Area2\\reduction_annual_afternoonshoulder.png\n",
      "Plot saved to C:\\Users\\tgerrish\\OneDrive - BuroHappold\\0045131 Ghadan Future Parks\\ChamberOfCommerce\\plots2\\Area2\\reduction_annual_morningafternoonshoulder.png\n",
      "Plot saved to C:\\Users\\tgerrish\\OneDrive - BuroHappold\\0045131 Ghadan Future Parks\\ChamberOfCommerce\\plots2\\Area2\\reduction_may_morningshoulder.png\n",
      "Plot saved to C:\\Users\\tgerrish\\OneDrive - BuroHappold\\0045131 Ghadan Future Parks\\ChamberOfCommerce\\plots2\\Area2\\reduction_may_afternoonshoulder.png\n",
      "Plot saved to C:\\Users\\tgerrish\\OneDrive - BuroHappold\\0045131 Ghadan Future Parks\\ChamberOfCommerce\\plots2\\Area2\\reduction_may_morningafternoonshoulder.png\n",
      "Plot saved to C:\\Users\\tgerrish\\OneDrive - BuroHappold\\0045131 Ghadan Future Parks\\ChamberOfCommerce\\plots2\\Area2\\reduction_october_morningshoulder.png\n",
      "Plot saved to C:\\Users\\tgerrish\\OneDrive - BuroHappold\\0045131 Ghadan Future Parks\\ChamberOfCommerce\\plots2\\Area2\\reduction_october_afternoonshoulder.png\n",
      "Plot saved to C:\\Users\\tgerrish\\OneDrive - BuroHappold\\0045131 Ghadan Future Parks\\ChamberOfCommerce\\plots2\\Area2\\reduction_october_morningafternoonshoulder.png\n",
      "Plot saved to C:\\Users\\tgerrish\\OneDrive - BuroHappold\\0045131 Ghadan Future Parks\\ChamberOfCommerce\\plots2\\Area2\\pt0013_reductionheatmap.png\n",
      "Plot saved to C:\\Users\\tgerrish\\OneDrive - BuroHappold\\0045131 Ghadan Future Parks\\ChamberOfCommerce\\plots2\\Area2\\pt0013_comfortheatmap.png\n",
      "Plot saved to C:\\Users\\tgerrish\\OneDrive - BuroHappold\\0045131 Ghadan Future Parks\\ChamberOfCommerce\\plots2\\Area2\\pt0013_profile_may.png\n",
      "Plot saved to C:\\Users\\tgerrish\\OneDrive - BuroHappold\\0045131 Ghadan Future Parks\\ChamberOfCommerce\\plots2\\Area2\\pt0013_profile_october.png\n",
      "Plot saved to C:\\Users\\tgerrish\\OneDrive - BuroHappold\\0045131 Ghadan Future Parks\\ChamberOfCommerce\\plots2\\Area2\\pt0058_reductionheatmap.png\n",
      "Plot saved to C:\\Users\\tgerrish\\OneDrive - BuroHappold\\0045131 Ghadan Future Parks\\ChamberOfCommerce\\plots2\\Area2\\pt0058_comfortheatmap.png\n",
      "Plot saved to C:\\Users\\tgerrish\\OneDrive - BuroHappold\\0045131 Ghadan Future Parks\\ChamberOfCommerce\\plots2\\Area2\\pt0058_profile_may.png\n",
      "Plot saved to C:\\Users\\tgerrish\\OneDrive - BuroHappold\\0045131 Ghadan Future Parks\\ChamberOfCommerce\\plots2\\Area2\\pt0058_profile_october.png\n",
      "Plot saved to C:\\Users\\tgerrish\\OneDrive - BuroHappold\\0045131 Ghadan Future Parks\\ChamberOfCommerce\\plots2\\Area2\\pt0101_reductionheatmap.png\n",
      "Plot saved to C:\\Users\\tgerrish\\OneDrive - BuroHappold\\0045131 Ghadan Future Parks\\ChamberOfCommerce\\plots2\\Area2\\pt0101_comfortheatmap.png\n",
      "Plot saved to C:\\Users\\tgerrish\\OneDrive - BuroHappold\\0045131 Ghadan Future Parks\\ChamberOfCommerce\\plots2\\Area2\\pt0101_profile_may.png\n",
      "Plot saved to C:\\Users\\tgerrish\\OneDrive - BuroHappold\\0045131 Ghadan Future Parks\\ChamberOfCommerce\\plots2\\Area2\\pt0101_profile_october.png\n",
      "Summary saved to C:\\Users\\tgerrish\\OneDrive - BuroHappold\\0045131 Ghadan Future Parks\\ChamberOfCommerce\\plots2\\Area2\\shoulder_reduction_summary.csv\n"
     ]
    }
   ],
   "source": [
    "# NV method processing\n",
    "\n",
    "_dir = Path(\"C:\\Users\\tgerrish\\OneDrive - BuroHappold\\0045131 Ghadan Future Parks\\CapitalGardens\")\n",
    "\n",
    "# Load Openfield MRT and calculate UTCI using same method as NV MRT > UTCI is generated\n",
    "of_mrt = pd.read_csv(r\"C:\\Users\\tgerrish\\OneDrive - BuroHappold\\0045131 Ghadan Future Parks\\openfield_nv.mrt\", header=None).values.T\n",
    "of_utci = tc.utci.universal_thermal_climate_index(dbt, of_mrt, ws, rh)[0]\n",
    "\n",
    "# Load MRT\n",
    "mean_radiant_temperature = pd.read_csv(_dir+\"\\MRT.csv\", header=None).values.T\n",
    "\n",
    "# Load PTS\n",
    "points = pd.read_csv(_dir+\"\\points.csv\", header=None).values\n",
    "\n",
    "# Load focus pts\n",
    "focus_pts = pd.read_csv(_dir + \"\\\\focus_pts.csv\", header=None).values.T[0]\n",
    "\n",
    "# Set radiance geometries\n",
    "rad_files = []\n",
    "for root, dirs, files in os.walk(_dir):\n",
    "    for file in files:\n",
    "        if file.endswith(\"opq.rad\") or file.endswith(\"glz.rad\"):\n",
    "             rad_files.append(os.path.join(root, file))\n",
    "\n",
    "# Calculate UTCI\n",
    "universal_thermal_climate_index = tc.utci.utci_parallel(\n",
    "        threads=8, \n",
    "        air_temperature=dbt, \n",
    "        mean_radiant_temperature=mean_radiant_temperature.T, \n",
    "        wind_speed=ws, \n",
    "        relative_humidity=rh\n",
    "    )\n",
    "\n",
    "# Create UTCI object\n",
    "utci = tc.plot.UTCI(of_utci, universal_thermal_climate_index, points)\n",
    "\n",
    "# Plot the results\n",
    "utci.generate_plots(rad_files=rad_files, focus_pts=focus_pts, boundary=None, plot_directory=_dir+\"\\plots2\")"
   ]
  },
  {
   "cell_type": "code",
   "execution_count": 20,
   "metadata": {},
   "outputs": [
    {
     "name": "stdout",
     "output_type": "stream",
     "text": [
      "Ground surface temperature simulation completed\n",
      "EnergyPlus results loaded\n",
      "Writing recipe contents to: C:\\Users\\tgerrish\\AppData\\Local\\Temp\\openfield\\gridbased_annual\n",
      "Calculating solar values...\n",
      "# Number of sun up hours: 4423\n",
      "Writing sun matrix to C:\\Users\\tgerrish\\AppData\\Local\\Temp\\openfield\\gridbased_annual\\sky\\sunmtx.smx\n",
      "Direct and diffuse solar radiation simulation completed\n",
      "Radiance results loaded\n",
      "Mean radiant temperature calculated [0.07 seconds]\n",
      "Universal thermal climate index calculated [0.10 seconds]\n"
     ]
    }
   ],
   "source": [
    "# SC method processing\n",
    "\n",
    "# Open-field MRT and UTCI calculation\n",
    "of = tc.openfield.openfield(epw_file=epw_file, idd_file=idd_file, material=\"CONCRETE\", shaded=True)\n",
    "of_mrt = of.mrt.values\n",
    "of_utci = of.utci.values"
   ]
  },
  {
   "cell_type": "code",
   "execution_count": 14,
   "metadata": {
    "code_folding": []
   },
   "outputs": [
    {
     "name": "stdout",
     "output_type": "stream",
     "text": [
      "EnergyPlus results loaded\n",
      "Radiance results loaded\n",
      "View-factored surface temperatures calculated\n"
     ]
    }
   ],
   "source": [
    "# Load case recipe\n",
    "_dir = Path(r\"C:\\Users\\tgerrish\\Desktop\\_0Ghadan21\\STREETFACELIFTS_P1\")\n",
    "reload = False\n",
    "\n",
    "# Create output directory for generated images\n",
    "plot_directory = tc.helpers.create_directory(_dir / \"plots2\")\n",
    "\n",
    "# Load radiance geometries\n",
    "rad_files = tc.helpers.flatten([tc.helpers.find_files(_dir, endswith=i) for i in [\"glz.rad\", \"opq.rad\"]])\n",
    "\n",
    "# Load points\n",
    "points = pd.read_csv(_dir / \"_sample_points.xyz\", header=None).values\n",
    "\n",
    "# Load plot tricontour plot \n",
    "boundary = pd.read_csv(_dir / \"_boundary_points.xyz\", header=None).values[:, :2]\n",
    "\n",
    "# Load focus pts\n",
    "focus_pts = pd.read_csv(_dir / \"focus_pts.csv\", header=None).values.T[0]\n",
    "\n",
    "# Load ground reflectivities\n",
    "ground_reflectivities = pd.read_csv(_dir / \"_ground_reflectivities.rfl\", header=None).values\n",
    "\n",
    "# Load surface view factors\n",
    "surface_view_factors = pd.read_csv(_dir / \"_surface_view_factors.vf\", header=None).values\n",
    "\n",
    "# Load sky view factors\n",
    "sky_view_factors = pd.read_csv(_dir / \"_sky_view_factors.vf\", header=None).values / 100  # values output from GH are in %, need to be in decimal\n",
    "\n",
    "if not reload:\n",
    "    # Read EnergyPlus annual hourly surface temperature results\n",
    "    surface_temperatures = tc.helpers.load_energyplus_results(_dir / \"OpenStudio\" / _dir.name / \"ModelToIdf/eplusout.csv\")\n",
    "\n",
    "    # Read Radiance simulation annual hourly incident radiation results\n",
    "    radiation_direct, radiation_diffuse = tc.helpers.load_radiance_results(_dir / \"gridbased_annual/result\")\n",
    "    \n",
    "    # Calculate generic sky temperature\n",
    "    skytemp = tc.oshe.sky_temperature(hir)\n",
    "\n",
    "    # Append sky temperature and air temperature onto end of surface temperatures\n",
    "    all_srf_temps = np.vstack([surface_temperatures, skytemp, dbt])\n",
    "\n",
    "    # Append sky view factor to end of surface view factors\n",
    "    all_vfs = np.hstack([surface_view_factors, sky_view_factors])\n",
    "\n",
    "    # Add view factor to end of each group, bringing total to 1\n",
    "    makeups = np.where(1 - all_vfs.sum(axis=1) <= 0, 0, 1 - all_vfs.sum(axis=1))\n",
    "    all_vfs = np.vstack([all_vfs.T, makeups]).T\n",
    "\n",
    "    # Normalise view factors to 0-1\n",
    "    all_vfs = all_vfs.T * (1 / all_vfs.sum(axis=1))\n",
    "\n",
    "    # Calculate overall surrounding surface temperature using view factors and individual surface temperatures\n",
    "    surrounding_surface_temperatures = np.power(np.matmul(all_vfs.T, np.power(all_srf_temps.T + 273.15, 4).T), 0.25) - 273.15\n",
    "    print(\"View-factored surface temperatures calculated\")\n"
   ]
  },
  {
   "cell_type": "code",
   "execution_count": 15,
   "metadata": {},
   "outputs": [
    {
     "name": "stdout",
     "output_type": "stream",
     "text": [
      "MRT calculated and written to C:\\Users\\tgerrish\\Desktop\\_0Ghadan21\\STREETFACELIFTS_P1\\result.mrt\n"
     ]
    }
   ],
   "source": [
    "# Calculate MRT and write to file\n",
    "\n",
    "mrt_path = _dir / \"result.mrt\"\n",
    "if not reload:\n",
    "    mean_radiant_temperature = tc.mrt.mrt_parallel(\n",
    "        threads=8, \n",
    "        surrounding_surfaces_temperature=surrounding_surface_temperatures, \n",
    "        horizontal_infrared_radiation_intensity=hir, \n",
    "        diffuse_horizontal_solar=radiation_diffuse, \n",
    "        direct_normal_solar=radiation_direct, \n",
    "        sun_altitude=sun_altitude, \n",
    "        ground_reflectivity=ground_reflectivities, \n",
    "        sky_exposure=sky_view_factors\n",
    "    )\n",
    "\n",
    "    # Write to file\n",
    "    df_mrt = pd.DataFrame(mean_radiant_temperature.T)\n",
    "    df_mrt.round(6).to_csv(mrt_path, index=False)\n",
    "    print(\"MRT calculated and written to {}\".format(mrt_path))\n",
    "else:\n",
    "    mean_radiant_temperature = pd.read_csv(mrt_path).values.T\n",
    "    print(\"MRT reloaded from {}\".format(mrt_path))"
   ]
  },
  {
   "cell_type": "code",
   "execution_count": 16,
   "metadata": {},
   "outputs": [
    {
     "name": "stdout",
     "output_type": "stream",
     "text": [
      "UTCI calculated and written to C:\\Users\\tgerrish\\Desktop\\_0Ghadan21\\STREETFACELIFTS_P1\\result.utci\n"
     ]
    }
   ],
   "source": [
    "# Calculate UTCI and write to file\n",
    "\n",
    "utci_path = _dir / \"result.utci\"\n",
    "if not reload:\n",
    "    universal_thermal_climate_index = tc.utci.utci_parallel(\n",
    "        threads=8, \n",
    "        air_temperature=dbt, \n",
    "        mean_radiant_temperature=mean_radiant_temperature.T, \n",
    "        wind_speed=ws, \n",
    "        relative_humidity=rh\n",
    "    )\n",
    "\n",
    "    # Write to file\n",
    "    df_utci = pd.DataFrame(universal_thermal_climate_index.T)\n",
    "    df_utci.round(6).to_csv(utci_path, index=False)\n",
    "    print(\"UTCI calculated and written to {}\".format(utci_path))\n",
    "else:\n",
    "    universal_thermal_climate_index = pd.read_csv(utci_path).values.T\n",
    "    print(\"UTCI reloaded from {}\".format(utci_path))"
   ]
  },
  {
   "cell_type": "code",
   "execution_count": 19,
   "metadata": {},
   "outputs": [
    {
     "name": "stdout",
     "output_type": "stream",
     "text": [
      "Plot saved to C:\\Users\\tgerrish\\Desktop\\_0Ghadan21\\STREETFACELIFTS_P1\\plots2\\openfield_comfortheatmap.png\n",
      "Plot saved to C:\\Users\\tgerrish\\Desktop\\_0Ghadan21\\STREETFACELIFTS_P1\\plots2\\comfortable_hours_may.png\n",
      "Plot saved to C:\\Users\\tgerrish\\Desktop\\_0Ghadan21\\STREETFACELIFTS_P1\\plots2\\comfortable_hours_october.png\n",
      "Plot saved to C:\\Users\\tgerrish\\Desktop\\_0Ghadan21\\STREETFACELIFTS_P1\\plots2\\comfortable_hours_annual.png\n",
      "Plot saved to C:\\Users\\tgerrish\\Desktop\\_0Ghadan21\\STREETFACELIFTS_P1\\plots2\\context.png\n",
      "Plot saved to C:\\Users\\tgerrish\\Desktop\\_0Ghadan21\\STREETFACELIFTS_P1\\plots2\\context_ptlabel.png\n",
      "Plot saved to C:\\Users\\tgerrish\\Desktop\\_0Ghadan21\\STREETFACELIFTS_P1\\plots2\\context_focuspts.png\n",
      "Plot saved to C:\\Users\\tgerrish\\Desktop\\_0Ghadan21\\STREETFACELIFTS_P1\\plots2\\improvement_annual_morningshoulder.png\n",
      "Plot saved to C:\\Users\\tgerrish\\Desktop\\_0Ghadan21\\STREETFACELIFTS_P1\\plots2\\improvement_annual_afternoonshoulder.png\n",
      "Plot saved to C:\\Users\\tgerrish\\Desktop\\_0Ghadan21\\STREETFACELIFTS_P1\\plots2\\improvement_annual_morningafternoonshoulder.png\n",
      "Plot saved to C:\\Users\\tgerrish\\Desktop\\_0Ghadan21\\STREETFACELIFTS_P1\\plots2\\improvement_may_morningshoulder.png\n",
      "Plot saved to C:\\Users\\tgerrish\\Desktop\\_0Ghadan21\\STREETFACELIFTS_P1\\plots2\\improvement_may_afternoonshoulder.png\n",
      "Plot saved to C:\\Users\\tgerrish\\Desktop\\_0Ghadan21\\STREETFACELIFTS_P1\\plots2\\improvement_may_morningafternoonshoulder.png\n",
      "Plot saved to C:\\Users\\tgerrish\\Desktop\\_0Ghadan21\\STREETFACELIFTS_P1\\plots2\\improvement_october_morningshoulder.png\n",
      "Plot saved to C:\\Users\\tgerrish\\Desktop\\_0Ghadan21\\STREETFACELIFTS_P1\\plots2\\improvement_october_afternoonshoulder.png\n",
      "Plot saved to C:\\Users\\tgerrish\\Desktop\\_0Ghadan21\\STREETFACELIFTS_P1\\plots2\\improvement_october_morningafternoonshoulder.png\n",
      "Plot saved to C:\\Users\\tgerrish\\Desktop\\_0Ghadan21\\STREETFACELIFTS_P1\\plots2\\comfort_annual_morningshoulder.png\n",
      "Plot saved to C:\\Users\\tgerrish\\Desktop\\_0Ghadan21\\STREETFACELIFTS_P1\\plots2\\comfort_annual_afternoonshoulder.png\n",
      "Plot saved to C:\\Users\\tgerrish\\Desktop\\_0Ghadan21\\STREETFACELIFTS_P1\\plots2\\comfort_annual_morningafternoonshoulder.png\n",
      "Plot saved to C:\\Users\\tgerrish\\Desktop\\_0Ghadan21\\STREETFACELIFTS_P1\\plots2\\comfort_may_morningshoulder.png\n",
      "Plot saved to C:\\Users\\tgerrish\\Desktop\\_0Ghadan21\\STREETFACELIFTS_P1\\plots2\\comfort_may_afternoonshoulder.png\n",
      "Plot saved to C:\\Users\\tgerrish\\Desktop\\_0Ghadan21\\STREETFACELIFTS_P1\\plots2\\comfort_may_morningafternoonshoulder.png\n",
      "Plot saved to C:\\Users\\tgerrish\\Desktop\\_0Ghadan21\\STREETFACELIFTS_P1\\plots2\\comfort_october_morningshoulder.png\n",
      "Plot saved to C:\\Users\\tgerrish\\Desktop\\_0Ghadan21\\STREETFACELIFTS_P1\\plots2\\comfort_october_afternoonshoulder.png\n",
      "Plot saved to C:\\Users\\tgerrish\\Desktop\\_0Ghadan21\\STREETFACELIFTS_P1\\plots2\\comfort_october_morningafternoonshoulder.png\n",
      "Plot saved to C:\\Users\\tgerrish\\Desktop\\_0Ghadan21\\STREETFACELIFTS_P1\\plots2\\reduction_annual_morningshoulder.png\n",
      "Plot saved to C:\\Users\\tgerrish\\Desktop\\_0Ghadan21\\STREETFACELIFTS_P1\\plots2\\reduction_annual_afternoonshoulder.png\n",
      "Plot saved to C:\\Users\\tgerrish\\Desktop\\_0Ghadan21\\STREETFACELIFTS_P1\\plots2\\reduction_annual_morningafternoonshoulder.png\n"
     ]
    },
    {
     "name": "stderr",
     "output_type": "stream",
     "text": [
      "C:\\Users\\tgerrish\\Documents\\GitHub\\oshe\\oshe\\plot.py:290: UserWarning: No contour levels were found within the data range.\n",
      "  levels=[-4, -3, -2, -1, 0, 1, 2, 3, 4], zorder=10, alpha=0.5)\n"
     ]
    },
    {
     "name": "stdout",
     "output_type": "stream",
     "text": [
      "Plot saved to C:\\Users\\tgerrish\\Desktop\\_0Ghadan21\\STREETFACELIFTS_P1\\plots2\\reduction_may_morningshoulder.png\n",
      "Plot saved to C:\\Users\\tgerrish\\Desktop\\_0Ghadan21\\STREETFACELIFTS_P1\\plots2\\reduction_may_afternoonshoulder.png\n",
      "Plot saved to C:\\Users\\tgerrish\\Desktop\\_0Ghadan21\\STREETFACELIFTS_P1\\plots2\\reduction_may_morningafternoonshoulder.png\n",
      "Plot saved to C:\\Users\\tgerrish\\Desktop\\_0Ghadan21\\STREETFACELIFTS_P1\\plots2\\reduction_october_morningshoulder.png\n",
      "Plot saved to C:\\Users\\tgerrish\\Desktop\\_0Ghadan21\\STREETFACELIFTS_P1\\plots2\\reduction_october_afternoonshoulder.png\n",
      "Plot saved to C:\\Users\\tgerrish\\Desktop\\_0Ghadan21\\STREETFACELIFTS_P1\\plots2\\reduction_october_morningafternoonshoulder.png\n",
      "Plot saved to C:\\Users\\tgerrish\\Desktop\\_0Ghadan21\\STREETFACELIFTS_P1\\plots2\\pt0072_reductionheatmap.png\n",
      "Plot saved to C:\\Users\\tgerrish\\Desktop\\_0Ghadan21\\STREETFACELIFTS_P1\\plots2\\pt0072_comfortheatmap.png\n",
      "Plot saved to C:\\Users\\tgerrish\\Desktop\\_0Ghadan21\\STREETFACELIFTS_P1\\plots2\\pt0072_profile_may.png\n",
      "Plot saved to C:\\Users\\tgerrish\\Desktop\\_0Ghadan21\\STREETFACELIFTS_P1\\plots2\\pt0072_profile_october.png\n",
      "Plot saved to C:\\Users\\tgerrish\\Desktop\\_0Ghadan21\\STREETFACELIFTS_P1\\plots2\\pt0096_reductionheatmap.png\n",
      "Plot saved to C:\\Users\\tgerrish\\Desktop\\_0Ghadan21\\STREETFACELIFTS_P1\\plots2\\pt0096_comfortheatmap.png\n",
      "Plot saved to C:\\Users\\tgerrish\\Desktop\\_0Ghadan21\\STREETFACELIFTS_P1\\plots2\\pt0096_profile_may.png\n",
      "Plot saved to C:\\Users\\tgerrish\\Desktop\\_0Ghadan21\\STREETFACELIFTS_P1\\plots2\\pt0096_profile_october.png\n",
      "Plot saved to C:\\Users\\tgerrish\\Desktop\\_0Ghadan21\\STREETFACELIFTS_P1\\plots2\\pt0127_reductionheatmap.png\n",
      "Plot saved to C:\\Users\\tgerrish\\Desktop\\_0Ghadan21\\STREETFACELIFTS_P1\\plots2\\pt0127_comfortheatmap.png\n",
      "Plot saved to C:\\Users\\tgerrish\\Desktop\\_0Ghadan21\\STREETFACELIFTS_P1\\plots2\\pt0127_profile_may.png\n",
      "Plot saved to C:\\Users\\tgerrish\\Desktop\\_0Ghadan21\\STREETFACELIFTS_P1\\plots2\\pt0127_profile_october.png\n",
      "Plot saved to C:\\Users\\tgerrish\\Desktop\\_0Ghadan21\\STREETFACELIFTS_P1\\plots2\\pt0169_reductionheatmap.png\n",
      "Plot saved to C:\\Users\\tgerrish\\Desktop\\_0Ghadan21\\STREETFACELIFTS_P1\\plots2\\pt0169_comfortheatmap.png\n",
      "Plot saved to C:\\Users\\tgerrish\\Desktop\\_0Ghadan21\\STREETFACELIFTS_P1\\plots2\\pt0169_profile_may.png\n",
      "Plot saved to C:\\Users\\tgerrish\\Desktop\\_0Ghadan21\\STREETFACELIFTS_P1\\plots2\\pt0169_profile_october.png\n",
      "Plot saved to C:\\Users\\tgerrish\\Desktop\\_0Ghadan21\\STREETFACELIFTS_P1\\plots2\\pt0253_reductionheatmap.png\n",
      "Plot saved to C:\\Users\\tgerrish\\Desktop\\_0Ghadan21\\STREETFACELIFTS_P1\\plots2\\pt0253_comfortheatmap.png\n",
      "Plot saved to C:\\Users\\tgerrish\\Desktop\\_0Ghadan21\\STREETFACELIFTS_P1\\plots2\\pt0253_profile_may.png\n",
      "Plot saved to C:\\Users\\tgerrish\\Desktop\\_0Ghadan21\\STREETFACELIFTS_P1\\plots2\\pt0253_profile_october.png\n",
      "Plot saved to C:\\Users\\tgerrish\\Desktop\\_0Ghadan21\\STREETFACELIFTS_P1\\plots2\\pt0457_reductionheatmap.png\n",
      "Plot saved to C:\\Users\\tgerrish\\Desktop\\_0Ghadan21\\STREETFACELIFTS_P1\\plots2\\pt0457_comfortheatmap.png\n",
      "Plot saved to C:\\Users\\tgerrish\\Desktop\\_0Ghadan21\\STREETFACELIFTS_P1\\plots2\\pt0457_profile_may.png\n",
      "Plot saved to C:\\Users\\tgerrish\\Desktop\\_0Ghadan21\\STREETFACELIFTS_P1\\plots2\\pt0457_profile_october.png\n",
      "Summary saved to C:\\Users\\tgerrish\\Desktop\\_0Ghadan21\\STREETFACELIFTS_P1\\plots2\\shoulder_reduction_summary.csv\n"
     ]
    }
   ],
   "source": [
    "# Construct results object\n",
    "utci = tc.plot.UTCI(of_utci, universal_thermal_climate_index, points)\n",
    "\n",
    "# Plot the results\n",
    "utci.generate_plots(rad_files=rad_files, boundary=boundary, plot_directory=plot_directory, focus_pts=focus_pts)"
   ]
  },
  {
   "cell_type": "code",
   "execution_count": null,
   "metadata": {},
   "outputs": [],
   "source": []
  }
 ],
 "metadata": {
  "kernelspec": {
   "display_name": "Python 3",
   "language": "python",
   "name": "python3"
  },
  "language_info": {
   "codemirror_mode": {
    "name": "ipython",
    "version": 3
   },
   "file_extension": ".py",
   "mimetype": "text/x-python",
   "name": "python",
   "nbconvert_exporter": "python",
   "pygments_lexer": "ipython3",
   "version": "3.7.6"
  }
 },
 "nbformat": 4,
 "nbformat_minor": 4
}
