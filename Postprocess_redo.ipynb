{
 "cells": [
  {
   "cell_type": "code",
   "execution_count": 3,
   "metadata": {},
   "outputs": [
    {
     "name": "stdout",
     "output_type": "stream",
     "text": [
      "The autoreload extension is already loaded. To reload it, use:\n",
      "  %reload_ext autoreload\n"
     ]
    },
    {
     "data": {
      "text/html": [
       "<style>.container { width:95% !important; }</style>"
      ],
      "text/plain": [
       "<IPython.core.display.HTML object>"
      ]
     },
     "metadata": {},
     "output_type": "display_data"
    }
   ],
   "source": [
    "%matplotlib inline\n",
    "\n",
    "%load_ext autoreload\n",
    "%autoreload 2\n",
    "\n",
    "from IPython.core.display import display, HTML\n",
    "display(HTML(\"<style>.container { width:95% !important; }</style>\"))\n",
    "\n",
    "from pathlib import Path\n",
    "import platform\n",
    "import pandas as pd\n",
    "import numpy as np\n",
    "pd.plotting.register_matplotlib_converters()\n",
    "import matplotlib.pyplot as plt\n",
    "from matplotlib import dates, ticker\n",
    "\n",
    "from ladybug.epw import EPW\n",
    "import oshe as tc"
   ]
  },
  {
   "cell_type": "code",
   "execution_count": 7,
   "metadata": {},
   "outputs": [],
   "source": [
    "if platform.system() == \"Darwin\":\n",
    "    idd_file = \"/Applications/OpenStudio-2.9.0/EnergyPlus/Energy+.idd\"\n",
    "    epw_file = \"/Users/tristan/Desktop/github/oshe/example/weatherfile.epw\"\n",
    "else:\n",
    "    idd_file = r\"C:\\openstudio-2.9.0\\EnergyPlus\\Energy+.idd\"\n",
    "    epw_file = r\"C:\\Users\\tgerrish\\OneDrive - BuroHappold\\0045131 Ghadan Future Parks\\UWG_ARE_AZ_Abu.Dhabi-Bateen.Exec.AP.412160_TMYx_URBAN_02.epw\""
   ]
  },
  {
   "cell_type": "code",
   "execution_count": 8,
   "metadata": {},
   "outputs": [],
   "source": [
    "# Load weatherfile data\n",
    "\n",
    "# Load epw\n",
    "epw = tc.helpers.load_weather(epw_file)\n",
    "\n",
    "# Get climate variables\n",
    "dbt = epw.dbt.values\n",
    "rh = epw.rh.values\n",
    "ws = epw.ws.values\n",
    "hir = epw.hir.values\n",
    "\n",
    "# Calculate hourly solar altitudes\n",
    "sun_altitude = epw.sun_altitude.values"
   ]
  },
  {
   "cell_type": "code",
   "execution_count": 27,
   "metadata": {
    "scrolled": true
   },
   "outputs": [
    {
     "name": "stdout",
     "output_type": "stream",
     "text": [
      "Universal thermal climate index calculated [0.10 seconds]\n",
      "Plot saved to C:\\Users\\tgerrish\\OneDrive - BuroHappold\\0045131 Ghadan Future Parks\\ChamberOfCommerce\\plots2\\Area2\\openfield_comfortheatmap.png\n",
      "Plot saved to C:\\Users\\tgerrish\\OneDrive - BuroHappold\\0045131 Ghadan Future Parks\\ChamberOfCommerce\\plots2\\Area2\\comfortable_hours_may.png\n",
      "Plot saved to C:\\Users\\tgerrish\\OneDrive - BuroHappold\\0045131 Ghadan Future Parks\\ChamberOfCommerce\\plots2\\Area2\\comfortable_hours_october.png\n",
      "Plot saved to C:\\Users\\tgerrish\\OneDrive - BuroHappold\\0045131 Ghadan Future Parks\\ChamberOfCommerce\\plots2\\Area2\\comfortable_hours_annual.png\n",
      "Plot saved to C:\\Users\\tgerrish\\OneDrive - BuroHappold\\0045131 Ghadan Future Parks\\ChamberOfCommerce\\plots2\\Area2\\context.png\n",
      "Plot saved to C:\\Users\\tgerrish\\OneDrive - BuroHappold\\0045131 Ghadan Future Parks\\ChamberOfCommerce\\plots2\\Area2\\context_ptlabel.png\n",
      "Plot saved to C:\\Users\\tgerrish\\OneDrive - BuroHappold\\0045131 Ghadan Future Parks\\ChamberOfCommerce\\plots2\\Area2\\context_focuspts.png\n",
      "Plot saved to C:\\Users\\tgerrish\\OneDrive - BuroHappold\\0045131 Ghadan Future Parks\\ChamberOfCommerce\\plots2\\Area2\\improvement_annual_morningshoulder.png\n",
      "Plot saved to C:\\Users\\tgerrish\\OneDrive - BuroHappold\\0045131 Ghadan Future Parks\\ChamberOfCommerce\\plots2\\Area2\\improvement_annual_afternoonshoulder.png\n",
      "Plot saved to C:\\Users\\tgerrish\\OneDrive - BuroHappold\\0045131 Ghadan Future Parks\\ChamberOfCommerce\\plots2\\Area2\\improvement_annual_morningafternoonshoulder.png\n",
      "Plot saved to C:\\Users\\tgerrish\\OneDrive - BuroHappold\\0045131 Ghadan Future Parks\\ChamberOfCommerce\\plots2\\Area2\\improvement_may_morningshoulder.png\n",
      "Plot saved to C:\\Users\\tgerrish\\OneDrive - BuroHappold\\0045131 Ghadan Future Parks\\ChamberOfCommerce\\plots2\\Area2\\improvement_may_afternoonshoulder.png\n",
      "Plot saved to C:\\Users\\tgerrish\\OneDrive - BuroHappold\\0045131 Ghadan Future Parks\\ChamberOfCommerce\\plots2\\Area2\\improvement_may_morningafternoonshoulder.png\n",
      "Plot saved to C:\\Users\\tgerrish\\OneDrive - BuroHappold\\0045131 Ghadan Future Parks\\ChamberOfCommerce\\plots2\\Area2\\improvement_october_morningshoulder.png\n",
      "Plot saved to C:\\Users\\tgerrish\\OneDrive - BuroHappold\\0045131 Ghadan Future Parks\\ChamberOfCommerce\\plots2\\Area2\\improvement_october_afternoonshoulder.png\n",
      "Plot saved to C:\\Users\\tgerrish\\OneDrive - BuroHappold\\0045131 Ghadan Future Parks\\ChamberOfCommerce\\plots2\\Area2\\improvement_october_morningafternoonshoulder.png\n",
      "Plot saved to C:\\Users\\tgerrish\\OneDrive - BuroHappold\\0045131 Ghadan Future Parks\\ChamberOfCommerce\\plots2\\Area2\\comfort_annual_morningshoulder.png\n",
      "Plot saved to C:\\Users\\tgerrish\\OneDrive - BuroHappold\\0045131 Ghadan Future Parks\\ChamberOfCommerce\\plots2\\Area2\\comfort_annual_afternoonshoulder.png\n",
      "Plot saved to C:\\Users\\tgerrish\\OneDrive - BuroHappold\\0045131 Ghadan Future Parks\\ChamberOfCommerce\\plots2\\Area2\\comfort_annual_morningafternoonshoulder.png\n",
      "Plot saved to C:\\Users\\tgerrish\\OneDrive - BuroHappold\\0045131 Ghadan Future Parks\\ChamberOfCommerce\\plots2\\Area2\\comfort_may_morningshoulder.png\n",
      "Plot saved to C:\\Users\\tgerrish\\OneDrive - BuroHappold\\0045131 Ghadan Future Parks\\ChamberOfCommerce\\plots2\\Area2\\comfort_may_afternoonshoulder.png\n",
      "Plot saved to C:\\Users\\tgerrish\\OneDrive - BuroHappold\\0045131 Ghadan Future Parks\\ChamberOfCommerce\\plots2\\Area2\\comfort_may_morningafternoonshoulder.png\n",
      "Plot saved to C:\\Users\\tgerrish\\OneDrive - BuroHappold\\0045131 Ghadan Future Parks\\ChamberOfCommerce\\plots2\\Area2\\comfort_october_morningshoulder.png\n",
      "Plot saved to C:\\Users\\tgerrish\\OneDrive - BuroHappold\\0045131 Ghadan Future Parks\\ChamberOfCommerce\\plots2\\Area2\\comfort_october_afternoonshoulder.png\n",
      "Plot saved to C:\\Users\\tgerrish\\OneDrive - BuroHappold\\0045131 Ghadan Future Parks\\ChamberOfCommerce\\plots2\\Area2\\comfort_october_morningafternoonshoulder.png\n",
      "Plot saved to C:\\Users\\tgerrish\\OneDrive - BuroHappold\\0045131 Ghadan Future Parks\\ChamberOfCommerce\\plots2\\Area2\\reduction_annual_morningshoulder.png\n",
      "Plot saved to C:\\Users\\tgerrish\\OneDrive - BuroHappold\\0045131 Ghadan Future Parks\\ChamberOfCommerce\\plots2\\Area2\\reduction_annual_afternoonshoulder.png\n",
      "Plot saved to C:\\Users\\tgerrish\\OneDrive - BuroHappold\\0045131 Ghadan Future Parks\\ChamberOfCommerce\\plots2\\Area2\\reduction_annual_morningafternoonshoulder.png\n",
      "Plot saved to C:\\Users\\tgerrish\\OneDrive - BuroHappold\\0045131 Ghadan Future Parks\\ChamberOfCommerce\\plots2\\Area2\\reduction_may_morningshoulder.png\n",
      "Plot saved to C:\\Users\\tgerrish\\OneDrive - BuroHappold\\0045131 Ghadan Future Parks\\ChamberOfCommerce\\plots2\\Area2\\reduction_may_afternoonshoulder.png\n",
      "Plot saved to C:\\Users\\tgerrish\\OneDrive - BuroHappold\\0045131 Ghadan Future Parks\\ChamberOfCommerce\\plots2\\Area2\\reduction_may_morningafternoonshoulder.png\n",
      "Plot saved to C:\\Users\\tgerrish\\OneDrive - BuroHappold\\0045131 Ghadan Future Parks\\ChamberOfCommerce\\plots2\\Area2\\reduction_october_morningshoulder.png\n",
      "Plot saved to C:\\Users\\tgerrish\\OneDrive - BuroHappold\\0045131 Ghadan Future Parks\\ChamberOfCommerce\\plots2\\Area2\\reduction_october_afternoonshoulder.png\n",
      "Plot saved to C:\\Users\\tgerrish\\OneDrive - BuroHappold\\0045131 Ghadan Future Parks\\ChamberOfCommerce\\plots2\\Area2\\reduction_october_morningafternoonshoulder.png\n",
      "Plot saved to C:\\Users\\tgerrish\\OneDrive - BuroHappold\\0045131 Ghadan Future Parks\\ChamberOfCommerce\\plots2\\Area2\\pt0013_reductionheatmap.png\n",
      "Plot saved to C:\\Users\\tgerrish\\OneDrive - BuroHappold\\0045131 Ghadan Future Parks\\ChamberOfCommerce\\plots2\\Area2\\pt0013_comfortheatmap.png\n",
      "Plot saved to C:\\Users\\tgerrish\\OneDrive - BuroHappold\\0045131 Ghadan Future Parks\\ChamberOfCommerce\\plots2\\Area2\\pt0013_profile_may.png\n",
      "Plot saved to C:\\Users\\tgerrish\\OneDrive - BuroHappold\\0045131 Ghadan Future Parks\\ChamberOfCommerce\\plots2\\Area2\\pt0013_profile_october.png\n",
      "Plot saved to C:\\Users\\tgerrish\\OneDrive - BuroHappold\\0045131 Ghadan Future Parks\\ChamberOfCommerce\\plots2\\Area2\\pt0058_reductionheatmap.png\n",
      "Plot saved to C:\\Users\\tgerrish\\OneDrive - BuroHappold\\0045131 Ghadan Future Parks\\ChamberOfCommerce\\plots2\\Area2\\pt0058_comfortheatmap.png\n",
      "Plot saved to C:\\Users\\tgerrish\\OneDrive - BuroHappold\\0045131 Ghadan Future Parks\\ChamberOfCommerce\\plots2\\Area2\\pt0058_profile_may.png\n",
      "Plot saved to C:\\Users\\tgerrish\\OneDrive - BuroHappold\\0045131 Ghadan Future Parks\\ChamberOfCommerce\\plots2\\Area2\\pt0058_profile_october.png\n",
      "Plot saved to C:\\Users\\tgerrish\\OneDrive - BuroHappold\\0045131 Ghadan Future Parks\\ChamberOfCommerce\\plots2\\Area2\\pt0101_reductionheatmap.png\n",
      "Plot saved to C:\\Users\\tgerrish\\OneDrive - BuroHappold\\0045131 Ghadan Future Parks\\ChamberOfCommerce\\plots2\\Area2\\pt0101_comfortheatmap.png\n",
      "Plot saved to C:\\Users\\tgerrish\\OneDrive - BuroHappold\\0045131 Ghadan Future Parks\\ChamberOfCommerce\\plots2\\Area2\\pt0101_profile_may.png\n",
      "Plot saved to C:\\Users\\tgerrish\\OneDrive - BuroHappold\\0045131 Ghadan Future Parks\\ChamberOfCommerce\\plots2\\Area2\\pt0101_profile_october.png\n",
      "Summary saved to C:\\Users\\tgerrish\\OneDrive - BuroHappold\\0045131 Ghadan Future Parks\\ChamberOfCommerce\\plots2\\Area2\\shoulder_reduction_summary.csv\n"
     ]
    }
   ],
   "source": [
    "# NV method processing\n",
    "\n",
    "_dir = Path(\"C:\\Users\\tgerrish\\OneDrive - BuroHappold\\0045131 Ghadan Future Parks\\CapitalGardens\")\n",
    "\n",
    "# Load Openfield MRT and calculate UTCI using same method as NV MRT > UTCI is generated\n",
    "of_mrt = pd.read_csv(r\"C:\\Users\\tgerrish\\OneDrive - BuroHappold\\0045131 Ghadan Future Parks\\openfield_nv.mrt\", header=None).values.T\n",
    "of_utci = tc.utci.universal_thermal_climate_index(dbt, of_mrt, ws, rh)[0]\n",
    "\n",
    "# Load MRT\n",
    "mean_radiant_temperature = pd.read_csv(_dir+\"\\MRT.csv\", header=None).values.T\n",
    "\n",
    "# Load PTS\n",
    "points = pd.read_csv(_dir+\"\\points.csv\", header=None).values\n",
    "\n",
    "# Load focus pts\n",
    "focus_pts = pd.read_csv(_dir + \"\\\\focus_pts.csv\", header=None).values.T[0]\n",
    "\n",
    "# Set radiance geometries\n",
    "rad_files = []\n",
    "for root, dirs, files in os.walk(_dir):\n",
    "    for file in files:\n",
    "        if file.endswith(\"opq.rad\") or file.endswith(\"glz.rad\"):\n",
    "             rad_files.append(os.path.join(root, file))\n",
    "\n",
    "# Calculate UTCI\n",
    "universal_thermal_climate_index = tc.utci.utci_parallel(\n",
    "        threads=8, \n",
    "        air_temperature=dbt, \n",
    "        mean_radiant_temperature=mean_radiant_temperature.T, \n",
    "        wind_speed=ws, \n",
    "        relative_humidity=rh\n",
    "    )\n",
    "\n",
    "# Create UTCI object\n",
    "utci = tc.plot.UTCI(of_utci, universal_thermal_climate_index, points)\n",
    "\n",
    "# Plot the results\n",
    "utci.generate_plots(rad_files=rad_files, focus_pts=focus_pts, boundary=None, plot_directory=_dir+\"\\plots2\")"
   ]
  },
  {
   "cell_type": "code",
   "execution_count": 31,
   "metadata": {
    "scrolled": true
   },
   "outputs": [
    {
     "name": "stdout",
     "output_type": "stream",
     "text": [
      "/var/folders/gk/bfbckh990jl1mgl1m5864_fc0000gn/T/openfield/ground_surface_temperature/eplusout.eso\n",
      "Ground surface temperature simulation completed\n"
     ]
    },
    {
     "ename": "FileNotFoundError",
     "evalue": "[Errno 2] File /var/folders/gk/bfbckh990jl1mgl1m5864_fc0000gn/T/openfield/ground_surface_temperature/eplusout.csv does not exist: '/var/folders/gk/bfbckh990jl1mgl1m5864_fc0000gn/T/openfield/ground_surface_temperature/eplusout.csv'",
     "output_type": "error",
     "traceback": [
      "\u001b[0;31m---------------------------------------------------------------------------\u001b[0m",
      "\u001b[0;31mFileNotFoundError\u001b[0m                         Traceback (most recent call last)",
      "\u001b[0;32m<ipython-input-31-9bfcfe7d4e72>\u001b[0m in \u001b[0;36m<module>\u001b[0;34m\u001b[0m\n\u001b[1;32m      4\u001b[0m \u001b[0mprint\u001b[0m\u001b[0;34m(\u001b[0m\u001b[0meso_file\u001b[0m\u001b[0;34m)\u001b[0m\u001b[0;34m\u001b[0m\u001b[0;34m\u001b[0m\u001b[0m\n\u001b[1;32m      5\u001b[0m \u001b[0mgnd\u001b[0m \u001b[0;34m=\u001b[0m \u001b[0mtc\u001b[0m\u001b[0;34m.\u001b[0m\u001b[0mgeometry\u001b[0m\u001b[0;34m.\u001b[0m\u001b[0mGround\u001b[0m\u001b[0;34m(\u001b[0m\u001b[0mmaterial\u001b[0m\u001b[0;34m=\u001b[0m\u001b[0mtc\u001b[0m\u001b[0;34m.\u001b[0m\u001b[0mmaterial\u001b[0m\u001b[0;34m.\u001b[0m\u001b[0mmaterial_dict\u001b[0m\u001b[0;34m[\u001b[0m\u001b[0;34m\"CONCRETE\"\u001b[0m\u001b[0;34m]\u001b[0m\u001b[0;34m,\u001b[0m \u001b[0mxy\u001b[0m\u001b[0;34m=\u001b[0m\u001b[0;36m6\u001b[0m\u001b[0;34m,\u001b[0m \u001b[0mdepth\u001b[0m\u001b[0;34m=\u001b[0m\u001b[0;36m1.5\u001b[0m\u001b[0;34m,\u001b[0m \u001b[0msubsurface_size\u001b[0m\u001b[0;34m=\u001b[0m\u001b[0;36m3\u001b[0m\u001b[0;34m)\u001b[0m\u001b[0;34m\u001b[0m\u001b[0;34m\u001b[0m\u001b[0m\n\u001b[0;32m----> 6\u001b[0;31m \u001b[0mtc\u001b[0m\u001b[0;34m.\u001b[0m\u001b[0menergyplus\u001b[0m\u001b[0;34m.\u001b[0m\u001b[0mrun_energyplus\u001b[0m\u001b[0;34m(\u001b[0m\u001b[0mepw_file\u001b[0m\u001b[0;34m,\u001b[0m \u001b[0midd_file\u001b[0m\u001b[0;34m,\u001b[0m \u001b[0mground\u001b[0m\u001b[0;34m=\u001b[0m\u001b[0mgnd\u001b[0m\u001b[0;34m,\u001b[0m \u001b[0mrun\u001b[0m\u001b[0;34m=\u001b[0m\u001b[0;32mTrue\u001b[0m\u001b[0;34m)\u001b[0m\u001b[0;34m\u001b[0m\u001b[0;34m\u001b[0m\u001b[0m\n\u001b[0m\u001b[1;32m      7\u001b[0m \u001b[0;34m\u001b[0m\u001b[0m\n\u001b[1;32m      8\u001b[0m \u001b[0;31m# eso_file = \"/var/folders/gk/bfbckh990jl1mgl1m5864_fc0000gn/T/openfield/ground_surface_temperature/eplusout.csv\"\u001b[0m\u001b[0;34m\u001b[0m\u001b[0;34m\u001b[0m\u001b[0;34m\u001b[0m\u001b[0m\n",
      "\u001b[0;32m~/Desktop/github/oshe/oshe/energyplus.py\u001b[0m in \u001b[0;36mrun_energyplus\u001b[0;34m(epw_file, idd_file, ground, shades, output_directory, case_name, run)\u001b[0m\n\u001b[1;32m    131\u001b[0m \u001b[0;34m\u001b[0m\u001b[0m\n\u001b[1;32m    132\u001b[0m         \u001b[0;31m# Read surface temperature results\u001b[0m\u001b[0;34m\u001b[0m\u001b[0;34m\u001b[0m\u001b[0;34m\u001b[0m\u001b[0m\n\u001b[0;32m--> 133\u001b[0;31m         \u001b[0mground_surface_temperature\u001b[0m \u001b[0;34m=\u001b[0m \u001b[0mload_energyplus_results\u001b[0m\u001b[0;34m(\u001b[0m\u001b[0mcsv_file\u001b[0m\u001b[0;34m)\u001b[0m\u001b[0;34m\u001b[0m\u001b[0;34m\u001b[0m\u001b[0m\n\u001b[0m\u001b[1;32m    134\u001b[0m \u001b[0;34m\u001b[0m\u001b[0m\n\u001b[1;32m    135\u001b[0m         \u001b[0;32mreturn\u001b[0m \u001b[0mground_surface_temperature\u001b[0m\u001b[0;34m\u001b[0m\u001b[0;34m\u001b[0m\u001b[0m\n",
      "\u001b[0;32m~/Desktop/github/oshe/oshe/energyplus.py\u001b[0m in \u001b[0;36mload_energyplus_results\u001b[0;34m(file_path)\u001b[0m\n\u001b[1;32m    150\u001b[0m         \u001b[0mSurface\u001b[0m \u001b[0mtemperature\u001b[0m \u001b[0marray\u001b[0m \u001b[0;34m(\u001b[0m\u001b[0meach\u001b[0m \u001b[0melement\u001b[0m \u001b[0;32mis\u001b[0m \u001b[0ma\u001b[0m \u001b[0msingle\u001b[0m \u001b[0msurface\u001b[0m\u001b[0;34m)\u001b[0m\u001b[0;34m\u001b[0m\u001b[0;34m\u001b[0m\u001b[0m\n\u001b[1;32m    151\u001b[0m     \"\"\"\n\u001b[0;32m--> 152\u001b[0;31m     \u001b[0mdata\u001b[0m \u001b[0;34m=\u001b[0m \u001b[0mpd\u001b[0m\u001b[0;34m.\u001b[0m\u001b[0mread_csv\u001b[0m\u001b[0;34m(\u001b[0m\u001b[0mfile_path\u001b[0m\u001b[0;34m,\u001b[0m \u001b[0mindex_col\u001b[0m\u001b[0;34m=\u001b[0m\u001b[0;36m0\u001b[0m\u001b[0;34m,\u001b[0m \u001b[0mparse_dates\u001b[0m\u001b[0;34m=\u001b[0m\u001b[0;32mTrue\u001b[0m\u001b[0;34m)\u001b[0m\u001b[0;34m.\u001b[0m\u001b[0mdropna\u001b[0m\u001b[0;34m(\u001b[0m\u001b[0maxis\u001b[0m\u001b[0;34m=\u001b[0m\u001b[0;36m1\u001b[0m\u001b[0;34m)\u001b[0m\u001b[0;34m.\u001b[0m\u001b[0mvalues\u001b[0m\u001b[0;34m.\u001b[0m\u001b[0mT\u001b[0m\u001b[0;34m\u001b[0m\u001b[0;34m\u001b[0m\u001b[0m\n\u001b[0m\u001b[1;32m    153\u001b[0m     \u001b[0mprint\u001b[0m\u001b[0;34m(\u001b[0m\u001b[0;34m\"EnergyPlus results loaded\"\u001b[0m\u001b[0;34m)\u001b[0m\u001b[0;34m\u001b[0m\u001b[0;34m\u001b[0m\u001b[0m\n\u001b[1;32m    154\u001b[0m     \u001b[0;32mreturn\u001b[0m \u001b[0mdata\u001b[0m\u001b[0;34m\u001b[0m\u001b[0;34m\u001b[0m\u001b[0m\n",
      "\u001b[0;32m~/opt/miniconda3/lib/python3.7/site-packages/pandas/io/parsers.py\u001b[0m in \u001b[0;36mparser_f\u001b[0;34m(filepath_or_buffer, sep, delimiter, header, names, index_col, usecols, squeeze, prefix, mangle_dupe_cols, dtype, engine, converters, true_values, false_values, skipinitialspace, skiprows, skipfooter, nrows, na_values, keep_default_na, na_filter, verbose, skip_blank_lines, parse_dates, infer_datetime_format, keep_date_col, date_parser, dayfirst, cache_dates, iterator, chunksize, compression, thousands, decimal, lineterminator, quotechar, quoting, doublequote, escapechar, comment, encoding, dialect, error_bad_lines, warn_bad_lines, delim_whitespace, low_memory, memory_map, float_precision)\u001b[0m\n\u001b[1;32m    674\u001b[0m         )\n\u001b[1;32m    675\u001b[0m \u001b[0;34m\u001b[0m\u001b[0m\n\u001b[0;32m--> 676\u001b[0;31m         \u001b[0;32mreturn\u001b[0m \u001b[0m_read\u001b[0m\u001b[0;34m(\u001b[0m\u001b[0mfilepath_or_buffer\u001b[0m\u001b[0;34m,\u001b[0m \u001b[0mkwds\u001b[0m\u001b[0;34m)\u001b[0m\u001b[0;34m\u001b[0m\u001b[0;34m\u001b[0m\u001b[0m\n\u001b[0m\u001b[1;32m    677\u001b[0m \u001b[0;34m\u001b[0m\u001b[0m\n\u001b[1;32m    678\u001b[0m     \u001b[0mparser_f\u001b[0m\u001b[0;34m.\u001b[0m\u001b[0m__name__\u001b[0m \u001b[0;34m=\u001b[0m \u001b[0mname\u001b[0m\u001b[0;34m\u001b[0m\u001b[0;34m\u001b[0m\u001b[0m\n",
      "\u001b[0;32m~/opt/miniconda3/lib/python3.7/site-packages/pandas/io/parsers.py\u001b[0m in \u001b[0;36m_read\u001b[0;34m(filepath_or_buffer, kwds)\u001b[0m\n\u001b[1;32m    446\u001b[0m \u001b[0;34m\u001b[0m\u001b[0m\n\u001b[1;32m    447\u001b[0m     \u001b[0;31m# Create the parser.\u001b[0m\u001b[0;34m\u001b[0m\u001b[0;34m\u001b[0m\u001b[0;34m\u001b[0m\u001b[0m\n\u001b[0;32m--> 448\u001b[0;31m     \u001b[0mparser\u001b[0m \u001b[0;34m=\u001b[0m \u001b[0mTextFileReader\u001b[0m\u001b[0;34m(\u001b[0m\u001b[0mfp_or_buf\u001b[0m\u001b[0;34m,\u001b[0m \u001b[0;34m**\u001b[0m\u001b[0mkwds\u001b[0m\u001b[0;34m)\u001b[0m\u001b[0;34m\u001b[0m\u001b[0;34m\u001b[0m\u001b[0m\n\u001b[0m\u001b[1;32m    449\u001b[0m \u001b[0;34m\u001b[0m\u001b[0m\n\u001b[1;32m    450\u001b[0m     \u001b[0;32mif\u001b[0m \u001b[0mchunksize\u001b[0m \u001b[0;32mor\u001b[0m \u001b[0miterator\u001b[0m\u001b[0;34m:\u001b[0m\u001b[0;34m\u001b[0m\u001b[0;34m\u001b[0m\u001b[0m\n",
      "\u001b[0;32m~/opt/miniconda3/lib/python3.7/site-packages/pandas/io/parsers.py\u001b[0m in \u001b[0;36m__init__\u001b[0;34m(self, f, engine, **kwds)\u001b[0m\n\u001b[1;32m    878\u001b[0m             \u001b[0mself\u001b[0m\u001b[0;34m.\u001b[0m\u001b[0moptions\u001b[0m\u001b[0;34m[\u001b[0m\u001b[0;34m\"has_index_names\"\u001b[0m\u001b[0;34m]\u001b[0m \u001b[0;34m=\u001b[0m \u001b[0mkwds\u001b[0m\u001b[0;34m[\u001b[0m\u001b[0;34m\"has_index_names\"\u001b[0m\u001b[0;34m]\u001b[0m\u001b[0;34m\u001b[0m\u001b[0;34m\u001b[0m\u001b[0m\n\u001b[1;32m    879\u001b[0m \u001b[0;34m\u001b[0m\u001b[0m\n\u001b[0;32m--> 880\u001b[0;31m         \u001b[0mself\u001b[0m\u001b[0;34m.\u001b[0m\u001b[0m_make_engine\u001b[0m\u001b[0;34m(\u001b[0m\u001b[0mself\u001b[0m\u001b[0;34m.\u001b[0m\u001b[0mengine\u001b[0m\u001b[0;34m)\u001b[0m\u001b[0;34m\u001b[0m\u001b[0;34m\u001b[0m\u001b[0m\n\u001b[0m\u001b[1;32m    881\u001b[0m \u001b[0;34m\u001b[0m\u001b[0m\n\u001b[1;32m    882\u001b[0m     \u001b[0;32mdef\u001b[0m \u001b[0mclose\u001b[0m\u001b[0;34m(\u001b[0m\u001b[0mself\u001b[0m\u001b[0;34m)\u001b[0m\u001b[0;34m:\u001b[0m\u001b[0;34m\u001b[0m\u001b[0;34m\u001b[0m\u001b[0m\n",
      "\u001b[0;32m~/opt/miniconda3/lib/python3.7/site-packages/pandas/io/parsers.py\u001b[0m in \u001b[0;36m_make_engine\u001b[0;34m(self, engine)\u001b[0m\n\u001b[1;32m   1112\u001b[0m     \u001b[0;32mdef\u001b[0m \u001b[0m_make_engine\u001b[0m\u001b[0;34m(\u001b[0m\u001b[0mself\u001b[0m\u001b[0;34m,\u001b[0m \u001b[0mengine\u001b[0m\u001b[0;34m=\u001b[0m\u001b[0;34m\"c\"\u001b[0m\u001b[0;34m)\u001b[0m\u001b[0;34m:\u001b[0m\u001b[0;34m\u001b[0m\u001b[0;34m\u001b[0m\u001b[0m\n\u001b[1;32m   1113\u001b[0m         \u001b[0;32mif\u001b[0m \u001b[0mengine\u001b[0m \u001b[0;34m==\u001b[0m \u001b[0;34m\"c\"\u001b[0m\u001b[0;34m:\u001b[0m\u001b[0;34m\u001b[0m\u001b[0;34m\u001b[0m\u001b[0m\n\u001b[0;32m-> 1114\u001b[0;31m             \u001b[0mself\u001b[0m\u001b[0;34m.\u001b[0m\u001b[0m_engine\u001b[0m \u001b[0;34m=\u001b[0m \u001b[0mCParserWrapper\u001b[0m\u001b[0;34m(\u001b[0m\u001b[0mself\u001b[0m\u001b[0;34m.\u001b[0m\u001b[0mf\u001b[0m\u001b[0;34m,\u001b[0m \u001b[0;34m**\u001b[0m\u001b[0mself\u001b[0m\u001b[0;34m.\u001b[0m\u001b[0moptions\u001b[0m\u001b[0;34m)\u001b[0m\u001b[0;34m\u001b[0m\u001b[0;34m\u001b[0m\u001b[0m\n\u001b[0m\u001b[1;32m   1115\u001b[0m         \u001b[0;32melse\u001b[0m\u001b[0;34m:\u001b[0m\u001b[0;34m\u001b[0m\u001b[0;34m\u001b[0m\u001b[0m\n\u001b[1;32m   1116\u001b[0m             \u001b[0;32mif\u001b[0m \u001b[0mengine\u001b[0m \u001b[0;34m==\u001b[0m \u001b[0;34m\"python\"\u001b[0m\u001b[0;34m:\u001b[0m\u001b[0;34m\u001b[0m\u001b[0;34m\u001b[0m\u001b[0m\n",
      "\u001b[0;32m~/opt/miniconda3/lib/python3.7/site-packages/pandas/io/parsers.py\u001b[0m in \u001b[0;36m__init__\u001b[0;34m(self, src, **kwds)\u001b[0m\n\u001b[1;32m   1889\u001b[0m         \u001b[0mkwds\u001b[0m\u001b[0;34m[\u001b[0m\u001b[0;34m\"usecols\"\u001b[0m\u001b[0;34m]\u001b[0m \u001b[0;34m=\u001b[0m \u001b[0mself\u001b[0m\u001b[0;34m.\u001b[0m\u001b[0musecols\u001b[0m\u001b[0;34m\u001b[0m\u001b[0;34m\u001b[0m\u001b[0m\n\u001b[1;32m   1890\u001b[0m \u001b[0;34m\u001b[0m\u001b[0m\n\u001b[0;32m-> 1891\u001b[0;31m         \u001b[0mself\u001b[0m\u001b[0;34m.\u001b[0m\u001b[0m_reader\u001b[0m \u001b[0;34m=\u001b[0m \u001b[0mparsers\u001b[0m\u001b[0;34m.\u001b[0m\u001b[0mTextReader\u001b[0m\u001b[0;34m(\u001b[0m\u001b[0msrc\u001b[0m\u001b[0;34m,\u001b[0m \u001b[0;34m**\u001b[0m\u001b[0mkwds\u001b[0m\u001b[0;34m)\u001b[0m\u001b[0;34m\u001b[0m\u001b[0;34m\u001b[0m\u001b[0m\n\u001b[0m\u001b[1;32m   1892\u001b[0m         \u001b[0mself\u001b[0m\u001b[0;34m.\u001b[0m\u001b[0munnamed_cols\u001b[0m \u001b[0;34m=\u001b[0m \u001b[0mself\u001b[0m\u001b[0;34m.\u001b[0m\u001b[0m_reader\u001b[0m\u001b[0;34m.\u001b[0m\u001b[0munnamed_cols\u001b[0m\u001b[0;34m\u001b[0m\u001b[0;34m\u001b[0m\u001b[0m\n\u001b[1;32m   1893\u001b[0m \u001b[0;34m\u001b[0m\u001b[0m\n",
      "\u001b[0;32mpandas/_libs/parsers.pyx\u001b[0m in \u001b[0;36mpandas._libs.parsers.TextReader.__cinit__\u001b[0;34m()\u001b[0m\n",
      "\u001b[0;32mpandas/_libs/parsers.pyx\u001b[0m in \u001b[0;36mpandas._libs.parsers.TextReader._setup_parser_source\u001b[0;34m()\u001b[0m\n",
      "\u001b[0;31mFileNotFoundError\u001b[0m: [Errno 2] File /var/folders/gk/bfbckh990jl1mgl1m5864_fc0000gn/T/openfield/ground_surface_temperature/eplusout.csv does not exist: '/var/folders/gk/bfbckh990jl1mgl1m5864_fc0000gn/T/openfield/ground_surface_temperature/eplusout.csv'"
     ]
    }
   ],
   "source": [
    "import tempfile\n",
    "\n",
    "eso_file = Path(tempfile.gettempdir()) / \"openfield/ground_surface_temperature/eplusout.eso\"\n",
    "gnd = tc.geometry.Ground(material=tc.material.material_dict[\"CONCRETE\"], xy=6, depth=1.5, subsurface_size=3)\n",
    "\n",
    "print(eso_file)\n",
    "tc.energyplus.run_energyplus(epw_file, idd_file, ground=gnd, run=True)\n"
   ]
  },
  {
   "cell_type": "code",
   "execution_count": 40,
   "metadata": {},
   "outputs": [
    {
     "data": {
      "text/plain": [
       "'/var/folders/gk/bfbckh990jl1mgl1m5864_fc0000gn/T/openfield/ground_surface_temperature/eplusout.eso'"
      ]
     },
     "execution_count": 40,
     "metadata": {},
     "output_type": "execute_result"
    }
   ],
   "source": [
    "str(eso_file)"
   ]
  },
  {
   "cell_type": "code",
   "execution_count": 99,
   "metadata": {},
   "outputs": [
    {
     "data": {
      "text/plain": [
       "array([[21.90594974, 21.90594974, 21.90594974, ..., 24.6143621 ,\n",
       "        24.6143621 , 24.6143621 ],\n",
       "       [24.38764736, 24.38764736, 24.38764736, ..., 54.42630747,\n",
       "        54.42630747, 54.42630747],\n",
       "       [57.88793838, 57.88793838, 57.88793838, ..., 44.38270252,\n",
       "        44.38270252, 44.38270252],\n",
       "       [41.23612757, 41.23612757, 41.23612757, ..., 26.57495083,\n",
       "        26.57495083, 26.57495083]])"
      ]
     },
     "execution_count": 99,
     "metadata": {},
     "output_type": "execute_result"
    }
   ],
   "source": [
    "class EsoFile(object):\n",
    "    def __init__(self, eso_file: str):\n",
    "        self.eso_file = eso_file\n",
    "        self.objects = None\n",
    "        self.variables = None\n",
    "        self.values = None\n",
    "        self.reporting_frequency = None\n",
    "        self.version = None\n",
    "        self.creation_date = None\n",
    "        \n",
    "        self.read_eso()\n",
    "    \n",
    "    def read_eso(self):\n",
    "        \n",
    "        self.objects = []\n",
    "        self.variables = []\n",
    "        self.reporting_frequency = []\n",
    "        self.values = []\n",
    "        \n",
    "        with open(self.eso_file, \"r\") as f:\n",
    "            data = [i.strip() for i in f.readlines()]\n",
    "            \n",
    "            # Get metadata\n",
    "            self.version = data[0].split(\", \")[1].replace(\"Version \", \"\")\n",
    "            self.creation_date = pd.to_datetime(data[0].split(\", \")[2].replace(\"YMD=\", \"\"))\n",
    "            \n",
    "            # Get reporting frequency and variables\n",
    "            for i in data:\n",
    "                if \"!\" in i:\n",
    "                    if \"! \" in i:\n",
    "                        pass\n",
    "                    else:\n",
    "                        # Reporting frequency\n",
    "                        self.reporting_frequency.append(i.split(\" !\")[-1])\n",
    "                        # Object\n",
    "                        self.objects.append(i.split(\" !\")[0].split(\",\")[2])\n",
    "                        # Variable\n",
    "                        self.variables.append(i.split(\" !\")[0].split(\",\")[3])\n",
    "            \n",
    "            # Get the values\n",
    "            n_vals = len(self.reporting_frequency)\n",
    "            split_idx = [n for n, i in enumerate(data) if i == \"End of Data Dictionary\"][0] + 2\n",
    "            data = [i.split(\",\")[1] for i in data[split_idx:-2] if len(i.split(\",\")) <= 2]\n",
    "            self.values = np.array(tc.helpers.chunks(data, n=n_vals)).astype(np.float64)\n",
    "\n",
    "    \n",
    "EsoFile(eso_file).values\n"
   ]
  },
  {
   "cell_type": "code",
   "execution_count": 11,
   "metadata": {},
   "outputs": [
    {
     "name": "stdout",
     "output_type": "stream",
     "text": [
      "Ground surface temperature simulation completed\n"
     ]
    },
    {
     "ename": "FileNotFoundError",
     "evalue": "[Errno 2] File /var/folders/gk/bfbckh990jl1mgl1m5864_fc0000gn/T/openfield/ground_surface_temperature/eplusout.csv does not exist: '/var/folders/gk/bfbckh990jl1mgl1m5864_fc0000gn/T/openfield/ground_surface_temperature/eplusout.csv'",
     "output_type": "error",
     "traceback": [
      "\u001b[0;31m---------------------------------------------------------------------------\u001b[0m",
      "\u001b[0;31mFileNotFoundError\u001b[0m                         Traceback (most recent call last)",
      "\u001b[0;32m<ipython-input-11-7aa96a856410>\u001b[0m in \u001b[0;36m<module>\u001b[0;34m\u001b[0m\n\u001b[1;32m      2\u001b[0m \u001b[0;34m\u001b[0m\u001b[0m\n\u001b[1;32m      3\u001b[0m \u001b[0;31m# Open-field MRT and UTCI calculation\u001b[0m\u001b[0;34m\u001b[0m\u001b[0;34m\u001b[0m\u001b[0;34m\u001b[0m\u001b[0m\n\u001b[0;32m----> 4\u001b[0;31m \u001b[0mof\u001b[0m \u001b[0;34m=\u001b[0m \u001b[0mtc\u001b[0m\u001b[0;34m.\u001b[0m\u001b[0mopenfield\u001b[0m\u001b[0;34m.\u001b[0m\u001b[0mopenfield\u001b[0m\u001b[0;34m(\u001b[0m\u001b[0mepw_file\u001b[0m\u001b[0;34m=\u001b[0m\u001b[0mepw_file\u001b[0m\u001b[0;34m,\u001b[0m \u001b[0midd_file\u001b[0m\u001b[0;34m=\u001b[0m\u001b[0midd_file\u001b[0m\u001b[0;34m,\u001b[0m \u001b[0mmaterial\u001b[0m\u001b[0;34m=\u001b[0m\u001b[0;34m\"CONCRETE\"\u001b[0m\u001b[0;34m,\u001b[0m \u001b[0mshaded\u001b[0m\u001b[0;34m=\u001b[0m\u001b[0;32mTrue\u001b[0m\u001b[0;34m)\u001b[0m\u001b[0;34m\u001b[0m\u001b[0;34m\u001b[0m\u001b[0m\n\u001b[0m\u001b[1;32m      5\u001b[0m \u001b[0mof_mrt\u001b[0m \u001b[0;34m=\u001b[0m \u001b[0mof\u001b[0m\u001b[0;34m.\u001b[0m\u001b[0mmrt\u001b[0m\u001b[0;34m.\u001b[0m\u001b[0mvalues\u001b[0m\u001b[0;34m\u001b[0m\u001b[0;34m\u001b[0m\u001b[0m\n\u001b[1;32m      6\u001b[0m \u001b[0mof_utci\u001b[0m \u001b[0;34m=\u001b[0m \u001b[0mof\u001b[0m\u001b[0;34m.\u001b[0m\u001b[0mutci\u001b[0m\u001b[0;34m.\u001b[0m\u001b[0mvalues\u001b[0m\u001b[0;34m\u001b[0m\u001b[0;34m\u001b[0m\u001b[0m\n",
      "\u001b[0;32m~/Desktop/github/oshe/oshe/openfield.py\u001b[0m in \u001b[0;36mopenfield\u001b[0;34m(epw_file, idd_file, material, shaded)\u001b[0m\n\u001b[1;32m     38\u001b[0m \u001b[0;34m\u001b[0m\u001b[0m\n\u001b[1;32m     39\u001b[0m     \u001b[0;31m# Calculate ground surface temperature\u001b[0m\u001b[0;34m\u001b[0m\u001b[0;34m\u001b[0m\u001b[0;34m\u001b[0m\u001b[0m\n\u001b[0;32m---> 40\u001b[0;31m     \u001b[0mof_srf_temp\u001b[0m \u001b[0;34m=\u001b[0m \u001b[0mrun_energyplus\u001b[0m\u001b[0;34m(\u001b[0m\u001b[0mepw_file\u001b[0m\u001b[0;34m,\u001b[0m \u001b[0midd_file\u001b[0m\u001b[0;34m,\u001b[0m \u001b[0mground\u001b[0m\u001b[0;34m=\u001b[0m\u001b[0mground_zone\u001b[0m\u001b[0;34m,\u001b[0m \u001b[0mshades\u001b[0m\u001b[0;34m=\u001b[0m\u001b[0mshades\u001b[0m\u001b[0;34m,\u001b[0m \u001b[0mrun\u001b[0m\u001b[0;34m=\u001b[0m\u001b[0;32mTrue\u001b[0m\u001b[0;34m)\u001b[0m\u001b[0;34m\u001b[0m\u001b[0;34m\u001b[0m\u001b[0m\n\u001b[0m\u001b[1;32m     41\u001b[0m \u001b[0;34m\u001b[0m\u001b[0m\n\u001b[1;32m     42\u001b[0m     \u001b[0;31m# Calculate incident solar direct and diffuse radiation\u001b[0m\u001b[0;34m\u001b[0m\u001b[0;34m\u001b[0m\u001b[0;34m\u001b[0m\u001b[0m\n",
      "\u001b[0;32m~/Desktop/github/oshe/oshe/energyplus.py\u001b[0m in \u001b[0;36mrun_energyplus\u001b[0;34m(epw_file, idd_file, ground, shades, output_directory, case_name, run)\u001b[0m\n\u001b[1;32m    130\u001b[0m \u001b[0;34m\u001b[0m\u001b[0m\n\u001b[1;32m    131\u001b[0m         \u001b[0;31m# Read surface temperature results\u001b[0m\u001b[0;34m\u001b[0m\u001b[0;34m\u001b[0m\u001b[0;34m\u001b[0m\u001b[0m\n\u001b[0;32m--> 132\u001b[0;31m         \u001b[0mground_surface_temperature\u001b[0m \u001b[0;34m=\u001b[0m \u001b[0mload_energyplus_results\u001b[0m\u001b[0;34m(\u001b[0m\u001b[0mcsv_file\u001b[0m\u001b[0;34m)\u001b[0m\u001b[0;34m\u001b[0m\u001b[0;34m\u001b[0m\u001b[0m\n\u001b[0m\u001b[1;32m    133\u001b[0m \u001b[0;34m\u001b[0m\u001b[0m\n\u001b[1;32m    134\u001b[0m         \u001b[0;32mreturn\u001b[0m \u001b[0mground_surface_temperature\u001b[0m\u001b[0;34m\u001b[0m\u001b[0;34m\u001b[0m\u001b[0m\n",
      "\u001b[0;32m~/Desktop/github/oshe/oshe/energyplus.py\u001b[0m in \u001b[0;36mload_energyplus_results\u001b[0;34m(file_path)\u001b[0m\n\u001b[1;32m    149\u001b[0m         \u001b[0mSurface\u001b[0m \u001b[0mtemperature\u001b[0m \u001b[0marray\u001b[0m \u001b[0;34m(\u001b[0m\u001b[0meach\u001b[0m \u001b[0melement\u001b[0m \u001b[0;32mis\u001b[0m \u001b[0ma\u001b[0m \u001b[0msingle\u001b[0m \u001b[0msurface\u001b[0m\u001b[0;34m)\u001b[0m\u001b[0;34m\u001b[0m\u001b[0;34m\u001b[0m\u001b[0m\n\u001b[1;32m    150\u001b[0m     \"\"\"\n\u001b[0;32m--> 151\u001b[0;31m     \u001b[0mdata\u001b[0m \u001b[0;34m=\u001b[0m \u001b[0mpd\u001b[0m\u001b[0;34m.\u001b[0m\u001b[0mread_csv\u001b[0m\u001b[0;34m(\u001b[0m\u001b[0mfile_path\u001b[0m\u001b[0;34m,\u001b[0m \u001b[0mindex_col\u001b[0m\u001b[0;34m=\u001b[0m\u001b[0;36m0\u001b[0m\u001b[0;34m,\u001b[0m \u001b[0mparse_dates\u001b[0m\u001b[0;34m=\u001b[0m\u001b[0;32mTrue\u001b[0m\u001b[0;34m)\u001b[0m\u001b[0;34m.\u001b[0m\u001b[0mdropna\u001b[0m\u001b[0;34m(\u001b[0m\u001b[0maxis\u001b[0m\u001b[0;34m=\u001b[0m\u001b[0;36m1\u001b[0m\u001b[0;34m)\u001b[0m\u001b[0;34m.\u001b[0m\u001b[0mvalues\u001b[0m\u001b[0;34m.\u001b[0m\u001b[0mT\u001b[0m\u001b[0;34m\u001b[0m\u001b[0;34m\u001b[0m\u001b[0m\n\u001b[0m\u001b[1;32m    152\u001b[0m     \u001b[0mprint\u001b[0m\u001b[0;34m(\u001b[0m\u001b[0;34m\"EnergyPlus results loaded\"\u001b[0m\u001b[0;34m)\u001b[0m\u001b[0;34m\u001b[0m\u001b[0;34m\u001b[0m\u001b[0m\n\u001b[1;32m    153\u001b[0m     \u001b[0;32mreturn\u001b[0m \u001b[0mdata\u001b[0m\u001b[0;34m\u001b[0m\u001b[0;34m\u001b[0m\u001b[0m\n",
      "\u001b[0;32m~/opt/miniconda3/lib/python3.7/site-packages/pandas/io/parsers.py\u001b[0m in \u001b[0;36mparser_f\u001b[0;34m(filepath_or_buffer, sep, delimiter, header, names, index_col, usecols, squeeze, prefix, mangle_dupe_cols, dtype, engine, converters, true_values, false_values, skipinitialspace, skiprows, skipfooter, nrows, na_values, keep_default_na, na_filter, verbose, skip_blank_lines, parse_dates, infer_datetime_format, keep_date_col, date_parser, dayfirst, cache_dates, iterator, chunksize, compression, thousands, decimal, lineterminator, quotechar, quoting, doublequote, escapechar, comment, encoding, dialect, error_bad_lines, warn_bad_lines, delim_whitespace, low_memory, memory_map, float_precision)\u001b[0m\n\u001b[1;32m    674\u001b[0m         )\n\u001b[1;32m    675\u001b[0m \u001b[0;34m\u001b[0m\u001b[0m\n\u001b[0;32m--> 676\u001b[0;31m         \u001b[0;32mreturn\u001b[0m \u001b[0m_read\u001b[0m\u001b[0;34m(\u001b[0m\u001b[0mfilepath_or_buffer\u001b[0m\u001b[0;34m,\u001b[0m \u001b[0mkwds\u001b[0m\u001b[0;34m)\u001b[0m\u001b[0;34m\u001b[0m\u001b[0;34m\u001b[0m\u001b[0m\n\u001b[0m\u001b[1;32m    677\u001b[0m \u001b[0;34m\u001b[0m\u001b[0m\n\u001b[1;32m    678\u001b[0m     \u001b[0mparser_f\u001b[0m\u001b[0;34m.\u001b[0m\u001b[0m__name__\u001b[0m \u001b[0;34m=\u001b[0m \u001b[0mname\u001b[0m\u001b[0;34m\u001b[0m\u001b[0;34m\u001b[0m\u001b[0m\n",
      "\u001b[0;32m~/opt/miniconda3/lib/python3.7/site-packages/pandas/io/parsers.py\u001b[0m in \u001b[0;36m_read\u001b[0;34m(filepath_or_buffer, kwds)\u001b[0m\n\u001b[1;32m    446\u001b[0m \u001b[0;34m\u001b[0m\u001b[0m\n\u001b[1;32m    447\u001b[0m     \u001b[0;31m# Create the parser.\u001b[0m\u001b[0;34m\u001b[0m\u001b[0;34m\u001b[0m\u001b[0;34m\u001b[0m\u001b[0m\n\u001b[0;32m--> 448\u001b[0;31m     \u001b[0mparser\u001b[0m \u001b[0;34m=\u001b[0m \u001b[0mTextFileReader\u001b[0m\u001b[0;34m(\u001b[0m\u001b[0mfp_or_buf\u001b[0m\u001b[0;34m,\u001b[0m \u001b[0;34m**\u001b[0m\u001b[0mkwds\u001b[0m\u001b[0;34m)\u001b[0m\u001b[0;34m\u001b[0m\u001b[0;34m\u001b[0m\u001b[0m\n\u001b[0m\u001b[1;32m    449\u001b[0m \u001b[0;34m\u001b[0m\u001b[0m\n\u001b[1;32m    450\u001b[0m     \u001b[0;32mif\u001b[0m \u001b[0mchunksize\u001b[0m \u001b[0;32mor\u001b[0m \u001b[0miterator\u001b[0m\u001b[0;34m:\u001b[0m\u001b[0;34m\u001b[0m\u001b[0;34m\u001b[0m\u001b[0m\n",
      "\u001b[0;32m~/opt/miniconda3/lib/python3.7/site-packages/pandas/io/parsers.py\u001b[0m in \u001b[0;36m__init__\u001b[0;34m(self, f, engine, **kwds)\u001b[0m\n\u001b[1;32m    878\u001b[0m             \u001b[0mself\u001b[0m\u001b[0;34m.\u001b[0m\u001b[0moptions\u001b[0m\u001b[0;34m[\u001b[0m\u001b[0;34m\"has_index_names\"\u001b[0m\u001b[0;34m]\u001b[0m \u001b[0;34m=\u001b[0m \u001b[0mkwds\u001b[0m\u001b[0;34m[\u001b[0m\u001b[0;34m\"has_index_names\"\u001b[0m\u001b[0;34m]\u001b[0m\u001b[0;34m\u001b[0m\u001b[0;34m\u001b[0m\u001b[0m\n\u001b[1;32m    879\u001b[0m \u001b[0;34m\u001b[0m\u001b[0m\n\u001b[0;32m--> 880\u001b[0;31m         \u001b[0mself\u001b[0m\u001b[0;34m.\u001b[0m\u001b[0m_make_engine\u001b[0m\u001b[0;34m(\u001b[0m\u001b[0mself\u001b[0m\u001b[0;34m.\u001b[0m\u001b[0mengine\u001b[0m\u001b[0;34m)\u001b[0m\u001b[0;34m\u001b[0m\u001b[0;34m\u001b[0m\u001b[0m\n\u001b[0m\u001b[1;32m    881\u001b[0m \u001b[0;34m\u001b[0m\u001b[0m\n\u001b[1;32m    882\u001b[0m     \u001b[0;32mdef\u001b[0m \u001b[0mclose\u001b[0m\u001b[0;34m(\u001b[0m\u001b[0mself\u001b[0m\u001b[0;34m)\u001b[0m\u001b[0;34m:\u001b[0m\u001b[0;34m\u001b[0m\u001b[0;34m\u001b[0m\u001b[0m\n",
      "\u001b[0;32m~/opt/miniconda3/lib/python3.7/site-packages/pandas/io/parsers.py\u001b[0m in \u001b[0;36m_make_engine\u001b[0;34m(self, engine)\u001b[0m\n\u001b[1;32m   1112\u001b[0m     \u001b[0;32mdef\u001b[0m \u001b[0m_make_engine\u001b[0m\u001b[0;34m(\u001b[0m\u001b[0mself\u001b[0m\u001b[0;34m,\u001b[0m \u001b[0mengine\u001b[0m\u001b[0;34m=\u001b[0m\u001b[0;34m\"c\"\u001b[0m\u001b[0;34m)\u001b[0m\u001b[0;34m:\u001b[0m\u001b[0;34m\u001b[0m\u001b[0;34m\u001b[0m\u001b[0m\n\u001b[1;32m   1113\u001b[0m         \u001b[0;32mif\u001b[0m \u001b[0mengine\u001b[0m \u001b[0;34m==\u001b[0m \u001b[0;34m\"c\"\u001b[0m\u001b[0;34m:\u001b[0m\u001b[0;34m\u001b[0m\u001b[0;34m\u001b[0m\u001b[0m\n\u001b[0;32m-> 1114\u001b[0;31m             \u001b[0mself\u001b[0m\u001b[0;34m.\u001b[0m\u001b[0m_engine\u001b[0m \u001b[0;34m=\u001b[0m \u001b[0mCParserWrapper\u001b[0m\u001b[0;34m(\u001b[0m\u001b[0mself\u001b[0m\u001b[0;34m.\u001b[0m\u001b[0mf\u001b[0m\u001b[0;34m,\u001b[0m \u001b[0;34m**\u001b[0m\u001b[0mself\u001b[0m\u001b[0;34m.\u001b[0m\u001b[0moptions\u001b[0m\u001b[0;34m)\u001b[0m\u001b[0;34m\u001b[0m\u001b[0;34m\u001b[0m\u001b[0m\n\u001b[0m\u001b[1;32m   1115\u001b[0m         \u001b[0;32melse\u001b[0m\u001b[0;34m:\u001b[0m\u001b[0;34m\u001b[0m\u001b[0;34m\u001b[0m\u001b[0m\n\u001b[1;32m   1116\u001b[0m             \u001b[0;32mif\u001b[0m \u001b[0mengine\u001b[0m \u001b[0;34m==\u001b[0m \u001b[0;34m\"python\"\u001b[0m\u001b[0;34m:\u001b[0m\u001b[0;34m\u001b[0m\u001b[0;34m\u001b[0m\u001b[0m\n",
      "\u001b[0;32m~/opt/miniconda3/lib/python3.7/site-packages/pandas/io/parsers.py\u001b[0m in \u001b[0;36m__init__\u001b[0;34m(self, src, **kwds)\u001b[0m\n\u001b[1;32m   1889\u001b[0m         \u001b[0mkwds\u001b[0m\u001b[0;34m[\u001b[0m\u001b[0;34m\"usecols\"\u001b[0m\u001b[0;34m]\u001b[0m \u001b[0;34m=\u001b[0m \u001b[0mself\u001b[0m\u001b[0;34m.\u001b[0m\u001b[0musecols\u001b[0m\u001b[0;34m\u001b[0m\u001b[0;34m\u001b[0m\u001b[0m\n\u001b[1;32m   1890\u001b[0m \u001b[0;34m\u001b[0m\u001b[0m\n\u001b[0;32m-> 1891\u001b[0;31m         \u001b[0mself\u001b[0m\u001b[0;34m.\u001b[0m\u001b[0m_reader\u001b[0m \u001b[0;34m=\u001b[0m \u001b[0mparsers\u001b[0m\u001b[0;34m.\u001b[0m\u001b[0mTextReader\u001b[0m\u001b[0;34m(\u001b[0m\u001b[0msrc\u001b[0m\u001b[0;34m,\u001b[0m \u001b[0;34m**\u001b[0m\u001b[0mkwds\u001b[0m\u001b[0;34m)\u001b[0m\u001b[0;34m\u001b[0m\u001b[0;34m\u001b[0m\u001b[0m\n\u001b[0m\u001b[1;32m   1892\u001b[0m         \u001b[0mself\u001b[0m\u001b[0;34m.\u001b[0m\u001b[0munnamed_cols\u001b[0m \u001b[0;34m=\u001b[0m \u001b[0mself\u001b[0m\u001b[0;34m.\u001b[0m\u001b[0m_reader\u001b[0m\u001b[0;34m.\u001b[0m\u001b[0munnamed_cols\u001b[0m\u001b[0;34m\u001b[0m\u001b[0;34m\u001b[0m\u001b[0m\n\u001b[1;32m   1893\u001b[0m \u001b[0;34m\u001b[0m\u001b[0m\n",
      "\u001b[0;32mpandas/_libs/parsers.pyx\u001b[0m in \u001b[0;36mpandas._libs.parsers.TextReader.__cinit__\u001b[0;34m()\u001b[0m\n",
      "\u001b[0;32mpandas/_libs/parsers.pyx\u001b[0m in \u001b[0;36mpandas._libs.parsers.TextReader._setup_parser_source\u001b[0;34m()\u001b[0m\n",
      "\u001b[0;31mFileNotFoundError\u001b[0m: [Errno 2] File /var/folders/gk/bfbckh990jl1mgl1m5864_fc0000gn/T/openfield/ground_surface_temperature/eplusout.csv does not exist: '/var/folders/gk/bfbckh990jl1mgl1m5864_fc0000gn/T/openfield/ground_surface_temperature/eplusout.csv'"
     ]
    }
   ],
   "source": [
    "# SC method processing\n",
    "\n",
    "# Open-field MRT and UTCI calculation\n",
    "of = tc.openfield.openfield(epw_file=epw_file, idd_file=idd_file, material=\"CONCRETE\", shaded=True)\n",
    "of_mrt = of.mrt.values\n",
    "of_utci = of.utci.values"
   ]
  },
  {
   "cell_type": "code",
   "execution_count": 14,
   "metadata": {
    "code_folding": []
   },
   "outputs": [
    {
     "name": "stdout",
     "output_type": "stream",
     "text": [
      "EnergyPlus results loaded\n",
      "Radiance results loaded\n",
      "View-factored surface temperatures calculated\n"
     ]
    }
   ],
   "source": [
    "# Load case recipe\n",
    "_dir = Path(r\"C:\\Users\\tgerrish\\Desktop\\_0Ghadan21\\STREETFACELIFTS_P1\")\n",
    "reload = False\n",
    "\n",
    "# Create output directory for generated images\n",
    "plot_directory = tc.helpers.create_directory(_dir / \"plots2\")\n",
    "\n",
    "# Load radiance geometries\n",
    "rad_files = tc.helpers.flatten([tc.helpers.find_files(_dir, endswith=i) for i in [\"glz.rad\", \"opq.rad\"]])\n",
    "\n",
    "# Load points\n",
    "points = pd.read_csv(_dir / \"_sample_points.xyz\", header=None).values\n",
    "\n",
    "# Load plot tricontour plot \n",
    "boundary = pd.read_csv(_dir / \"_boundary_points.xyz\", header=None).values[:, :2]\n",
    "\n",
    "# Load focus pts\n",
    "focus_pts = pd.read_csv(_dir / \"focus_pts.csv\", header=None).values.T[0]\n",
    "\n",
    "# Load ground reflectivities\n",
    "ground_reflectivities = pd.read_csv(_dir / \"_ground_reflectivities.rfl\", header=None).values\n",
    "\n",
    "# Load surface view factors\n",
    "surface_view_factors = pd.read_csv(_dir / \"_surface_view_factors.vf\", header=None).values\n",
    "\n",
    "# Load sky view factors\n",
    "sky_view_factors = pd.read_csv(_dir / \"_sky_view_factors.vf\", header=None).values / 100  # values output from GH are in %, need to be in decimal\n",
    "\n",
    "if not reload:\n",
    "    # Read EnergyPlus annual hourly surface temperature results\n",
    "    surface_temperatures = tc.helpers.load_energyplus_results(_dir / \"OpenStudio\" / _dir.name / \"ModelToIdf/eplusout.csv\")\n",
    "\n",
    "    # Read Radiance simulation annual hourly incident radiation results\n",
    "    radiation_direct, radiation_diffuse = tc.helpers.load_radiance_results(_dir / \"gridbased_annual/result\")\n",
    "    \n",
    "    # Calculate generic sky temperature\n",
    "    skytemp = tc.oshe.sky_temperature(hir)\n",
    "\n",
    "    # Append sky temperature and air temperature onto end of surface temperatures\n",
    "    all_srf_temps = np.vstack([surface_temperatures, skytemp, dbt])\n",
    "\n",
    "    # Append sky view factor to end of surface view factors\n",
    "    all_vfs = np.hstack([surface_view_factors, sky_view_factors])\n",
    "\n",
    "    # Add view factor to end of each group, bringing total to 1\n",
    "    makeups = np.where(1 - all_vfs.sum(axis=1) <= 0, 0, 1 - all_vfs.sum(axis=1))\n",
    "    all_vfs = np.vstack([all_vfs.T, makeups]).T\n",
    "\n",
    "    # Normalise view factors to 0-1\n",
    "    all_vfs = all_vfs.T * (1 / all_vfs.sum(axis=1))\n",
    "\n",
    "    # Calculate overall surrounding surface temperature using view factors and individual surface temperatures\n",
    "    surrounding_surface_temperatures = np.power(np.matmul(all_vfs.T, np.power(all_srf_temps.T + 273.15, 4).T), 0.25) - 273.15\n",
    "    print(\"View-factored surface temperatures calculated\")\n"
   ]
  },
  {
   "cell_type": "code",
   "execution_count": 15,
   "metadata": {},
   "outputs": [
    {
     "name": "stdout",
     "output_type": "stream",
     "text": [
      "MRT calculated and written to C:\\Users\\tgerrish\\Desktop\\_0Ghadan21\\STREETFACELIFTS_P1\\result.mrt\n"
     ]
    }
   ],
   "source": [
    "# Calculate MRT and write to file\n",
    "\n",
    "mrt_path = _dir / \"result.mrt\"\n",
    "if not reload:\n",
    "    mean_radiant_temperature = tc.mrt.mrt_parallel(\n",
    "        threads=8, \n",
    "        surrounding_surfaces_temperature=surrounding_surface_temperatures, \n",
    "        horizontal_infrared_radiation_intensity=hir, \n",
    "        diffuse_horizontal_solar=radiation_diffuse, \n",
    "        direct_normal_solar=radiation_direct, \n",
    "        sun_altitude=sun_altitude, \n",
    "        ground_reflectivity=ground_reflectivities, \n",
    "        sky_exposure=sky_view_factors\n",
    "    )\n",
    "\n",
    "    # Write to file\n",
    "    df_mrt = pd.DataFrame(mean_radiant_temperature.T)\n",
    "    df_mrt.round(6).to_csv(mrt_path, index=False)\n",
    "    print(\"MRT calculated and written to {}\".format(mrt_path))\n",
    "else:\n",
    "    mean_radiant_temperature = pd.read_csv(mrt_path).values.T\n",
    "    print(\"MRT reloaded from {}\".format(mrt_path))"
   ]
  },
  {
   "cell_type": "code",
   "execution_count": 16,
   "metadata": {},
   "outputs": [
    {
     "name": "stdout",
     "output_type": "stream",
     "text": [
      "UTCI calculated and written to C:\\Users\\tgerrish\\Desktop\\_0Ghadan21\\STREETFACELIFTS_P1\\result.utci\n"
     ]
    }
   ],
   "source": [
    "# Calculate UTCI and write to file\n",
    "\n",
    "utci_path = _dir / \"result.utci\"\n",
    "if not reload:\n",
    "    universal_thermal_climate_index = tc.utci.utci_parallel(\n",
    "        threads=8, \n",
    "        air_temperature=dbt, \n",
    "        mean_radiant_temperature=mean_radiant_temperature.T, \n",
    "        wind_speed=ws, \n",
    "        relative_humidity=rh\n",
    "    )\n",
    "\n",
    "    # Write to file\n",
    "    df_utci = pd.DataFrame(universal_thermal_climate_index.T)\n",
    "    df_utci.round(6).to_csv(utci_path, index=False)\n",
    "    print(\"UTCI calculated and written to {}\".format(utci_path))\n",
    "else:\n",
    "    universal_thermal_climate_index = pd.read_csv(utci_path).values.T\n",
    "    print(\"UTCI reloaded from {}\".format(utci_path))"
   ]
  },
  {
   "cell_type": "code",
   "execution_count": 19,
   "metadata": {},
   "outputs": [
    {
     "name": "stdout",
     "output_type": "stream",
     "text": [
      "Plot saved to C:\\Users\\tgerrish\\Desktop\\_0Ghadan21\\STREETFACELIFTS_P1\\plots2\\openfield_comfortheatmap.png\n",
      "Plot saved to C:\\Users\\tgerrish\\Desktop\\_0Ghadan21\\STREETFACELIFTS_P1\\plots2\\comfortable_hours_may.png\n",
      "Plot saved to C:\\Users\\tgerrish\\Desktop\\_0Ghadan21\\STREETFACELIFTS_P1\\plots2\\comfortable_hours_october.png\n",
      "Plot saved to C:\\Users\\tgerrish\\Desktop\\_0Ghadan21\\STREETFACELIFTS_P1\\plots2\\comfortable_hours_annual.png\n",
      "Plot saved to C:\\Users\\tgerrish\\Desktop\\_0Ghadan21\\STREETFACELIFTS_P1\\plots2\\context.png\n",
      "Plot saved to C:\\Users\\tgerrish\\Desktop\\_0Ghadan21\\STREETFACELIFTS_P1\\plots2\\context_ptlabel.png\n",
      "Plot saved to C:\\Users\\tgerrish\\Desktop\\_0Ghadan21\\STREETFACELIFTS_P1\\plots2\\context_focuspts.png\n",
      "Plot saved to C:\\Users\\tgerrish\\Desktop\\_0Ghadan21\\STREETFACELIFTS_P1\\plots2\\improvement_annual_morningshoulder.png\n",
      "Plot saved to C:\\Users\\tgerrish\\Desktop\\_0Ghadan21\\STREETFACELIFTS_P1\\plots2\\improvement_annual_afternoonshoulder.png\n",
      "Plot saved to C:\\Users\\tgerrish\\Desktop\\_0Ghadan21\\STREETFACELIFTS_P1\\plots2\\improvement_annual_morningafternoonshoulder.png\n",
      "Plot saved to C:\\Users\\tgerrish\\Desktop\\_0Ghadan21\\STREETFACELIFTS_P1\\plots2\\improvement_may_morningshoulder.png\n",
      "Plot saved to C:\\Users\\tgerrish\\Desktop\\_0Ghadan21\\STREETFACELIFTS_P1\\plots2\\improvement_may_afternoonshoulder.png\n",
      "Plot saved to C:\\Users\\tgerrish\\Desktop\\_0Ghadan21\\STREETFACELIFTS_P1\\plots2\\improvement_may_morningafternoonshoulder.png\n",
      "Plot saved to C:\\Users\\tgerrish\\Desktop\\_0Ghadan21\\STREETFACELIFTS_P1\\plots2\\improvement_october_morningshoulder.png\n",
      "Plot saved to C:\\Users\\tgerrish\\Desktop\\_0Ghadan21\\STREETFACELIFTS_P1\\plots2\\improvement_october_afternoonshoulder.png\n",
      "Plot saved to C:\\Users\\tgerrish\\Desktop\\_0Ghadan21\\STREETFACELIFTS_P1\\plots2\\improvement_october_morningafternoonshoulder.png\n",
      "Plot saved to C:\\Users\\tgerrish\\Desktop\\_0Ghadan21\\STREETFACELIFTS_P1\\plots2\\comfort_annual_morningshoulder.png\n",
      "Plot saved to C:\\Users\\tgerrish\\Desktop\\_0Ghadan21\\STREETFACELIFTS_P1\\plots2\\comfort_annual_afternoonshoulder.png\n",
      "Plot saved to C:\\Users\\tgerrish\\Desktop\\_0Ghadan21\\STREETFACELIFTS_P1\\plots2\\comfort_annual_morningafternoonshoulder.png\n",
      "Plot saved to C:\\Users\\tgerrish\\Desktop\\_0Ghadan21\\STREETFACELIFTS_P1\\plots2\\comfort_may_morningshoulder.png\n",
      "Plot saved to C:\\Users\\tgerrish\\Desktop\\_0Ghadan21\\STREETFACELIFTS_P1\\plots2\\comfort_may_afternoonshoulder.png\n",
      "Plot saved to C:\\Users\\tgerrish\\Desktop\\_0Ghadan21\\STREETFACELIFTS_P1\\plots2\\comfort_may_morningafternoonshoulder.png\n",
      "Plot saved to C:\\Users\\tgerrish\\Desktop\\_0Ghadan21\\STREETFACELIFTS_P1\\plots2\\comfort_october_morningshoulder.png\n",
      "Plot saved to C:\\Users\\tgerrish\\Desktop\\_0Ghadan21\\STREETFACELIFTS_P1\\plots2\\comfort_october_afternoonshoulder.png\n",
      "Plot saved to C:\\Users\\tgerrish\\Desktop\\_0Ghadan21\\STREETFACELIFTS_P1\\plots2\\comfort_october_morningafternoonshoulder.png\n",
      "Plot saved to C:\\Users\\tgerrish\\Desktop\\_0Ghadan21\\STREETFACELIFTS_P1\\plots2\\reduction_annual_morningshoulder.png\n",
      "Plot saved to C:\\Users\\tgerrish\\Desktop\\_0Ghadan21\\STREETFACELIFTS_P1\\plots2\\reduction_annual_afternoonshoulder.png\n",
      "Plot saved to C:\\Users\\tgerrish\\Desktop\\_0Ghadan21\\STREETFACELIFTS_P1\\plots2\\reduction_annual_morningafternoonshoulder.png\n"
     ]
    },
    {
     "name": "stderr",
     "output_type": "stream",
     "text": [
      "C:\\Users\\tgerrish\\Documents\\GitHub\\oshe\\oshe\\plot.py:290: UserWarning: No contour levels were found within the data range.\n",
      "  levels=[-4, -3, -2, -1, 0, 1, 2, 3, 4], zorder=10, alpha=0.5)\n"
     ]
    },
    {
     "name": "stdout",
     "output_type": "stream",
     "text": [
      "Plot saved to C:\\Users\\tgerrish\\Desktop\\_0Ghadan21\\STREETFACELIFTS_P1\\plots2\\reduction_may_morningshoulder.png\n",
      "Plot saved to C:\\Users\\tgerrish\\Desktop\\_0Ghadan21\\STREETFACELIFTS_P1\\plots2\\reduction_may_afternoonshoulder.png\n",
      "Plot saved to C:\\Users\\tgerrish\\Desktop\\_0Ghadan21\\STREETFACELIFTS_P1\\plots2\\reduction_may_morningafternoonshoulder.png\n",
      "Plot saved to C:\\Users\\tgerrish\\Desktop\\_0Ghadan21\\STREETFACELIFTS_P1\\plots2\\reduction_october_morningshoulder.png\n",
      "Plot saved to C:\\Users\\tgerrish\\Desktop\\_0Ghadan21\\STREETFACELIFTS_P1\\plots2\\reduction_october_afternoonshoulder.png\n",
      "Plot saved to C:\\Users\\tgerrish\\Desktop\\_0Ghadan21\\STREETFACELIFTS_P1\\plots2\\reduction_october_morningafternoonshoulder.png\n",
      "Plot saved to C:\\Users\\tgerrish\\Desktop\\_0Ghadan21\\STREETFACELIFTS_P1\\plots2\\pt0072_reductionheatmap.png\n",
      "Plot saved to C:\\Users\\tgerrish\\Desktop\\_0Ghadan21\\STREETFACELIFTS_P1\\plots2\\pt0072_comfortheatmap.png\n",
      "Plot saved to C:\\Users\\tgerrish\\Desktop\\_0Ghadan21\\STREETFACELIFTS_P1\\plots2\\pt0072_profile_may.png\n",
      "Plot saved to C:\\Users\\tgerrish\\Desktop\\_0Ghadan21\\STREETFACELIFTS_P1\\plots2\\pt0072_profile_october.png\n",
      "Plot saved to C:\\Users\\tgerrish\\Desktop\\_0Ghadan21\\STREETFACELIFTS_P1\\plots2\\pt0096_reductionheatmap.png\n",
      "Plot saved to C:\\Users\\tgerrish\\Desktop\\_0Ghadan21\\STREETFACELIFTS_P1\\plots2\\pt0096_comfortheatmap.png\n",
      "Plot saved to C:\\Users\\tgerrish\\Desktop\\_0Ghadan21\\STREETFACELIFTS_P1\\plots2\\pt0096_profile_may.png\n",
      "Plot saved to C:\\Users\\tgerrish\\Desktop\\_0Ghadan21\\STREETFACELIFTS_P1\\plots2\\pt0096_profile_october.png\n",
      "Plot saved to C:\\Users\\tgerrish\\Desktop\\_0Ghadan21\\STREETFACELIFTS_P1\\plots2\\pt0127_reductionheatmap.png\n",
      "Plot saved to C:\\Users\\tgerrish\\Desktop\\_0Ghadan21\\STREETFACELIFTS_P1\\plots2\\pt0127_comfortheatmap.png\n",
      "Plot saved to C:\\Users\\tgerrish\\Desktop\\_0Ghadan21\\STREETFACELIFTS_P1\\plots2\\pt0127_profile_may.png\n",
      "Plot saved to C:\\Users\\tgerrish\\Desktop\\_0Ghadan21\\STREETFACELIFTS_P1\\plots2\\pt0127_profile_october.png\n",
      "Plot saved to C:\\Users\\tgerrish\\Desktop\\_0Ghadan21\\STREETFACELIFTS_P1\\plots2\\pt0169_reductionheatmap.png\n",
      "Plot saved to C:\\Users\\tgerrish\\Desktop\\_0Ghadan21\\STREETFACELIFTS_P1\\plots2\\pt0169_comfortheatmap.png\n",
      "Plot saved to C:\\Users\\tgerrish\\Desktop\\_0Ghadan21\\STREETFACELIFTS_P1\\plots2\\pt0169_profile_may.png\n",
      "Plot saved to C:\\Users\\tgerrish\\Desktop\\_0Ghadan21\\STREETFACELIFTS_P1\\plots2\\pt0169_profile_october.png\n",
      "Plot saved to C:\\Users\\tgerrish\\Desktop\\_0Ghadan21\\STREETFACELIFTS_P1\\plots2\\pt0253_reductionheatmap.png\n",
      "Plot saved to C:\\Users\\tgerrish\\Desktop\\_0Ghadan21\\STREETFACELIFTS_P1\\plots2\\pt0253_comfortheatmap.png\n",
      "Plot saved to C:\\Users\\tgerrish\\Desktop\\_0Ghadan21\\STREETFACELIFTS_P1\\plots2\\pt0253_profile_may.png\n",
      "Plot saved to C:\\Users\\tgerrish\\Desktop\\_0Ghadan21\\STREETFACELIFTS_P1\\plots2\\pt0253_profile_october.png\n",
      "Plot saved to C:\\Users\\tgerrish\\Desktop\\_0Ghadan21\\STREETFACELIFTS_P1\\plots2\\pt0457_reductionheatmap.png\n",
      "Plot saved to C:\\Users\\tgerrish\\Desktop\\_0Ghadan21\\STREETFACELIFTS_P1\\plots2\\pt0457_comfortheatmap.png\n",
      "Plot saved to C:\\Users\\tgerrish\\Desktop\\_0Ghadan21\\STREETFACELIFTS_P1\\plots2\\pt0457_profile_may.png\n",
      "Plot saved to C:\\Users\\tgerrish\\Desktop\\_0Ghadan21\\STREETFACELIFTS_P1\\plots2\\pt0457_profile_october.png\n",
      "Summary saved to C:\\Users\\tgerrish\\Desktop\\_0Ghadan21\\STREETFACELIFTS_P1\\plots2\\shoulder_reduction_summary.csv\n"
     ]
    }
   ],
   "source": [
    "# Construct results object\n",
    "utci = tc.plot.UTCI(of_utci, universal_thermal_climate_index, points)\n",
    "\n",
    "# Plot the results\n",
    "utci.generate_plots(rad_files=rad_files, boundary=boundary, plot_directory=plot_directory, focus_pts=focus_pts)"
   ]
  },
  {
   "cell_type": "code",
   "execution_count": null,
   "metadata": {},
   "outputs": [],
   "source": []
  }
 ],
 "metadata": {
  "kernelspec": {
   "display_name": "Python 3",
   "language": "python",
   "name": "python3"
  },
  "language_info": {
   "codemirror_mode": {
    "name": "ipython",
    "version": 3
   },
   "file_extension": ".py",
   "mimetype": "text/x-python",
   "name": "python",
   "nbconvert_exporter": "python",
   "pygments_lexer": "ipython3",
   "version": "3.7.6"
  }
 },
 "nbformat": 4,
 "nbformat_minor": 4
}
