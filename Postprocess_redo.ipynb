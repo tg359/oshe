{
 "cells": [
  {
   "cell_type": "code",
   "execution_count": 1,
   "metadata": {},
   "outputs": [
    {
     "data": {
      "text/html": [
       "<style>.container { width:95% !important; }</style>"
      ],
      "text/plain": [
       "<IPython.core.display.HTML object>"
      ]
     },
     "metadata": {},
     "output_type": "display_data"
    },
    {
     "name": "stdout",
     "output_type": "stream",
     "text": [
      "Failed to load paths from C:\\Users\\tgerrish\\Miniconda3\\lib\\site-packages\\honeybee\\config.json.\n",
      "Path to radiance is set to: c:/radiance\n"
     ]
    }
   ],
   "source": [
    "%matplotlib inline\n",
    "\n",
    "%load_ext autoreload\n",
    "%autoreload 2\n",
    "\n",
    "from IPython.core.display import display, HTML\n",
    "display(HTML(\"<style>.container { width:95% !important; }</style>\"))\n",
    "\n",
    "import os\n",
    "import pandas as pd\n",
    "import numpy as np\n",
    "pd.plotting.register_matplotlib_converters()\n",
    "import matplotlib.pyplot as plt\n",
    "from matplotlib import dates, ticker\n",
    "\n",
    "from ladybug.epw import EPW\n",
    "import oshe as tc"
   ]
  },
  {
   "cell_type": "code",
   "execution_count": 2,
   "metadata": {},
   "outputs": [],
   "source": [
    "# Inputs\n",
    "idd_file = r\"C:\\openstudio-2.9.0\\EnergyPlus\\Energy+.idd\"\n",
    "epw_file = r\"C:\\Users\\tgerrish\\OneDrive - BuroHappold\\0045131 Ghadan Future Parks\\UWG_ARE_AZ_Abu.Dhabi-Bateen.Exec.AP.412160_TMYx_URBAN_02.epw\"\n",
    "idx = pd.date_range(start=\"2018-01-01 00:30:00\", freq=\"60T\", periods=8760, closed=\"left\")\n",
    "# Load weatherfile data\n",
    "\n",
    "# Load epw\n",
    "epw = EPW(epw_file)\n",
    "\n",
    "# Get climate variables\n",
    "dbt = np.roll(np.array(epw.dry_bulb_temperature.values), -1)\n",
    "rh = np.roll(np.array(epw.relative_humidity.values), -1)\n",
    "ws = np.roll(np.array(epw.wind_speed.values), -1)\n",
    "hir = np.roll(np.array(epw.horizontal_infrared_radiation_intensity.values), -1)\n",
    "\n",
    "# Calculate hourly solar altitudes\n",
    "sun_altitude = np.roll(tc.helpers.sun_altitude(epw_file), -1)"
   ]
  },
  {
   "cell_type": "code",
   "execution_count": 27,
   "metadata": {
    "scrolled": true
   },
   "outputs": [
    {
     "name": "stdout",
     "output_type": "stream",
     "text": [
      "Universal thermal climate index calculated [0.10 seconds]\n",
      "Plot saved to C:\\Users\\tgerrish\\OneDrive - BuroHappold\\0045131 Ghadan Future Parks\\ChamberOfCommerce\\plots2\\Area2\\openfield_comfortheatmap.png\n",
      "Plot saved to C:\\Users\\tgerrish\\OneDrive - BuroHappold\\0045131 Ghadan Future Parks\\ChamberOfCommerce\\plots2\\Area2\\comfortable_hours_may.png\n",
      "Plot saved to C:\\Users\\tgerrish\\OneDrive - BuroHappold\\0045131 Ghadan Future Parks\\ChamberOfCommerce\\plots2\\Area2\\comfortable_hours_october.png\n",
      "Plot saved to C:\\Users\\tgerrish\\OneDrive - BuroHappold\\0045131 Ghadan Future Parks\\ChamberOfCommerce\\plots2\\Area2\\comfortable_hours_annual.png\n",
      "Plot saved to C:\\Users\\tgerrish\\OneDrive - BuroHappold\\0045131 Ghadan Future Parks\\ChamberOfCommerce\\plots2\\Area2\\context.png\n",
      "Plot saved to C:\\Users\\tgerrish\\OneDrive - BuroHappold\\0045131 Ghadan Future Parks\\ChamberOfCommerce\\plots2\\Area2\\context_ptlabel.png\n",
      "Plot saved to C:\\Users\\tgerrish\\OneDrive - BuroHappold\\0045131 Ghadan Future Parks\\ChamberOfCommerce\\plots2\\Area2\\context_focuspts.png\n",
      "Plot saved to C:\\Users\\tgerrish\\OneDrive - BuroHappold\\0045131 Ghadan Future Parks\\ChamberOfCommerce\\plots2\\Area2\\improvement_annual_morningshoulder.png\n",
      "Plot saved to C:\\Users\\tgerrish\\OneDrive - BuroHappold\\0045131 Ghadan Future Parks\\ChamberOfCommerce\\plots2\\Area2\\improvement_annual_afternoonshoulder.png\n",
      "Plot saved to C:\\Users\\tgerrish\\OneDrive - BuroHappold\\0045131 Ghadan Future Parks\\ChamberOfCommerce\\plots2\\Area2\\improvement_annual_morningafternoonshoulder.png\n",
      "Plot saved to C:\\Users\\tgerrish\\OneDrive - BuroHappold\\0045131 Ghadan Future Parks\\ChamberOfCommerce\\plots2\\Area2\\improvement_may_morningshoulder.png\n",
      "Plot saved to C:\\Users\\tgerrish\\OneDrive - BuroHappold\\0045131 Ghadan Future Parks\\ChamberOfCommerce\\plots2\\Area2\\improvement_may_afternoonshoulder.png\n",
      "Plot saved to C:\\Users\\tgerrish\\OneDrive - BuroHappold\\0045131 Ghadan Future Parks\\ChamberOfCommerce\\plots2\\Area2\\improvement_may_morningafternoonshoulder.png\n",
      "Plot saved to C:\\Users\\tgerrish\\OneDrive - BuroHappold\\0045131 Ghadan Future Parks\\ChamberOfCommerce\\plots2\\Area2\\improvement_october_morningshoulder.png\n",
      "Plot saved to C:\\Users\\tgerrish\\OneDrive - BuroHappold\\0045131 Ghadan Future Parks\\ChamberOfCommerce\\plots2\\Area2\\improvement_october_afternoonshoulder.png\n",
      "Plot saved to C:\\Users\\tgerrish\\OneDrive - BuroHappold\\0045131 Ghadan Future Parks\\ChamberOfCommerce\\plots2\\Area2\\improvement_october_morningafternoonshoulder.png\n",
      "Plot saved to C:\\Users\\tgerrish\\OneDrive - BuroHappold\\0045131 Ghadan Future Parks\\ChamberOfCommerce\\plots2\\Area2\\comfort_annual_morningshoulder.png\n",
      "Plot saved to C:\\Users\\tgerrish\\OneDrive - BuroHappold\\0045131 Ghadan Future Parks\\ChamberOfCommerce\\plots2\\Area2\\comfort_annual_afternoonshoulder.png\n",
      "Plot saved to C:\\Users\\tgerrish\\OneDrive - BuroHappold\\0045131 Ghadan Future Parks\\ChamberOfCommerce\\plots2\\Area2\\comfort_annual_morningafternoonshoulder.png\n",
      "Plot saved to C:\\Users\\tgerrish\\OneDrive - BuroHappold\\0045131 Ghadan Future Parks\\ChamberOfCommerce\\plots2\\Area2\\comfort_may_morningshoulder.png\n",
      "Plot saved to C:\\Users\\tgerrish\\OneDrive - BuroHappold\\0045131 Ghadan Future Parks\\ChamberOfCommerce\\plots2\\Area2\\comfort_may_afternoonshoulder.png\n",
      "Plot saved to C:\\Users\\tgerrish\\OneDrive - BuroHappold\\0045131 Ghadan Future Parks\\ChamberOfCommerce\\plots2\\Area2\\comfort_may_morningafternoonshoulder.png\n",
      "Plot saved to C:\\Users\\tgerrish\\OneDrive - BuroHappold\\0045131 Ghadan Future Parks\\ChamberOfCommerce\\plots2\\Area2\\comfort_october_morningshoulder.png\n",
      "Plot saved to C:\\Users\\tgerrish\\OneDrive - BuroHappold\\0045131 Ghadan Future Parks\\ChamberOfCommerce\\plots2\\Area2\\comfort_october_afternoonshoulder.png\n",
      "Plot saved to C:\\Users\\tgerrish\\OneDrive - BuroHappold\\0045131 Ghadan Future Parks\\ChamberOfCommerce\\plots2\\Area2\\comfort_october_morningafternoonshoulder.png\n",
      "Plot saved to C:\\Users\\tgerrish\\OneDrive - BuroHappold\\0045131 Ghadan Future Parks\\ChamberOfCommerce\\plots2\\Area2\\reduction_annual_morningshoulder.png\n",
      "Plot saved to C:\\Users\\tgerrish\\OneDrive - BuroHappold\\0045131 Ghadan Future Parks\\ChamberOfCommerce\\plots2\\Area2\\reduction_annual_afternoonshoulder.png\n",
      "Plot saved to C:\\Users\\tgerrish\\OneDrive - BuroHappold\\0045131 Ghadan Future Parks\\ChamberOfCommerce\\plots2\\Area2\\reduction_annual_morningafternoonshoulder.png\n",
      "Plot saved to C:\\Users\\tgerrish\\OneDrive - BuroHappold\\0045131 Ghadan Future Parks\\ChamberOfCommerce\\plots2\\Area2\\reduction_may_morningshoulder.png\n",
      "Plot saved to C:\\Users\\tgerrish\\OneDrive - BuroHappold\\0045131 Ghadan Future Parks\\ChamberOfCommerce\\plots2\\Area2\\reduction_may_afternoonshoulder.png\n",
      "Plot saved to C:\\Users\\tgerrish\\OneDrive - BuroHappold\\0045131 Ghadan Future Parks\\ChamberOfCommerce\\plots2\\Area2\\reduction_may_morningafternoonshoulder.png\n",
      "Plot saved to C:\\Users\\tgerrish\\OneDrive - BuroHappold\\0045131 Ghadan Future Parks\\ChamberOfCommerce\\plots2\\Area2\\reduction_october_morningshoulder.png\n",
      "Plot saved to C:\\Users\\tgerrish\\OneDrive - BuroHappold\\0045131 Ghadan Future Parks\\ChamberOfCommerce\\plots2\\Area2\\reduction_october_afternoonshoulder.png\n",
      "Plot saved to C:\\Users\\tgerrish\\OneDrive - BuroHappold\\0045131 Ghadan Future Parks\\ChamberOfCommerce\\plots2\\Area2\\reduction_october_morningafternoonshoulder.png\n",
      "Plot saved to C:\\Users\\tgerrish\\OneDrive - BuroHappold\\0045131 Ghadan Future Parks\\ChamberOfCommerce\\plots2\\Area2\\pt0013_reductionheatmap.png\n",
      "Plot saved to C:\\Users\\tgerrish\\OneDrive - BuroHappold\\0045131 Ghadan Future Parks\\ChamberOfCommerce\\plots2\\Area2\\pt0013_comfortheatmap.png\n",
      "Plot saved to C:\\Users\\tgerrish\\OneDrive - BuroHappold\\0045131 Ghadan Future Parks\\ChamberOfCommerce\\plots2\\Area2\\pt0013_profile_may.png\n",
      "Plot saved to C:\\Users\\tgerrish\\OneDrive - BuroHappold\\0045131 Ghadan Future Parks\\ChamberOfCommerce\\plots2\\Area2\\pt0013_profile_october.png\n",
      "Plot saved to C:\\Users\\tgerrish\\OneDrive - BuroHappold\\0045131 Ghadan Future Parks\\ChamberOfCommerce\\plots2\\Area2\\pt0058_reductionheatmap.png\n",
      "Plot saved to C:\\Users\\tgerrish\\OneDrive - BuroHappold\\0045131 Ghadan Future Parks\\ChamberOfCommerce\\plots2\\Area2\\pt0058_comfortheatmap.png\n",
      "Plot saved to C:\\Users\\tgerrish\\OneDrive - BuroHappold\\0045131 Ghadan Future Parks\\ChamberOfCommerce\\plots2\\Area2\\pt0058_profile_may.png\n",
      "Plot saved to C:\\Users\\tgerrish\\OneDrive - BuroHappold\\0045131 Ghadan Future Parks\\ChamberOfCommerce\\plots2\\Area2\\pt0058_profile_october.png\n",
      "Plot saved to C:\\Users\\tgerrish\\OneDrive - BuroHappold\\0045131 Ghadan Future Parks\\ChamberOfCommerce\\plots2\\Area2\\pt0101_reductionheatmap.png\n",
      "Plot saved to C:\\Users\\tgerrish\\OneDrive - BuroHappold\\0045131 Ghadan Future Parks\\ChamberOfCommerce\\plots2\\Area2\\pt0101_comfortheatmap.png\n",
      "Plot saved to C:\\Users\\tgerrish\\OneDrive - BuroHappold\\0045131 Ghadan Future Parks\\ChamberOfCommerce\\plots2\\Area2\\pt0101_profile_may.png\n",
      "Plot saved to C:\\Users\\tgerrish\\OneDrive - BuroHappold\\0045131 Ghadan Future Parks\\ChamberOfCommerce\\plots2\\Area2\\pt0101_profile_october.png\n",
      "Summary saved to C:\\Users\\tgerrish\\OneDrive - BuroHappold\\0045131 Ghadan Future Parks\\ChamberOfCommerce\\plots2\\Area2\\shoulder_reduction_summary.csv\n"
     ]
    }
   ],
   "source": [
    "# NV method processing\n",
    "\n",
    "_dir = r\"C:\\Users\\tgerrish\\OneDrive - BuroHappold\\0045131 Ghadan Future Parks\\CapitalGardens\"\n",
    "\n",
    "# Load Openfield MRT and calculate UTCI using same method as NV MRT > UTCI is generated\n",
    "of_mrt = pd.read_csv(r\"C:\\Users\\tgerrish\\OneDrive - BuroHappold\\0045131 Ghadan Future Parks\\openfield_nv.mrt\", header=None).values.T\n",
    "of_utci = tc.utci.universal_thermal_climate_index(dbt, of_mrt, ws, rh)[0]\n",
    "\n",
    "# Load MRT\n",
    "mean_radiant_temperature = pd.read_csv(_dir+\"\\MRT.csv\", header=None).values.T\n",
    "\n",
    "# Load PTS\n",
    "points = pd.read_csv(_dir+\"\\points.csv\", header=None).values\n",
    "\n",
    "# Load focus pts\n",
    "focus_pts = pd.read_csv(_dir + \"\\\\focus_pts.csv\", header=None).values.T[0]\n",
    "\n",
    "# Set radiance geometries\n",
    "rad_files = []\n",
    "for root, dirs, files in os.walk(_dir):\n",
    "    for file in files:\n",
    "        if file.endswith(\"opq.rad\") or file.endswith(\"glz.rad\"):\n",
    "             rad_files.append(os.path.join(root, file))\n",
    "\n",
    "# Calculate UTCI\n",
    "universal_thermal_climate_index = tc.utci.utci_parallel(\n",
    "        threads=8, \n",
    "        air_temperature=dbt, \n",
    "        mean_radiant_temperature=mean_radiant_temperature.T, \n",
    "        wind_speed=ws, \n",
    "        relative_humidity=rh\n",
    "    )\n",
    "\n",
    "# Create UTCI object\n",
    "utci = tc.plot.UTCI(of_utci, universal_thermal_climate_index, points)\n",
    "\n",
    "# Plot the results\n",
    "utci.generate_plots(rad_files=rad_files, focus_pts=focus_pts, boundary=None, plot_directory=_dir+\"\\plots2\")"
   ]
  },
  {
   "cell_type": "code",
   "execution_count": 28,
   "metadata": {},
   "outputs": [
    {
     "name": "stdout",
     "output_type": "stream",
     "text": [
      "Ground surface temperature simulation completed\n",
      "EnergyPlus results loaded\n",
      "Writing recipe contents to: C:\\Users\\tgerrish\\AppData\\Local\\Temp\\openfield\\gridbased_annual\n",
      "Calculating solar values...\n",
      "# Number of sun up hours: 4423\n",
      "Writing sun matrix to C:\\Users\\tgerrish\\AppData\\Local\\Temp\\openfield\\gridbased_annual\\sky\\sunmtx.smx\n",
      "Direct and diffuse solar radiation simulation completed\n",
      "Radiance results loaded\n",
      "Mean radiant temperature calculated [0.11 seconds]\n",
      "Universal thermal climate index calculated [0.14 seconds]\n"
     ]
    }
   ],
   "source": [
    "# SC method processing\n",
    "\n",
    "# Open-field MRT and UTCI calculation\n",
    "\n",
    "# Define ground material\n",
    "gnd_mat = tc.material.material_dict[\"CONCRETE\"]\n",
    "ground_zone = tc.geometry.Ground(gnd_mat, xy=5, depth=1.5, subsurface_size=5)\n",
    "\n",
    "# Calculate ground surface temperature\n",
    "of_srf_temp = tc.energyplus.run_energyplus(epw_file, idd_file, ground=ground_zone, shades=None, run=True)\n",
    "\n",
    "# Calculate incident solar direct and diffuse radiation\n",
    "of_dir_rad, of_dif_rad = tc.radiance.run_radiance(epw_file, ground=ground_zone, shades=None, run=True)\n",
    "\n",
    "# Calculate MRT\n",
    "of_mrt = tc.mrt.mean_radiant_temperature(surrounding_surfaces_temperature=of_srf_temp[0], horizontal_infrared_radiation_intensity=hir, diffuse_horizontal_solar=of_dif_rad.T[0], direct_normal_solar=of_dir_rad.T[0], sun_altitude=sun_altitude, ground_reflectivity=gnd_mat.reflectivity, sky_exposure=1)[0]\n",
    "\n",
    "# Calculate UTCI\n",
    "of_utci = tc.utci.universal_thermal_climate_index(dbt, of_mrt, ws, rh)"
   ]
  },
  {
   "cell_type": "code",
   "execution_count": 29,
   "metadata": {
    "code_folding": []
   },
   "outputs": [
    {
     "name": "stdout",
     "output_type": "stream",
     "text": [
      "EnergyPlus results loaded\n",
      "Radiance results loaded\n",
      "View-factored surface temperatures calculated\n"
     ]
    }
   ],
   "source": [
    "_dir = r\"C:\\Users\\tgerrish\\OneDrive - BuroHappold\\0045131 Ghadan Future Parks\\Municipality\\MUNICIPALITY\"\n",
    "\n",
    "# Load case recipe\n",
    "recipe = _dir + \"\\\\recipe.json\"\n",
    "reload = False\n",
    "\n",
    "# Load radiance geometries\n",
    "# Set radiance geometries\n",
    "rad_files = []\n",
    "for root, dirs, files in os.walk(_dir):\n",
    "    for file in files:\n",
    "        if file.endswith(\"opq.rad\") or file.endswith(\"glz.rad\"):\n",
    "             rad_files.append(os.path.join(root, file))\n",
    "\n",
    "# Load focus pts\n",
    "focus_pts = pd.read_csv(_dir + \"\\\\focus_pts.csv\", header=None).values.T[0]\n",
    "\n",
    "# Create output directory for generated images\n",
    "output_directory = os.path.dirname(os.path.dirname(recipe))\n",
    "plot_directory = os.path.join(os.path.dirname(recipe), \"plots2\")\n",
    "if not os.path.exists(plot_directory):\n",
    "    os.mkdir(plot_directory)\n",
    "\n",
    "# Load JSON\n",
    "d = tc.helpers.load_json(recipe)\n",
    "\n",
    "# Load surface view factors\n",
    "surface_view_factors = np.array(d[\"surface_view_factors\"])\n",
    "\n",
    "# Load sky view factors\n",
    "sky_view_factors = np.array([[i] for i in d[\"sky_view_factors\"]]) / 100 * 0.5\n",
    "\n",
    "# Load ground reflectivities\n",
    "ground_reflectivities = np.array([[i] for i in d[\"ground_reflectivities\"]])\n",
    "\n",
    "# Load plot tricontour plot \n",
    "boundary = np.array(d[\"boundary\"])[:, :-1]\n",
    "\n",
    "# Load points\n",
    "points = np.array(d[\"points\"])\n",
    "\n",
    "if not reload:\n",
    "    # Read EnergyPlus annual hourly surface temperature results\n",
    "    surface_temperatures = tc.helpers.load_energyplus_results(d[\"eplus_results\"])\n",
    "\n",
    "    # Read Radiance simulation annual hourly incident radiation results\n",
    "    radiation_direct, radiation_diffuse = tc.helpers.load_radiance_results(d[\"radiation_results\"])\n",
    "    \n",
    "    # Calculate generic sky temperature\n",
    "    skytemp = tc.oshe.sky_temperature(hir)\n",
    "\n",
    "    # Append sky temperature and air temperature onto end of surface temperatures\n",
    "    all_srf_temps = np.vstack([surface_temperatures, skytemp, dbt])\n",
    "\n",
    "    # Append sky view factor to end of surface view factors\n",
    "    all_vfs = np.hstack([surface_view_factors, sky_view_factors])\n",
    "\n",
    "    # Add view factor to end of each group, bringing total to 1\n",
    "    makeups = np.where(1 - all_vfs.sum(axis=1) <= 0, 0, 1 - all_vfs.sum(axis=1))\n",
    "    all_vfs = np.vstack([all_vfs.T, makeups]).T\n",
    "\n",
    "    # Normalise view factors to 0-1\n",
    "    all_vfs = all_vfs.T * (1 / all_vfs.sum(axis=1))\n",
    "\n",
    "    # Calculate overall surrounding surface temperature using view factors and individual surface temperatures\n",
    "    surrounding_surface_temperatures = np.power(np.matmul(all_vfs.T, np.power(all_srf_temps.T + 273.15, 4).T), 0.25) - 273.15\n",
    "    print(\"View-factored surface temperatures calculated\")"
   ]
  },
  {
   "cell_type": "code",
   "execution_count": 30,
   "metadata": {},
   "outputs": [
    {
     "name": "stdout",
     "output_type": "stream",
     "text": [
      "MRT calculated and written to C:\\Users\\tgerrish\\OneDrive - BuroHappold\\0045131 Ghadan Future Parks\\StreetFacelifts\\STREETFACELIFTS_P1\\result.mrt\n"
     ]
    }
   ],
   "source": [
    "# Calculate MRT and write to file\n",
    "\n",
    "mrt_path = os.path.join(os.path.dirname(recipe), \"result.mrt\")\n",
    "if not reload:\n",
    "    mean_radiant_temperature = tc.mrt.mrt_parallel(\n",
    "        threads=8, \n",
    "        surrounding_surfaces_temperature=surrounding_surface_temperatures, \n",
    "        horizontal_infrared_radiation_intensity=hir, \n",
    "        diffuse_horizontal_solar=radiation_diffuse, \n",
    "        direct_normal_solar=radiation_direct, \n",
    "        sun_altitude=sun_altitude, \n",
    "        ground_reflectivity=ground_reflectivities, \n",
    "        sky_exposure=sky_view_factors, \n",
    "        radiance=True\n",
    "    )\n",
    "\n",
    "    # Write to file\n",
    "    df_mrt = pd.DataFrame(mean_radiant_temperature.T)\n",
    "    df_mrt.round(6).to_csv(mrt_path, index=False)\n",
    "    print(\"MRT calculated and written to {}\".format(mrt_path))\n",
    "else:\n",
    "    mean_radiant_temperature = pd.read_csv(mrt_path).values.T\n",
    "    print(\"MRT reloaded from {}\".format(mrt_path))"
   ]
  },
  {
   "cell_type": "code",
   "execution_count": 31,
   "metadata": {},
   "outputs": [
    {
     "name": "stdout",
     "output_type": "stream",
     "text": [
      "UTCI calculated and written to C:\\Users\\tgerrish\\OneDrive - BuroHappold\\0045131 Ghadan Future Parks\\StreetFacelifts\\STREETFACELIFTS_P1\\result.utci\n"
     ]
    }
   ],
   "source": [
    "# Calculate UTCI and write to file\n",
    "\n",
    "utci_path = os.path.join(os.path.dirname(recipe), \"result.utci\")\n",
    "if not reload:\n",
    "    universal_thermal_climate_index = tc.utci.utci_parallel(\n",
    "        threads=8, \n",
    "        air_temperature=dbt, \n",
    "        mean_radiant_temperature=mean_radiant_temperature.T, \n",
    "        wind_speed=ws, \n",
    "        relative_humidity=rh\n",
    "    )\n",
    "\n",
    "    # Write to file\n",
    "    df_utci = pd.DataFrame(universal_thermal_climate_index.T)\n",
    "    df_utci.round(6).to_csv(utci_path, index=False)\n",
    "    print(\"UTCI calculated and written to {}\".format(utci_path))\n",
    "else:\n",
    "    universal_thermal_climate_index = pd.read_csv(utci_path).values.T\n",
    "    print(\"UTCI reloaded from {}\".format(utci_path))"
   ]
  },
  {
   "cell_type": "code",
   "execution_count": 32,
   "metadata": {},
   "outputs": [
    {
     "name": "stdout",
     "output_type": "stream",
     "text": [
      "Plot saved to C:\\Users\\tgerrish\\OneDrive - BuroHappold\\0045131 Ghadan Future Parks\\StreetFacelifts\\STREETFACELIFTS_P1\\plots2\\openfield_comfortheatmap.png\n",
      "Plot saved to C:\\Users\\tgerrish\\OneDrive - BuroHappold\\0045131 Ghadan Future Parks\\StreetFacelifts\\STREETFACELIFTS_P1\\plots2\\comfortable_hours_may.png\n",
      "Plot saved to C:\\Users\\tgerrish\\OneDrive - BuroHappold\\0045131 Ghadan Future Parks\\StreetFacelifts\\STREETFACELIFTS_P1\\plots2\\comfortable_hours_october.png\n",
      "Plot saved to C:\\Users\\tgerrish\\OneDrive - BuroHappold\\0045131 Ghadan Future Parks\\StreetFacelifts\\STREETFACELIFTS_P1\\plots2\\comfortable_hours_annual.png\n",
      "Plot saved to C:\\Users\\tgerrish\\OneDrive - BuroHappold\\0045131 Ghadan Future Parks\\StreetFacelifts\\STREETFACELIFTS_P1\\plots2\\context.png\n",
      "Plot saved to C:\\Users\\tgerrish\\OneDrive - BuroHappold\\0045131 Ghadan Future Parks\\StreetFacelifts\\STREETFACELIFTS_P1\\plots2\\context_ptlabel.png\n",
      "Plot saved to C:\\Users\\tgerrish\\OneDrive - BuroHappold\\0045131 Ghadan Future Parks\\StreetFacelifts\\STREETFACELIFTS_P1\\plots2\\context_focuspts.png\n",
      "Plot saved to C:\\Users\\tgerrish\\OneDrive - BuroHappold\\0045131 Ghadan Future Parks\\StreetFacelifts\\STREETFACELIFTS_P1\\plots2\\improvement_annual_morningshoulder.png\n",
      "Plot saved to C:\\Users\\tgerrish\\OneDrive - BuroHappold\\0045131 Ghadan Future Parks\\StreetFacelifts\\STREETFACELIFTS_P1\\plots2\\improvement_annual_afternoonshoulder.png\n",
      "Plot saved to C:\\Users\\tgerrish\\OneDrive - BuroHappold\\0045131 Ghadan Future Parks\\StreetFacelifts\\STREETFACELIFTS_P1\\plots2\\improvement_annual_morningafternoonshoulder.png\n",
      "Plot saved to C:\\Users\\tgerrish\\OneDrive - BuroHappold\\0045131 Ghadan Future Parks\\StreetFacelifts\\STREETFACELIFTS_P1\\plots2\\improvement_may_morningshoulder.png\n",
      "Plot saved to C:\\Users\\tgerrish\\OneDrive - BuroHappold\\0045131 Ghadan Future Parks\\StreetFacelifts\\STREETFACELIFTS_P1\\plots2\\improvement_may_afternoonshoulder.png\n",
      "Plot saved to C:\\Users\\tgerrish\\OneDrive - BuroHappold\\0045131 Ghadan Future Parks\\StreetFacelifts\\STREETFACELIFTS_P1\\plots2\\improvement_may_morningafternoonshoulder.png\n",
      "Plot saved to C:\\Users\\tgerrish\\OneDrive - BuroHappold\\0045131 Ghadan Future Parks\\StreetFacelifts\\STREETFACELIFTS_P1\\plots2\\improvement_october_morningshoulder.png\n",
      "Plot saved to C:\\Users\\tgerrish\\OneDrive - BuroHappold\\0045131 Ghadan Future Parks\\StreetFacelifts\\STREETFACELIFTS_P1\\plots2\\improvement_october_afternoonshoulder.png\n",
      "Plot saved to C:\\Users\\tgerrish\\OneDrive - BuroHappold\\0045131 Ghadan Future Parks\\StreetFacelifts\\STREETFACELIFTS_P1\\plots2\\improvement_october_morningafternoonshoulder.png\n",
      "Plot saved to C:\\Users\\tgerrish\\OneDrive - BuroHappold\\0045131 Ghadan Future Parks\\StreetFacelifts\\STREETFACELIFTS_P1\\plots2\\comfort_annual_morningshoulder.png\n",
      "Plot saved to C:\\Users\\tgerrish\\OneDrive - BuroHappold\\0045131 Ghadan Future Parks\\StreetFacelifts\\STREETFACELIFTS_P1\\plots2\\comfort_annual_afternoonshoulder.png\n",
      "Plot saved to C:\\Users\\tgerrish\\OneDrive - BuroHappold\\0045131 Ghadan Future Parks\\StreetFacelifts\\STREETFACELIFTS_P1\\plots2\\comfort_annual_morningafternoonshoulder.png\n",
      "Plot saved to C:\\Users\\tgerrish\\OneDrive - BuroHappold\\0045131 Ghadan Future Parks\\StreetFacelifts\\STREETFACELIFTS_P1\\plots2\\comfort_may_morningshoulder.png\n",
      "Plot saved to C:\\Users\\tgerrish\\OneDrive - BuroHappold\\0045131 Ghadan Future Parks\\StreetFacelifts\\STREETFACELIFTS_P1\\plots2\\comfort_may_afternoonshoulder.png\n",
      "Plot saved to C:\\Users\\tgerrish\\OneDrive - BuroHappold\\0045131 Ghadan Future Parks\\StreetFacelifts\\STREETFACELIFTS_P1\\plots2\\comfort_may_morningafternoonshoulder.png\n",
      "Plot saved to C:\\Users\\tgerrish\\OneDrive - BuroHappold\\0045131 Ghadan Future Parks\\StreetFacelifts\\STREETFACELIFTS_P1\\plots2\\comfort_october_morningshoulder.png\n",
      "Plot saved to C:\\Users\\tgerrish\\OneDrive - BuroHappold\\0045131 Ghadan Future Parks\\StreetFacelifts\\STREETFACELIFTS_P1\\plots2\\comfort_october_afternoonshoulder.png\n",
      "Plot saved to C:\\Users\\tgerrish\\OneDrive - BuroHappold\\0045131 Ghadan Future Parks\\StreetFacelifts\\STREETFACELIFTS_P1\\plots2\\comfort_october_morningafternoonshoulder.png\n",
      "Plot saved to C:\\Users\\tgerrish\\OneDrive - BuroHappold\\0045131 Ghadan Future Parks\\StreetFacelifts\\STREETFACELIFTS_P1\\plots2\\reduction_annual_morningshoulder.png\n",
      "Plot saved to C:\\Users\\tgerrish\\OneDrive - BuroHappold\\0045131 Ghadan Future Parks\\StreetFacelifts\\STREETFACELIFTS_P1\\plots2\\reduction_annual_afternoonshoulder.png\n",
      "Plot saved to C:\\Users\\tgerrish\\OneDrive - BuroHappold\\0045131 Ghadan Future Parks\\StreetFacelifts\\STREETFACELIFTS_P1\\plots2\\reduction_annual_morningafternoonshoulder.png\n",
      "Plot saved to C:\\Users\\tgerrish\\OneDrive - BuroHappold\\0045131 Ghadan Future Parks\\StreetFacelifts\\STREETFACELIFTS_P1\\plots2\\reduction_may_morningshoulder.png\n",
      "Plot saved to C:\\Users\\tgerrish\\OneDrive - BuroHappold\\0045131 Ghadan Future Parks\\StreetFacelifts\\STREETFACELIFTS_P1\\plots2\\reduction_may_afternoonshoulder.png\n",
      "Plot saved to C:\\Users\\tgerrish\\OneDrive - BuroHappold\\0045131 Ghadan Future Parks\\StreetFacelifts\\STREETFACELIFTS_P1\\plots2\\reduction_may_morningafternoonshoulder.png\n",
      "Plot saved to C:\\Users\\tgerrish\\OneDrive - BuroHappold\\0045131 Ghadan Future Parks\\StreetFacelifts\\STREETFACELIFTS_P1\\plots2\\reduction_october_morningshoulder.png\n",
      "Plot saved to C:\\Users\\tgerrish\\OneDrive - BuroHappold\\0045131 Ghadan Future Parks\\StreetFacelifts\\STREETFACELIFTS_P1\\plots2\\reduction_october_afternoonshoulder.png\n",
      "Plot saved to C:\\Users\\tgerrish\\OneDrive - BuroHappold\\0045131 Ghadan Future Parks\\StreetFacelifts\\STREETFACELIFTS_P1\\plots2\\reduction_october_morningafternoonshoulder.png\n",
      "Plot saved to C:\\Users\\tgerrish\\OneDrive - BuroHappold\\0045131 Ghadan Future Parks\\StreetFacelifts\\STREETFACELIFTS_P1\\plots2\\pt0004_reductionheatmap.png\n",
      "Plot saved to C:\\Users\\tgerrish\\OneDrive - BuroHappold\\0045131 Ghadan Future Parks\\StreetFacelifts\\STREETFACELIFTS_P1\\plots2\\pt0004_comfortheatmap.png\n",
      "Plot saved to C:\\Users\\tgerrish\\OneDrive - BuroHappold\\0045131 Ghadan Future Parks\\StreetFacelifts\\STREETFACELIFTS_P1\\plots2\\pt0004_profile_may.png\n",
      "Plot saved to C:\\Users\\tgerrish\\OneDrive - BuroHappold\\0045131 Ghadan Future Parks\\StreetFacelifts\\STREETFACELIFTS_P1\\plots2\\pt0004_profile_october.png\n",
      "Plot saved to C:\\Users\\tgerrish\\OneDrive - BuroHappold\\0045131 Ghadan Future Parks\\StreetFacelifts\\STREETFACELIFTS_P1\\plots2\\pt0026_reductionheatmap.png\n",
      "Plot saved to C:\\Users\\tgerrish\\OneDrive - BuroHappold\\0045131 Ghadan Future Parks\\StreetFacelifts\\STREETFACELIFTS_P1\\plots2\\pt0026_comfortheatmap.png\n",
      "Plot saved to C:\\Users\\tgerrish\\OneDrive - BuroHappold\\0045131 Ghadan Future Parks\\StreetFacelifts\\STREETFACELIFTS_P1\\plots2\\pt0026_profile_may.png\n",
      "Plot saved to C:\\Users\\tgerrish\\OneDrive - BuroHappold\\0045131 Ghadan Future Parks\\StreetFacelifts\\STREETFACELIFTS_P1\\plots2\\pt0026_profile_october.png\n",
      "Plot saved to C:\\Users\\tgerrish\\OneDrive - BuroHappold\\0045131 Ghadan Future Parks\\StreetFacelifts\\STREETFACELIFTS_P1\\plots2\\pt0046_reductionheatmap.png\n",
      "Plot saved to C:\\Users\\tgerrish\\OneDrive - BuroHappold\\0045131 Ghadan Future Parks\\StreetFacelifts\\STREETFACELIFTS_P1\\plots2\\pt0046_comfortheatmap.png\n",
      "Plot saved to C:\\Users\\tgerrish\\OneDrive - BuroHappold\\0045131 Ghadan Future Parks\\StreetFacelifts\\STREETFACELIFTS_P1\\plots2\\pt0046_profile_may.png\n",
      "Plot saved to C:\\Users\\tgerrish\\OneDrive - BuroHappold\\0045131 Ghadan Future Parks\\StreetFacelifts\\STREETFACELIFTS_P1\\plots2\\pt0046_profile_october.png\n",
      "Plot saved to C:\\Users\\tgerrish\\OneDrive - BuroHappold\\0045131 Ghadan Future Parks\\StreetFacelifts\\STREETFACELIFTS_P1\\plots2\\pt0091_reductionheatmap.png\n",
      "Plot saved to C:\\Users\\tgerrish\\OneDrive - BuroHappold\\0045131 Ghadan Future Parks\\StreetFacelifts\\STREETFACELIFTS_P1\\plots2\\pt0091_comfortheatmap.png\n",
      "Plot saved to C:\\Users\\tgerrish\\OneDrive - BuroHappold\\0045131 Ghadan Future Parks\\StreetFacelifts\\STREETFACELIFTS_P1\\plots2\\pt0091_profile_may.png\n",
      "Plot saved to C:\\Users\\tgerrish\\OneDrive - BuroHappold\\0045131 Ghadan Future Parks\\StreetFacelifts\\STREETFACELIFTS_P1\\plots2\\pt0091_profile_october.png\n",
      "Plot saved to C:\\Users\\tgerrish\\OneDrive - BuroHappold\\0045131 Ghadan Future Parks\\StreetFacelifts\\STREETFACELIFTS_P1\\plots2\\pt1851_reductionheatmap.png\n",
      "Plot saved to C:\\Users\\tgerrish\\OneDrive - BuroHappold\\0045131 Ghadan Future Parks\\StreetFacelifts\\STREETFACELIFTS_P1\\plots2\\pt1851_comfortheatmap.png\n"
     ]
    },
    {
     "name": "stdout",
     "output_type": "stream",
     "text": [
      "Plot saved to C:\\Users\\tgerrish\\OneDrive - BuroHappold\\0045131 Ghadan Future Parks\\StreetFacelifts\\STREETFACELIFTS_P1\\plots2\\pt1851_profile_may.png\n",
      "Plot saved to C:\\Users\\tgerrish\\OneDrive - BuroHappold\\0045131 Ghadan Future Parks\\StreetFacelifts\\STREETFACELIFTS_P1\\plots2\\pt1851_profile_october.png\n",
      "Plot saved to C:\\Users\\tgerrish\\OneDrive - BuroHappold\\0045131 Ghadan Future Parks\\StreetFacelifts\\STREETFACELIFTS_P1\\plots2\\pt2020_reductionheatmap.png\n",
      "Plot saved to C:\\Users\\tgerrish\\OneDrive - BuroHappold\\0045131 Ghadan Future Parks\\StreetFacelifts\\STREETFACELIFTS_P1\\plots2\\pt2020_comfortheatmap.png\n",
      "Plot saved to C:\\Users\\tgerrish\\OneDrive - BuroHappold\\0045131 Ghadan Future Parks\\StreetFacelifts\\STREETFACELIFTS_P1\\plots2\\pt2020_profile_may.png\n",
      "Plot saved to C:\\Users\\tgerrish\\OneDrive - BuroHappold\\0045131 Ghadan Future Parks\\StreetFacelifts\\STREETFACELIFTS_P1\\plots2\\pt2020_profile_october.png\n",
      "Summary saved to C:\\Users\\tgerrish\\OneDrive - BuroHappold\\0045131 Ghadan Future Parks\\StreetFacelifts\\STREETFACELIFTS_P1\\plots2\\shoulder_reduction_summary.csv\n"
     ]
    }
   ],
   "source": [
    "# Construct results object\n",
    "utci = tc.plot.UTCI(of_utci, universal_thermal_climate_index, points)\n",
    "\n",
    "# Plot the results\n",
    "utci.generate_plots(rad_files=rad_files, focus_pts=focus_pts, boundary=boundary, plot_directory=_dir+\"\\plots2\")"
   ]
  },
  {
   "cell_type": "code",
   "execution_count": null,
   "metadata": {},
   "outputs": [],
   "source": []
  }
 ],
 "metadata": {
  "kernelspec": {
   "display_name": "Python 3",
   "language": "python",
   "name": "python3"
  },
  "language_info": {
   "codemirror_mode": {
    "name": "ipython",
    "version": 3
   },
   "file_extension": ".py",
   "mimetype": "text/x-python",
   "name": "python",
   "nbconvert_exporter": "python",
   "pygments_lexer": "ipython3",
   "version": "3.7.6"
  }
 },
 "nbformat": 4,
 "nbformat_minor": 4
}
