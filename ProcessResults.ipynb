{
 "cells": [
  {
   "cell_type": "code",
   "execution_count": 1,
   "metadata": {},
   "outputs": [
    {
     "data": {
      "text/html": [
       "<style>.container { width:95% !important; }</style>"
      ],
      "text/plain": [
       "<IPython.core.display.HTML object>"
      ]
     },
     "metadata": {},
     "output_type": "display_data"
    }
   ],
   "source": [
    "%matplotlib inline\n",
    "%load_ext autoreload\n",
    "%autoreload 2\n",
    "\n",
    "from IPython.core.display import display, HTML\n",
    "display(HTML(\"<style>.container { width:95% !important; }</style>\"))\n",
    "\n",
    "import os\n",
    "import pandas as pd\n",
    "import numpy as np\n",
    "from ladybug.epw import EPW\n",
    "from ladybug.sunpath import Sunpath\n",
    "\n",
    "import oshe as tc\n",
    "idd_file = r\"C:\\openstudio-2.7.0\\EnergyPlus\\Energy+.idd\""
   ]
  },
  {
   "cell_type": "code",
   "execution_count": 2,
   "metadata": {},
   "outputs": [],
   "source": [
    "# Load case recipe\n",
    "\n",
    "json_location = \"./projects/AirportRd/P2/recipe.json\"\n",
    "reload = False\n",
    "output_directory = os.path.dirname(os.path.dirname(json_location))\n",
    "\n",
    "# Create output directory for generated images\n",
    "plot_directory = os.path.join(os.path.dirname(json_location), \"plots\")\n",
    "if not os.path.exists(plot_directory):\n",
    "    os.mkdir(plot_directory)\n",
    "\n",
    "# Load JSON\n",
    "d = tc.helpers.load_json(json_location)"
   ]
  },
  {
   "cell_type": "code",
   "execution_count": 3,
   "metadata": {},
   "outputs": [],
   "source": [
    "# Load data referenced during processing\n",
    "\n",
    "# Load epw\n",
    "epw_file = d[\"epw\"]\n",
    "epw = EPW(epw_file)\n",
    "\n",
    "# Load points\n",
    "points = np.array(d[\"points\"])\n",
    "\n",
    "# Get climate variables\n",
    "dbt = np.array(epw.dry_bulb_temperature.values)\n",
    "rh = np.array(epw.relative_humidity.values)\n",
    "ws = np.array(epw.wind_speed.values)\n",
    "hir = np.array(epw.horizontal_infrared_radiation_intensity.values)\n",
    "\n",
    "# Calculate hourly solar altitudes and hir for input\n",
    "sun_path = Sunpath.from_location(epw.location)\n",
    "sun_altitude = np.array([sun_path.calculate_sun_from_hoy(i).altitude for i in range(8760)])\n",
    "\n",
    "# Load surface view factors\n",
    "surface_view_factors = np.array(d[\"surface_view_factors\"])\n",
    "\n",
    "# Load sky view factors\n",
    "sky_view_factors = np.array([[i] for i in d[\"sky_view_factors\"]]) / 100 * 0.5\n",
    "\n",
    "# Load ground reflectivities\n",
    "ground_reflectivities = np.array([[i] for i in d[\"ground_reflectivities\"]])\n",
    "\n",
    "# Load plot tricontour plot \n",
    "boundary = np.array(d[\"boundary\"])[:, :-1]"
   ]
  },
  {
   "cell_type": "code",
   "execution_count": 4,
   "metadata": {},
   "outputs": [
    {
     "name": "stdout",
     "output_type": "stream",
     "text": [
      "EnergyPlus results loaded\n",
      "Radiance results loaded\n"
     ]
    }
   ],
   "source": [
    "# Read EnergyPlus annual ourly surface temperature results\n",
    "surface_temperatures = tc.helpers.load_energyplus_results(d[\"eplus_results\"])\n",
    "\n",
    "# Read Radiance simulation annual hourly incident radiation results\n",
    "radiation_direct, radiation_diffuse = tc.helpers.load_radiance_results(d[\"radiation_results\"])"
   ]
  },
  {
   "cell_type": "code",
   "execution_count": 5,
   "metadata": {},
   "outputs": [],
   "source": [
    "# Calculate surrounding surface temperature (including sky)\n",
    "\n",
    "# Calculate generic sky temperature\n",
    "sktemp = tc.oshe.calc_sky_temperature(hir)\n",
    "\n",
    "# Append sky temperature and air temperature onto end of surface temperatures\n",
    "all_srf_temps = np.vstack([surface_temperatures, sktemp, dbt])\n",
    "\n",
    "# Append sky view factor to end of surface view factors\n",
    "all_vfs = np.hstack([surface_view_factors, sky_view_factors])\n",
    "\n",
    "# Add view factor to end of each group, bringing total to 1\n",
    "makeups = np.where(1 - all_vfs.sum(axis=1) <= 0, 0, 1 - all_vfs.sum(axis=1))\n",
    "all_vfs = np.vstack([all_vfs.T, makeups]).T\n",
    "\n",
    "# Normalise view factors to 0-1\n",
    "all_vfs = all_vfs.T * (1 / all_vfs.sum(axis=1))\n",
    "\n",
    "# Calculate overall surrounding surface temperature using view factors and individual surface temperatures\n",
    "surrounding_surface_temperatures = np.power(np.matmul(all_vfs.T, np.power(all_srf_temps.T + 273.15, 4).T), 0.25) - 273.15"
   ]
  },
  {
   "cell_type": "code",
   "execution_count": 6,
   "metadata": {},
   "outputs": [],
   "source": [
    "# SURFACE TEMPERATURE - OLD METHOD\n",
    "\n",
    "# if not reload:\n",
    "#     # Normalise the view factors to range from 0-1 total\n",
    "#     surface_view_factors = np.array([np.divide(pt, pt.sum(), out=np.zeros_like(pt), where=pt.sum() != 0) for pt in surface_view_factors])\n",
    "\n",
    "#     # Calcluate the longwave MRT from visible surface temperature and view factors\n",
    "#     longwave_mrt = np.power(np.matmul(surface_view_factors, np.power(surface_temperatures.T + 273.15, 4).T), 0.25) - 273.15\n",
    "#     longwave_mrt = np.where(longwave_mrt == 0, 0, longwave_mrt - 273.15)\n",
    "\n",
    "#     # Find null indices (where longwave mrt is 0 throughout entire year indicating null conditions)\n",
    "#     null_indices = np.nonzero(longwave_mrt.sum(axis=1) == 0)[0]\n",
    "\n",
    "#     # Get average annual longwave conditions for all points\n",
    "#     median_lwmrt = np.percentile(longwave_mrt, 50, axis=0)\n",
    "\n",
    "#     # Replace null indices with median\n",
    "#     for ii in null_indices:\n",
    "#         longwave_mrt[ii] = median_lwmrt"
   ]
  },
  {
   "cell_type": "code",
   "execution_count": 7,
   "metadata": {},
   "outputs": [
    {
     "name": "stdout",
     "output_type": "stream",
     "text": [
      "Mean radiant temperature calculated [163.34 seconds]\n"
     ]
    }
   ],
   "source": [
    "# Calculate MRT and write to file\n",
    "\n",
    "if not reload:\n",
    "    \n",
    "    n_pts = 1000000\n",
    "    mean_radiant_temperature = tc.mrt.mean_radiant_temperature(\n",
    "        surrounding_surfaces_temperature=surrounding_surface_temperatures[:n_pts],\n",
    "        horizontal_infrared_radiation_intensity=hir, \n",
    "        diffuse_horizontal_solar=radiation_diffuse.T[:n_pts], \n",
    "        direct_normal_solar=radiation_direct.T[:n_pts], \n",
    "        sun_altitude=sun_altitude, \n",
    "        ground_reflectivity=0.01,#ground_reflectivities[:n_pts], # Remove refletced radiation as this is accounted for in the Radiance run\n",
    "        sky_exposure=sky_view_factors[:n_pts], \n",
    "        radiance=True\n",
    "    )[0]\n",
    "\n",
    "    # Write to file\n",
    "    df_mrt = pd.DataFrame(mean_radiant_temperature.T)\n",
    "    df_mrt.round(6).to_csv(os.path.join(os.path.dirname(json_location), \"result.mrt\"), index=False)\n",
    "    \n",
    "else:\n",
    "    mean_radiant_temperature = pd.read_csv(os.path.join(os.path.dirname(json_location), \"result.mrt\")).values.T\n",
    "    print(\"MRT reloaded from {}\".format(os.path.join(os.path.dirname(json_location), \"result.mrt\")))\n"
   ]
  },
  {
   "cell_type": "code",
   "execution_count": 8,
   "metadata": {},
   "outputs": [
    {
     "name": "stdout",
     "output_type": "stream",
     "text": [
      "Universal thermal climate index calculated [85.94 seconds]\n"
     ]
    }
   ],
   "source": [
    "# Calculate UTCI and write to file\n",
    "\n",
    "if not reload:\n",
    "    \n",
    "    n_pts = 1000000\n",
    "    universal_thermal_climate_index = tc.utci.universal_thermal_climate_index(dbt, mean_radiant_temperature[:n_pts], ws, rh)\n",
    "\n",
    "    # Write to file\n",
    "    df_utci = pd.DataFrame(universal_thermal_climate_index.T)\n",
    "    df_utci.round(6).to_csv(os.path.join(os.path.dirname(json_location), \"result.utci\"), index=False)\n",
    "\n",
    "else:\n",
    "    universal_thermal_climate_index = pd.read_csv(os.path.join(os.path.dirname(json_location), \"result.utci\")).values.T\n",
    "    print(\"UTCI reloaded from {}\".format(os.path.join(os.path.dirname(json_location), \"result.utci\")))\n"
   ]
  },
  {
   "cell_type": "code",
   "execution_count": 9,
   "metadata": {},
   "outputs": [
    {
     "name": "stdout",
     "output_type": "stream",
     "text": [
      "Ground surface temperature simulation completed\n",
      "EnergyPlus results loaded\n",
      "Direct and diffuse solar radiation simulation completed\n",
      "Radiance results loaded\n",
      "Mean radiant temperature calculated [0.08 seconds]\n",
      "MRT file written to projects\\AirportRd\\openfield/openfield.mrt\n",
      "Universal thermal climate index calculated [0.12 seconds]\n",
      "UTCI file written to projects\\AirportRd\\openfield/openfield.utci\n"
     ]
    }
   ],
   "source": [
    "# Simulate open field MRT and UTCI and write to file\n",
    "\n",
    "if not reload:\n",
    "    # Define ground\n",
    "    ground = tc.ground.Ground(ground_type=\"Concrete\")\n",
    "    \n",
    "    # Calculate UTCI for open field\n",
    "    ground.utci(epw_file=epw_file, idd_file=idd_file, case_name=\"openfield\", output_directory=output_directory, write=True)\n",
    "\n",
    "    of_mrt = ground.mean_radiant_temperature\n",
    "    of_utci = ground.universal_thermal_climate_index\n",
    "else:\n",
    "    of_utci = pd.read_csv(os.path.join(output_directory, \"openfield/openfield.utci\")).T.values\n"
   ]
  },
  {
   "cell_type": "code",
   "execution_count": 10,
   "metadata": {},
   "outputs": [
    {
     "name": "stdout",
     "output_type": "stream",
     "text": [
      "Calculating UTCI comfort levels\n",
      "Calculating UTCI openfield reduction levels\n"
     ]
    }
   ],
   "source": [
    "# Construct results object\n",
    "\n",
    "utci = tc.plot.UTCI(of_utci, universal_thermal_climate_index, points)"
   ]
  },
  {
   "cell_type": "code",
   "execution_count": 11,
   "metadata": {},
   "outputs": [
    {
     "data": {
      "text/html": [
       "<div>\n",
       "<style scoped>\n",
       "    .dataframe tbody tr th:only-of-type {\n",
       "        vertical-align: middle;\n",
       "    }\n",
       "\n",
       "    .dataframe tbody tr th {\n",
       "        vertical-align: top;\n",
       "    }\n",
       "\n",
       "    .dataframe thead th {\n",
       "        text-align: right;\n",
       "    }\n",
       "</style>\n",
       "<table border=\"1\" class=\"dataframe\">\n",
       "  <thead>\n",
       "    <tr style=\"text-align: right;\">\n",
       "      <th></th>\n",
       "      <th>Open field</th>\n",
       "      <th>UTCI</th>\n",
       "      <th>Time</th>\n",
       "      <th>Annual</th>\n",
       "      <th>May</th>\n",
       "      <th>October</th>\n",
       "    </tr>\n",
       "  </thead>\n",
       "  <tbody>\n",
       "    <tr>\n",
       "      <th>0</th>\n",
       "      <td>Comfort</td>\n",
       "      <td>9-26</td>\n",
       "      <td>07:00-10:00</td>\n",
       "      <td>44.726027</td>\n",
       "      <td>11.290323</td>\n",
       "      <td>19.354839</td>\n",
       "    </tr>\n",
       "    <tr>\n",
       "      <th>1</th>\n",
       "      <td>Comfort</td>\n",
       "      <td>9-26</td>\n",
       "      <td>16:00-19:00</td>\n",
       "      <td>34.739726</td>\n",
       "      <td>0.000000</td>\n",
       "      <td>0.645161</td>\n",
       "    </tr>\n",
       "    <tr>\n",
       "      <th>2</th>\n",
       "      <td>Comfort + slight heat stress</td>\n",
       "      <td>9-28</td>\n",
       "      <td>07:00-10:00</td>\n",
       "      <td>51.095890</td>\n",
       "      <td>29.838710</td>\n",
       "      <td>38.709677</td>\n",
       "    </tr>\n",
       "    <tr>\n",
       "      <th>3</th>\n",
       "      <td>Comfort + slight heat stress</td>\n",
       "      <td>9-28</td>\n",
       "      <td>16:00-19:00</td>\n",
       "      <td>39.013699</td>\n",
       "      <td>1.290323</td>\n",
       "      <td>3.870968</td>\n",
       "    </tr>\n",
       "  </tbody>\n",
       "</table>\n",
       "</div>"
      ],
      "text/plain": [
       "                     Open field  UTCI         Time     Annual        May  \\\n",
       "0                       Comfort  9-26  07:00-10:00  44.726027  11.290323   \n",
       "1                       Comfort  9-26  16:00-19:00  34.739726   0.000000   \n",
       "2  Comfort + slight heat stress  9-28  07:00-10:00  51.095890  29.838710   \n",
       "3  Comfort + slight heat stress  9-28  16:00-19:00  39.013699   1.290323   \n",
       "\n",
       "     October  \n",
       "0  19.354839  \n",
       "1   0.645161  \n",
       "2  38.709677  \n",
       "3   3.870968  "
      ]
     },
     "execution_count": 11,
     "metadata": {},
     "output_type": "execute_result"
    }
   ],
   "source": [
    "# Generate Openfield sumary\n",
    "\n",
    "utci.openfield_summary()"
   ]
  },
  {
   "cell_type": "code",
   "execution_count": 12,
   "metadata": {},
   "outputs": [],
   "source": [
    "# Load Radiance geometry\n",
    "\n",
    "rad_files = [\n",
    "    os.path.join(os.path.dirname(d[\"radiation_results\"]), \"scene\", \"opaque\", \"{}..opq.rad\".format(os.path.basename(os.path.dirname(json_location)))),\n",
    "    os.path.join(os.path.dirname(d[\"radiation_results\"]), \"scene\", \"glazing\", \"{}..glz.rad\".format(os.path.basename(os.path.dirname(json_location))))\n",
    "]"
   ]
  },
  {
   "cell_type": "code",
   "execution_count": 22,
   "metadata": {},
   "outputs": [
    {
     "name": "stdout",
     "output_type": "stream",
     "text": [
      "Plot saved to ./projects/AirportRd/P2\\plots\\_improvement_october_morningafternoonshoulder.png\n"
     ]
    },
    {
     "data": {
      "image/png": "[encoded data removed]",
      "text/plain": [
       "<Figure size 432x432 with 2 Axes>"
      ]
     },
     "metadata": {
      "needs_background": "light"
     },
     "output_type": "display_data"
    }
   ],
   "source": [
    "# Plot comfort and reduction plan\n",
    "\n",
    "for t in [\"comfort\", \"reduction\", \"improvement\"][-1:]:\n",
    "    for s_period in [\"Annual\", \"May\", \"October\"][-1:]:\n",
    "        for d_period in [\"Morning Shoulder\", \"Afternoon Shoulder\", \"Morning & Afternoon Shoulder\"][-1:]:\n",
    "            \n",
    "            sp = os.path.join(plot_directory, \"_{0:}_{1:}_{2:}.png\".format(t, s_period.lower(), d_period.lower()).replace(\"&\", \"\").replace(\" \", \"\"))\n",
    "            \n",
    "            utci.plot_plan(rad_files, _type=t, day_period=d_period, season_period=s_period, save_path=sp, pts=False, label_pts=None, legend=False, highlight_pt=None, clip=boundary, tone_color=\"k\", close=False)"
   ]
  },
  {
   "cell_type": "code",
   "execution_count": 14,
   "metadata": {},
   "outputs": [
    {
     "name": "stdout",
     "output_type": "stream",
     "text": [
      "Plot saved to ./projects/AirportRd/P2\\plots\\context.png\n",
      "Plot saved to ./projects/AirportRd/P2\\plots\\context_ptlabels.png\n"
     ]
    }
   ],
   "source": [
    "# Plot context plan\n",
    "\n",
    "utci.plot_plan(rad_files, save_path=os.path.join(plot_directory, \"context.png\"), pts=False, label_pts=None, legend=True, highlight_pt=None, tone_color=\"k\", close=True)\n",
    "utci.plot_plan(rad_files, save_path=os.path.join(plot_directory, \"context_ptlabels.png\"), pts=True, label_pts=2, legend=True, highlight_pt=None, tone_color=\"k\", close=True)"
   ]
  },
  {
   "cell_type": "code",
   "execution_count": 15,
   "metadata": {},
   "outputs": [
    {
     "name": "stdout",
     "output_type": "stream",
     "text": [
      "Plot saved to ./projects/AirportRd/P2\\plots\\focuspoints_location.png\n"
     ]
    }
   ],
   "source": [
    "# Review pt locations and choose focal pts for plotting\n",
    "\n",
    "if \"P1\" in json_location:\n",
    "    focus_pts = [1148, 1597, 1672, 1880]  # P1\n",
    "elif \"P2\" in json_location:\n",
    "    focus_pts = [829, 1344, 1222]  # P2\n",
    "elif \"P3\" in json_location:\n",
    "    focus_pts = [1416, 1516, 1524]  # P3\n",
    "elif \"FAMILYPARK1\" in json_location:\n",
    "    focus_pts = [328, 414, 566, 1046]\n",
    "elif \"FAMILYPARK2\" in json_location:\n",
    "    focus_pts = [100, 636, 860, 1038, 1088, 1202]\n",
    "\n",
    "utci.plot_plan(rad_files, save_path=os.path.join(plot_directory, \"focuspoints_location.png\"), pts=False, label_pts=None, legend=True, highlight_pt=focus_pts, tone_color=\"k\", close=True)"
   ]
  },
  {
   "cell_type": "code",
   "execution_count": 16,
   "metadata": {},
   "outputs": [
    {
     "name": "stdout",
     "output_type": "stream",
     "text": [
      "Plot saved to ./projects/AirportRd/P2\\plots\\pt0829_profile_may.png\n",
      "Plot saved to ./projects/AirportRd/P2\\plots\\pt0829_profile_october.png\n",
      "Plot saved to ./projects/AirportRd/P2\\plots\\pt0829_profile_mayoctober.png\n",
      "Plot saved to ./projects/AirportRd/P2\\plots\\pt1344_profile_may.png\n",
      "Plot saved to ./projects/AirportRd/P2\\plots\\pt1344_profile_october.png\n",
      "Plot saved to ./projects/AirportRd/P2\\plots\\pt1344_profile_mayoctober.png\n",
      "Plot saved to ./projects/AirportRd/P2\\plots\\pt1222_profile_may.png\n",
      "Plot saved to ./projects/AirportRd/P2\\plots\\pt1222_profile_october.png\n",
      "Plot saved to ./projects/AirportRd/P2\\plots\\pt1222_profile_mayoctober.png\n"
     ]
    }
   ],
   "source": [
    "# Plot UTCI day and heatmap comparison plots for focus pts\n",
    "\n",
    "for pt_idx in focus_pts[0:]:\n",
    "    for period in [\"May\", \"October\", \"May & October\"]:\n",
    "        sp = os.path.join(plot_directory, \"pt{0:04.0f}_profile_{1:}.png\".format(pt_idx, period.lower()).replace(\"&\", \"\").replace(\" \", \"\"))\n",
    "        utci.utci_day_comparison(point_idx=pt_idx, period=period, tone_color=\"k\", save_path=sp, close=True)"
   ]
  },
  {
   "cell_type": "code",
   "execution_count": 17,
   "metadata": {},
   "outputs": [
    {
     "name": "stdout",
     "output_type": "stream",
     "text": [
      "Plot saved to ./projects/AirportRd/P2\\plots\\openfield_comfortheatmap.png\n",
      "Plot saved to ./projects/AirportRd/P2\\plots\\pt0829_comfortheatmap.png\n",
      "Plot saved to ./projects/AirportRd/P2\\plots\\pt1344_comfortheatmap.png\n",
      "Plot saved to ./projects/AirportRd/P2\\plots\\pt1222_comfortheatmap.png\n"
     ]
    }
   ],
   "source": [
    "# Plot comfort heatmaps for each pt\n",
    "\n",
    "utci.utci_heatmap(save_path=os.path.join(plot_directory, \"openfield_comfortheatmap.png\".format(pt_idx)), close=True)\n",
    "\n",
    "for pt_idx in focus_pts[0:]:\n",
    "    sp = os.path.join(plot_directory, \"pt{0:04.0f}_comfortheatmap.png\".format(pt_idx))\n",
    "    utci.utci_heatmap(point_idx=pt_idx, save_path=sp, close=True)"
   ]
  },
  {
   "cell_type": "code",
   "execution_count": 18,
   "metadata": {},
   "outputs": [
    {
     "name": "stdout",
     "output_type": "stream",
     "text": [
      "Plot saved to ./projects/AirportRd/P2\\plots\\pt0829_reductionheatmap.png\n",
      "Plot saved to ./projects/AirportRd/P2\\plots\\pt1344_reductionheatmap.png\n",
      "Plot saved to ./projects/AirportRd/P2\\plots\\pt1222_reductionheatmap.png\n"
     ]
    }
   ],
   "source": [
    "# Plot reduction heatmaps for each pt\n",
    "\n",
    "for pt_idx in focus_pts[0:]:\n",
    "    sp = os.path.join(plot_directory, \"pt{0:04.0f}_reductionheatmap.png\".format(pt_idx))\n",
    "    utci.utci_reduction_heatmap(point_idx=pt_idx, save_path=sp, close=True)"
   ]
  },
  {
   "cell_type": "code",
   "execution_count": 20,
   "metadata": {},
   "outputs": [
    {
     "name": "stdout",
     "output_type": "stream",
     "text": [
      "Contour plots joined in ./projects/AirportRd/P2\\plots\\_comfort__collection.png\n",
      "Contour plots joined in ./projects/AirportRd/P2\\plots\\_reduction__collection.png\n",
      "Contour plots joined in ./projects/AirportRd/P2\\plots\\_improvement__collection.png\n",
      "Point plots joined in ./projects/AirportRd/P2\\plots\\pt0829_collected.png\n",
      "Point plots joined in ./projects/AirportRd/P2\\plots\\pt1344_collected.png\n",
      "Point plots joined in ./projects/AirportRd/P2\\plots\\pt1222_collected.png\n"
     ]
    }
   ],
   "source": [
    "# Tile images for ease of inserting into Word!\n",
    "\n",
    "from PIL import Image\n",
    "\n",
    "def get_concat_h2(im1, im2):\n",
    "    dst = Image.new('RGB', (im1.width + im2.width, im1.height))\n",
    "    dst.paste(im1, (0, 0))\n",
    "    dst.paste(im2, (im1.width, 0))\n",
    "    return dst\n",
    "\n",
    "def get_concat_h3(im1, im2, im3):\n",
    "    dst = Image.new('RGB', (im1.width + im2.width + im3.width, im1.height))\n",
    "    dst.paste(im1, (0, 0))\n",
    "    dst.paste(im2, (im1.width, 0))\n",
    "    dst.paste(im3, (im1.width + im2.width, 0))\n",
    "    return dst\n",
    "\n",
    "def get_concat_v(im1, im2):\n",
    "    dst = Image.new('RGB', (im1.width, im1.height + im2.height))\n",
    "    dst.paste(im1, (0, 0))\n",
    "    dst.paste(im2, (0, im1.height))\n",
    "    return dst\n",
    "\n",
    "def get_concat_v3(im1, im2, im3):\n",
    "    dst = Image.new('RGB', (im1.width, im1.height + im2.height + im3.height))\n",
    "    dst.paste(im1, (0, 0))\n",
    "    dst.paste(im2, (0, im1.height))\n",
    "    dst.paste(im3, (0, im1.height + im2.height))\n",
    "    return dst\n",
    "\n",
    "for t in [\"comfort\", \"reduction\", \"improvement\"][0:]:\n",
    "    column = []\n",
    "    for s_period in [\"Annual\", \"May\", \"October\"][0:]:\n",
    "        row = []\n",
    "        for d_period in [\"Morning Shoulder\", \"Afternoon Shoulder\", \"Morning & Afternoon Shoulder\"][0:-1]:\n",
    "            \n",
    "            sp = os.path.join(plot_directory, \"_{0:}_{1:}_{2:}.png\".format(t, s_period.lower(), d_period.lower()).replace(\"&\", \"\").replace(\" \", \"\"))\n",
    "            row.append(Image.open(sp))\n",
    "        column.append(row)\n",
    "\n",
    "    b = []\n",
    "    for r in column:\n",
    "        b.append(get_concat_h2(r[0], r[1]))\n",
    "    \n",
    "    c = get_concat_v3(b[0], b[1], b[2])\n",
    "    planpath = os.path.join(plot_directory, \"_{0:}__collection.png\".format(t).replace(\"&\", \"\").replace(\" \", \"\"))\n",
    "    print(\"Contour plots joined in {}\".format(planpath))\n",
    "    c.save(planpath)\n",
    "\n",
    "for pt_idx in focus_pts[0:]:\n",
    "    \n",
    "    spcomf = Image.open(os.path.join(plot_directory, \"pt{0:04.0f}_comfortheatmap.png\".format(pt_idx)))\n",
    "    spred = Image.open(os.path.join(plot_directory, \"pt{0:04.0f}_reductionheatmap.png\".format(pt_idx)))\n",
    "    \n",
    "#     fix image width issue\n",
    "    # profiles\n",
    "    st = []\n",
    "    for period in [\"May\", \"October\"]:\n",
    "        sp = os.path.join(plot_directory, \"pt{0:04.0f}_profile_{1:}.png\".format(pt_idx, period.lower()).replace(\"&\", \"\").replace(\" \", \"\"))\n",
    "        st.append(Image.open(sp))\n",
    "    a = get_concat_h2(st[0], st[1])\n",
    "    a.save(os.path.join(plot_directory, \"pt{0:04.0f}_profile_collected.png\".format(pt_idx).replace(\"&\", \"\").replace(\" \", \"\")))\n",
    "    # resize profiles\n",
    "    basewidth = 4470\n",
    "    wpercent = (basewidth/float(a.size[0]))\n",
    "    hsize = int((float(a.size[1])*float(wpercent)))\n",
    "    a = a.resize((basewidth, hsize), Image.ANTIALIAS)\n",
    "    b = get_concat_v3(spcomf, spred, a)\n",
    "    point_path = os.path.join(plot_directory, \"pt{0:04.0f}_collected.png\".format(pt_idx).replace(\"&\", \"\").replace(\" \", \"\"))\n",
    "    print(\"Point plots joined in {}\".format(point_path))\n",
    "    b.save(point_path)"
   ]
  },
  {
   "cell_type": "code",
   "execution_count": null,
   "metadata": {},
   "outputs": [],
   "source": []
  },
  {
   "cell_type": "code",
   "execution_count": null,
   "metadata": {},
   "outputs": [],
   "source": []
  },
  {
   "cell_type": "code",
   "execution_count": null,
   "metadata": {},
   "outputs": [],
   "source": []
  }
 ],
 "metadata": {
  "kernelspec": {
   "display_name": "Python 3",
   "language": "python",
   "name": "python3"
  },
  "language_info": {
   "codemirror_mode": {
    "name": "ipython",
    "version": 3
   },
   "file_extension": ".py",
   "mimetype": "text/x-python",
   "name": "python",
   "nbconvert_exporter": "python",
   "pygments_lexer": "ipython3",
   "version": "3.7.0"
  }
 },
 "nbformat": 4,
 "nbformat_minor": 2
}
