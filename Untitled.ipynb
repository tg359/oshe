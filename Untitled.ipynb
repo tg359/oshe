{
 "cells": [
  {
   "cell_type": "code",
   "execution_count": 1,
   "metadata": {},
   "outputs": [],
   "source": [
    "import json\n",
    "\n",
    "with open(\"C:/Users/tgerrish/Desktop/example_record.json\", \"r\") as f:\n",
    "    d = json.load(f)\n",
    "    "
   ]
  },
  {
   "cell_type": "code",
   "execution_count": 2,
   "metadata": {},
   "outputs": [
    {
     "data": {
      "text/plain": [
       "{'AddedBy': 'Leslie Wilson',\n",
       " 'BREEAM': {'CertificationDate': '1974-01-21',\n",
       "  'Comments': 'Agent six third become. Age or heart somebody only area teach. Wind sell young kitchen audience write see along.\\nCompany even news one law lead. Citizen past identify.',\n",
       "  'Rating': 'Pass',\n",
       "  'Scheme': 'Offices',\n",
       "  'ScorePercentage': 51},\n",
       " 'BespokeFrameworks': {'Comments': 'Training method day understand meeting must successful. Great property owner. Daughter take age follow.\\nPhone staff it still firm.'},\n",
       " 'Comments': 'Event leader all western. Set do together expert determine. Article customer floor make.\\nCongress within street. Gas where friend cause decide give.\\nAttention already may they others.',\n",
       " 'EmbodiedCarbon': {'Comments': 'Food agree much. Not lawyer painting carry he. Food machine read expect generation.'},\n",
       " 'EnergyCompliance': {'ASHRAE901': {'Comments': 'General history often stop.\\nSummer later age allow card. Goal local action world. Natural happy local put need bit executive.',\n",
       "   'Electricity': [{'Consumption': 20.55, 'Units': 'kWh/m2/yr'}],\n",
       "   'FuelConsumption': [{'Consumption': 25,\n",
       "     'Type': 'Diesel',\n",
       "     'Units': 'btu/sqft/yr'},\n",
       "    {'Consumption': 42.7, 'Type': 'Coal', 'Units': 'btu/sqft/yr'}],\n",
       "   'RenewablesGeneration': [{'Generation': 73.19,\n",
       "     'Type': 'Wind',\n",
       "     'Units': 'kWh/yr'}]},\n",
       "  'DEC': {'Comments': 'Real nice key benefit think. Behind life glass myself approach open do lead.',\n",
       "   'DECRating': 'G',\n",
       "   'Electricity': [{'Consumption': 83.68, 'Units': 'kWh/m2/yr'}],\n",
       "   'FuelConsumption': [{'Consumption': 76.14,\n",
       "     'Type': 'Natural Gas',\n",
       "     'Units': 'kWh/m2/yr'},\n",
       "    {'Consumption': 87.67, 'Type': 'Biomass', 'Units': 'kWh/m2/yr'}],\n",
       "   'RenewablesGeneration': [{'Generation': 91.28,\n",
       "     'Type': 'Wind',\n",
       "     'Units': 'kWh/yr'}]},\n",
       "  'EPC': {'Comments': 'Air fast mind bed guy. Push community challenge part piece.\\nUsually at issue meet kind strong. Candidate manager seem.\\nAlone style fly policy old. Without choose feeling turn yeah.',\n",
       "   'EPCRating': 'B',\n",
       "   'Electricity': [{'Consumption': 17.96, 'Units': 'kWh/m2/yr'}],\n",
       "   'FuelConsumption': [{'Consumption': 79.16,\n",
       "     'Type': 'Biomass',\n",
       "     'Units': 'btu/sqft/yr'},\n",
       "    {'Consumption': 21.08, 'Type': 'Coal', 'Units': 'btu/sqft/yr'}],\n",
       "   'RenewablesGeneration': [{'Generation': 51.13,\n",
       "     'Type': 'Wind',\n",
       "     'Units': 'kWh/yr'}]}},\n",
       " 'EnergyMeasured': {'Comments': 'Speak born certain short life song us. Democrat us opportunity white man describe serious.',\n",
       "  'Electricity': [{'Consumption': 52.22, 'Units': 'kWh/m2/yr'}],\n",
       "  'FuelConsumption': [{'Consumption': 91.71,\n",
       "    'Type': 'Diesel',\n",
       "    'Units': 'btu/sqft/yr'},\n",
       "   {'Consumption': 35.02, 'Type': 'Natural Gas', 'Units': 'btu/sqft/yr'}],\n",
       "  'RenewablesGeneration': [{'Generation': 65.28,\n",
       "    'Type': 'Wind',\n",
       "    'Units': 'kWh/yr'}]},\n",
       " 'EnergyPredicted': {'Comments': 'Single ready moment grow concern. Stuff book anyone step near base able.\\nAge as arm training. Time research behind out lead agent sense that. Sort miss about what player.',\n",
       "  'Electricity': [{'Consumption': 23.29, 'Units': 'btu/sqft/yr'}],\n",
       "  'FuelConsumption': [{'Consumption': 46.75,\n",
       "    'Type': 'Coal',\n",
       "    'Units': 'btu/sqft/yr'},\n",
       "   {'Consumption': 99.49, 'Type': 'Natural Gas', 'Units': 'kWh/m2/yr'}],\n",
       "  'RenewablesGeneration': [{'Generation': 79.45,\n",
       "    'Type': 'Geothermal',\n",
       "    'Units': 'kWh/yr'}]},\n",
       " 'FloorArea': {'Units': 'm2 NLA', 'Value': 47},\n",
       " 'LEED': {'CertificationDate': '1992-02-08',\n",
       "  'Comments': 'Set media health grow new federal. Thank center any allow national analysis time. Over management war station decision Congress. Eat many physical yet property.',\n",
       "  'Rating': 'Silver',\n",
       "  'RatingSystem': 'Volume supplement',\n",
       "  'Score': 9},\n",
       " 'Location': {'Country': 'Saint Pierre and Miquelon',\n",
       "  'Latitude': 68.925846,\n",
       "  'Longitude': 58.321097},\n",
       " 'Occupancy': {'Units': 'people', 'Value': 259},\n",
       " 'ProjectName': 'cultivate cross-media users',\n",
       " 'ProjectNumber': 375264,\n",
       " 'Sector': 'Commercial',\n",
       " 'SiteName': 'South David',\n",
       " 'Type': 'Restoration',\n",
       " 'WELL': {'CertificationDate': '2002-10-22',\n",
       "  'Comments': 'Market couple action shoulder. Bank key lawyer talk.',\n",
       "  'Rating': 'Silver'},\n",
       " 'Year': 2003}"
      ]
     },
     "execution_count": 2,
     "metadata": {},
     "output_type": "execute_result"
    }
   ],
   "source": [
    "d"
   ]
  }
 ],
 "metadata": {
  "kernelspec": {
   "display_name": "Python 3",
   "language": "python",
   "name": "python3"
  },
  "language_info": {
   "codemirror_mode": {
    "name": "ipython",
    "version": 3
   },
   "file_extension": ".py",
   "mimetype": "text/x-python",
   "name": "python",
   "nbconvert_exporter": "python",
   "pygments_lexer": "ipython3",
   "version": "3.7.6"
  }
 },
 "nbformat": 4,
 "nbformat_minor": 4
}
